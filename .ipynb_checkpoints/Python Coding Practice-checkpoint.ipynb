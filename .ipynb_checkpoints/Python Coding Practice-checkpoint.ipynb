{
 "cells": [
  {
   "cell_type": "markdown",
   "metadata": {},
   "source": [
    "Given an array of integers, return indices of the two numbers such that they add up to a specific target.\n",
    "\n",
    "You may assume that each input would have exactly one solution, and you may not use the same element twice.\n",
    "\n",
    "Example:\n",
    "\n",
    "Given nums = [2, 7, 11, 15], target = 9,\n",
    "\n",
    "Because nums[0] + nums[1] = 2 + 7 = 9,\n",
    "return [0, 1]."
   ]
  },
  {
   "cell_type": "code",
   "execution_count": 50,
   "metadata": {},
   "outputs": [
    {
     "data": {
      "text/plain": [
       "{0: 2, 1: 7}"
      ]
     },
     "execution_count": 50,
     "metadata": {},
     "output_type": "execute_result"
    }
   ],
   "source": [
    "# from web\n",
    "class Subject():\n",
    "    def twosum(self, nums, target):\n",
    "        lookup = {}\n",
    "        for cnt, num in enumerate(nums):\n",
    "            if target - num in lookup:\n",
    "                return lookup[target-num], cnt\n",
    "            lookup[num] = cnt \n",
    "\n",
    "nums = [2, 7, 11, 15]\n",
    "target = 9\n",
    "twosum(nums, target)"
   ]
  },
  {
   "cell_type": "code",
   "execution_count": 34,
   "metadata": {
    "collapsed": true
   },
   "outputs": [],
   "source": [
    "# my solution\n",
    "def twosum(nums, target):\n",
    "    solution = {}\n",
    "    for i,n in enumerate(nums):\n",
    "        if (target - n) in nums:\n",
    "            solution[i] = n\n",
    "    return solution"
   ]
  },
  {
   "cell_type": "code",
   "execution_count": 35,
   "metadata": {},
   "outputs": [
    {
     "data": {
      "text/plain": [
       "{0: 2, 1: 7}"
      ]
     },
     "execution_count": 35,
     "metadata": {},
     "output_type": "execute_result"
    }
   ],
   "source": [
    "nums = [2, 7, 11, 15]\n",
    "target = 9\n",
    "twosum(nums, target)"
   ]
  },
  {
   "cell_type": "markdown",
   "metadata": {},
   "source": [
    "NO IDEA:\n",
    "You are given two non-empty linked lists representing two non-negative integers. The digits are stored in reverse order and each of their nodes contain a single digit. Add the two numbers and return it as a linked list.\n",
    "\n",
    "You may assume the two numbers do not contain any leading zero, except the number 0 itself."
   ]
  },
  {
   "cell_type": "code",
   "execution_count": 39,
   "metadata": {
    "collapsed": true
   },
   "outputs": [],
   "source": [
    "# def lengthOfLongestSubstring(word):\n",
    "#     n = len(word)\n",
    "#     longest = 0\n",
    "#     for i in range(n):\n",
    "#         seen = set()\n",
    "#         for j in range(i, n):\n",
    "#             if word[j] in seen: break\n",
    "#             seen.add(word[j])\n",
    "#         longest = max(len(seen), longest)\n",
    "#     return longest"
   ]
  },
  {
   "cell_type": "code",
   "execution_count": 41,
   "metadata": {},
   "outputs": [
    {
     "data": {
      "text/plain": [
       "4"
      ]
     },
     "execution_count": 41,
     "metadata": {},
     "output_type": "execute_result"
    }
   ],
   "source": [
    "lengthOfLongestSubstring('abcad')"
   ]
  },
  {
   "cell_type": "markdown",
   "metadata": {
    "collapsed": true
   },
   "source": [
    "Count ways to express a number as sum of consecutive numbers\n",
    "Given a number N, find the number of ways to represent this number as a sum of 2 or more consecutive natural numbers."
   ]
  },
  {
   "cell_type": "markdown",
   "metadata": {},
   "source": [
    "## Find minimum difference between any two elements | Set 2"
   ]
  },
  {
   "cell_type": "code",
   "execution_count": 65,
   "metadata": {},
   "outputs": [
    {
     "name": "stdout",
     "output_type": "stream",
     "text": [
      "the function took 0.000026 to run\n",
      "2\n"
     ]
    }
   ],
   "source": [
    "import numpy as np\n",
    "import itertools\n",
    "import time\n",
    "def min_abs_diff(values):\n",
    "    start_time = time.time()\n",
    "    #print('values: {}'.format(values))\n",
    "    combinations = set(list(itertools.permutations(values, 2)))\n",
    "    results = []\n",
    "    for i in combinations:\n",
    "        results.append(abs(i[0] - i[1]))\n",
    "    print('the function took {:5f} to run'.format(time.time() - start_time))\n",
    "    return(min(set(results)))\n",
    "values = np.array([9,11,21,23])\n",
    "print(min_abs_diff(values))"
   ]
  },
  {
   "cell_type": "markdown",
   "metadata": {},
   "source": [
    "### Number of subsets with zero sum"
   ]
  },
  {
   "cell_type": "code",
   "execution_count": 66,
   "metadata": {},
   "outputs": [
    {
     "name": "stdout",
     "output_type": "stream",
     "text": [
      "4\n"
     ]
    }
   ],
   "source": [
    "import numpy as np\n",
    "import itertools\n",
    "values = np.array([2,2,-8,-4,4])\n",
    "\n",
    "#print(sum(values))\n",
    "\n",
    "#print(list(itertools.combinations(values,2)))\n",
    "combinations = []\n",
    "def subset_sum_0(values):\n",
    "    '''comment'''\n",
    "    for i in range (0,values.shape[0] + 1):\n",
    "        combinations.append(list(itertools.combinations(values,i)))\n",
    "    items = [s for x in combinations for s in x] # to concatenate lists into one long list.\n",
    "    cnt = 0\n",
    "    for c in items:\n",
    "        if sum(c) == 0:\n",
    "            cnt += 1\n",
    "    return cnt\n",
    "\n",
    "\n",
    "print(subset_sum_0(values))"
   ]
  },
  {
   "cell_type": "markdown",
   "metadata": {},
   "source": [
    "### Pair with largest sum which is less than K in the array\n",
    "https://www.geeksforgeeks.org/pair-with-largest-sum-which-is-less-than-k-in-the-array/"
   ]
  },
  {
   "cell_type": "code",
   "execution_count": 78,
   "metadata": {},
   "outputs": [
    {
     "name": "stdout",
     "output_type": "stream",
     "text": [
      "it took 0.000025\n",
      "{'values': (100, 10), 'sum': 110}\n"
     ]
    }
   ],
   "source": [
    "import itertools\n",
    "import numpy as np\n",
    "import time\n",
    "\n",
    "\n",
    "values =np.array([5, 20, 110, 100, 10])\n",
    "dictionary = {}\n",
    "k = 120\n",
    "c = 2 \n",
    "def max_sum_pair(values,k,c):\n",
    "    start_time = time.time()\n",
    "    combinations = list(itertools.combinations(values,c))\n",
    "    for pairs in combinations:\n",
    "        if sum(pairs) < k:\n",
    "            score = pairs[0] + pairs[1]\n",
    "            dictionary = {'values':pairs,'sum':score}\n",
    "    print('it took {:5f}'.format(time.time() - start_time))\n",
    "    return dictionary\n",
    "\n",
    "        \n",
    "print(max_sum_pair(values,k,c))"
   ]
  },
  {
   "cell_type": "markdown",
   "metadata": {},
   "source": [
    "### Greatest contiguous sub-array of size K\n",
    "Given an array arr[] of integers and an integer K, the task is to find the greatest contiguous sub-array of size K. Sub-array X is said to be greater than sub-array Y if the first non-matching element in both the sub-arrays has a greater value in X than in Y."
   ]
  },
  {
   "cell_type": "code",
   "execution_count": 109,
   "metadata": {},
   "outputs": [
    {
     "data": {
      "text/plain": [
       "[4, 3, 2, 5]"
      ]
     },
     "execution_count": 109,
     "metadata": {},
     "output_type": "execute_result"
    }
   ],
   "source": [
    "import numpy as np\n",
    "\n",
    "def possible_subarrays(values,k):\n",
    "    i = 0\n",
    "    list_values = []\n",
    "    while i < len(values) + 1:\n",
    "        if len(values[i:k]) > 1 :\n",
    "            list_values.append(values[i:k].tolist())\n",
    "        i +=1\n",
    "        k+=1\n",
    "    \n",
    "    a = []\n",
    "    for val in list_values:\n",
    "        a.append(val[0])\n",
    "    result = list_values[a.index(max(a))]\n",
    "    return result"
   ]
  },
  {
   "cell_type": "code",
   "execution_count": 110,
   "metadata": {},
   "outputs": [
    {
     "data": {
      "text/plain": [
       "[4, 3, 2, 5]"
      ]
     },
     "execution_count": 110,
     "metadata": {},
     "output_type": "execute_result"
    }
   ],
   "source": [
    "values = np.array([1, 4, 3, 2, 5])\n",
    "k = 4\n",
    "possible_subarrays(values,k)"
   ]
  },
  {
   "cell_type": "code",
   "execution_count": 111,
   "metadata": {},
   "outputs": [
    {
     "data": {
      "text/plain": [
       "[9, 2, 7]"
      ]
     },
     "execution_count": 111,
     "metadata": {},
     "output_type": "execute_result"
    }
   ],
   "source": [
    "values = np.array([1, 9, 2, 7, 9, 3])\n",
    "k = 3\n",
    "possible_subarrays(values,k)"
   ]
  },
  {
   "cell_type": "markdown",
   "metadata": {},
   "source": [
    "### Find the smallest positive number missing from an unsorted array | Set 3\n",
    "Given an unsorted array with both positive and negative elements. The task is to find the smallest positive number missing from the array."
   ]
  },
  {
   "cell_type": "code",
   "execution_count": 115,
   "metadata": {
    "collapsed": true
   },
   "outputs": [],
   "source": [
    "import numpy as np\n",
    "def minint_missvalue(values):\n",
    "    positive_values = values[values>0]\n",
    "    sort_values = np.sort(positive_values) # sort an array wit np.array . if a list, list.sort()\n",
    "    possible_values = []\n",
    "    for i in range(min(sort_values),max(sort_values)):\n",
    "        if (i not in sort_values): # check if an item is in a list, if i not in values\n",
    "            possible_values.append(i)\n",
    "\n",
    "    return min(possible_values)"
   ]
  },
  {
   "cell_type": "code",
   "execution_count": 119,
   "metadata": {},
   "outputs": [
    {
     "name": "stdout",
     "output_type": "stream",
     "text": [
      "3\n",
      "4\n"
     ]
    }
   ],
   "source": [
    "values = np.array([1,5,5,5,2])\n",
    "print(minint_missvalue(values))\n",
    "values_2 = np.array([2, 3, 7, 6, 8, -1, -10, 15])\n",
    "print(minint_missvalue(values_2))"
   ]
  },
  {
   "cell_type": "markdown",
   "metadata": {},
   "source": [
    "### Find the element that appears once"
   ]
  },
  {
   "cell_type": "code",
   "execution_count": 15,
   "metadata": {
    "collapsed": true
   },
   "outputs": [],
   "source": [
    "import numpy as np\n",
    "import pandas as pd\n",
    "\n",
    "def min_count(values):\n",
    "    unique_values, counts = np.unique(values, return_counts = True)\n",
    "    dictionary = dict(zip(unique_values, counts))\n",
    "    return dictionary\n",
    "\n",
    "def get_dict_key(val,dictionary):\n",
    "        for key,value in dictionary.items():\n",
    "            if val == value:\n",
    "                return key\n",
    "            "
   ]
  },
  {
   "cell_type": "code",
   "execution_count": 16,
   "metadata": {},
   "outputs": [
    {
     "data": {
      "text/plain": [
       "2"
      ]
     },
     "execution_count": 16,
     "metadata": {},
     "output_type": "execute_result"
    }
   ],
   "source": [
    "get_dict_key(min(dictionary.values()),dictionary)\n",
    "get_dict_key(1,dictionary)"
   ]
  },
  {
   "cell_type": "markdown",
   "metadata": {},
   "source": [
    "### Determining the Most Frequently Occurring Items in a Sequence of integers, words. Also for arrays. \n",
    "using:\n",
    "#### from collections import Counter"
   ]
  },
  {
   "cell_type": "code",
   "execution_count": 23,
   "metadata": {},
   "outputs": [
    {
     "name": "stdout",
     "output_type": "stream",
     "text": [
      "[('eyes', 8), ('the', 5), ('look', 4)]\n",
      "3\n",
      "Counter({'eyes': 9, 'the': 5, 'look': 4, 'into': 4, 'my': 3, 'around': 2, 'not': 1, \"don't\": 1, \"you're\": 1, 'under': 1, 'mywords': 1})\n",
      "%%%%%%%%%%\n",
      "Counter({'eyes': 10, 'into': 5, 'the': 5, 'look': 4, 'my': 3, 'around': 2, 'mywords': 2, 'not': 1, \"don't\": 1, \"you're\": 1, 'under': 1})\n",
      "%%%%%%%%%%\n",
      "Counter({'io': 1})\n",
      "%%\n",
      "Counter({'ciao': 2, 'sono': 2, 'io': 1, 'tu': 1})\n"
     ]
    }
   ],
   "source": [
    "words = [   'look', 'into', 'my', 'eyes', 'look', 'into', 'my', 'eyes',   'the', 'eyes', 'the', 'eyes', 'the', 'eyes', 'not', 'around', 'the',   'eyes', \"don't\", 'look', 'around', 'the', 'eyes', 'look', 'into',   'my', 'eyes', \"you're\", 'under' ]\n",
    "from collections import Counter\n",
    "word_counts = Counter(words)\n",
    "top_three = word_counts.most_common(3)\n",
    "print(top_three) \n",
    "\n",
    "print(word_counts['into'])\n",
    "\n",
    "# if I add additional words\n",
    "additional_words = ['into', 'mywords', 'eyes']\n",
    "\n",
    "# use .update(new_words)\n",
    "word_counts.update(additional_words)\n",
    "print(word_counts)\n",
    "\n",
    "### or also ###\n",
    "print(10*'%')\n",
    "for word in additional_words:\n",
    "    word_counts[word] += 1\n",
    "print(word_counts)\n",
    "print(10*'%')\n",
    "## also operations like\n",
    "a = Counter(['ciao','io','sono'])\n",
    "b = Counter(['ciao','tu','sono'])\n",
    "print(a-b)\n",
    "print(2*'%')\n",
    "print(a+b)\n",
    "\n"
   ]
  },
  {
   "cell_type": "code",
   "execution_count": 13,
   "metadata": {},
   "outputs": [
    {
     "name": "stdout",
     "output_type": "stream",
     "text": [
      "[  1   4   4   4   2   6  66 599]\n",
      "Counter({4: 3, 1: 1, 2: 1, 6: 1, 66: 1, 599: 1})\n"
     ]
    }
   ],
   "source": [
    "## it words with numpy as way\n",
    "import numpy as np\n",
    "from collections import Counter\n",
    "values = np.array([1,4,4,4,2,6,66,599])\n",
    "print(values)\n",
    "count_values = Counter(values)\n",
    "print(count_values)"
   ]
  },
  {
   "cell_type": "code",
   "execution_count": 14,
   "metadata": {},
   "outputs": [
    {
     "name": "stdout",
     "output_type": "stream",
     "text": [
      "4\n"
     ]
    }
   ],
   "source": [
    "values = np.array([1,4,4,4,2,6,66,599])\n",
    "count_values = Counter(values)\n",
    "def find_key(value,dictionary):\n",
    "    for key,val in dictionary.items():\n",
    "        if val == value:\n",
    "            return key\n",
    "\n",
    "print(find_key(3,dict(count_values)))"
   ]
  },
  {
   "cell_type": "markdown",
   "metadata": {},
   "source": [
    "### Find uncommon characters of the two strings | Set 2"
   ]
  },
  {
   "cell_type": "code",
   "execution_count": 71,
   "metadata": {},
   "outputs": [],
   "source": [
    "def uncommon_characters(string1,string2):\n",
    "    c1 = []\n",
    "    c2 = []\n",
    "    result1 = []\n",
    "    result2 = []\n",
    "    for i in string1:\n",
    "        c1.append(i)\n",
    "    for t in string2:\n",
    "        c2.append(t)\n",
    "\n",
    "    result = [set(c1) - set(c2), set(c2) - set(c1)]\n",
    "    result = [i for x in result for i in x]\n",
    "    result.sort()\n",
    "    return result"
   ]
  },
  {
   "cell_type": "code",
   "execution_count": 72,
   "metadata": {},
   "outputs": [
    {
     "data": {
      "text/plain": [
       "['c', 'd', 'p', 'q', 'r']"
      ]
     },
     "execution_count": 72,
     "metadata": {},
     "output_type": "execute_result"
    }
   ],
   "source": [
    "s  = uncommon_characters('abadpq', 'cabr')\n",
    "s"
   ]
  },
  {
   "cell_type": "markdown",
   "metadata": {
    "collapsed": true
   },
   "source": [
    "## list.append(..), list.pop(), list.leftappend(..)\n"
   ]
  },
  {
   "cell_type": "code",
   "execution_count": 1,
   "metadata": {},
   "outputs": [
    {
     "name": "stdout",
     "output_type": "stream",
     "text": [
      "deque([1, 2], maxlen=2)\n",
      "deque([2, 3], maxlen=2)\n",
      "deque([5, 2], maxlen=2)\n",
      "deque([5], maxlen=2)\n",
      "deque([5, 10], maxlen=2)\n",
      "deque([10], maxlen=2)\n"
     ]
    }
   ],
   "source": [
    "from collections import deque\n",
    "\n",
    "q = deque(maxlen = 2)\n",
    "\n",
    "q.append(1)\n",
    "q.append(2)\n",
    "print(q)\n",
    "q.append(3)\n",
    "print(q)\n",
    "\n",
    "q.appendleft(5)\n",
    "print(q)\n",
    "\n",
    "q.pop()\n",
    "print(q)\n",
    "    \n",
    "q.append(10)\n",
    "print(q)\n",
    "q.popleft()\n",
    "print(q)"
   ]
  },
  {
   "cell_type": "markdown",
   "metadata": {},
   "source": [
    "### Finding the Largest or Smallest N Items \n",
    "using:\n",
    "#### import heapq "
   ]
  },
  {
   "cell_type": "code",
   "execution_count": 2,
   "metadata": {},
   "outputs": [
    {
     "name": "stdout",
     "output_type": "stream",
     "text": [
      "[42, 37, 23]\n",
      "[-4, 1, 2]\n",
      "[42, 37, 23]\n",
      "[-4]\n"
     ]
    }
   ],
   "source": [
    "import heapq\n",
    "\n",
    "nums = [1, 8, 2, 23, 7, -4, 18, 23, 42, 37, 2] \n",
    "print(heapq.nlargest(3, nums))  # Prints [42, 37, 23]\n",
    "print(heapq.nsmallest(3, nums)) # Prints [-4, 1, 2]\n",
    "\n",
    "nums.sort(key = int, reverse = True)\n",
    "print(nums[:3])\n",
    "\n",
    "print(heapq.nsmallest(1, nums))"
   ]
  },
  {
   "cell_type": "code",
   "execution_count": 4,
   "metadata": {},
   "outputs": [
    {
     "data": {
      "text/plain": [
       "[{'name': 'YHOO', 'price': 16.35, 'shares': 45},\n",
       " {'name': 'FB', 'price': 21.09, 'shares': 200},\n",
       " {'name': 'HPQ', 'price': 31.75, 'shares': 35}]"
      ]
     },
     "execution_count": 4,
     "metadata": {},
     "output_type": "execute_result"
    }
   ],
   "source": [
    "portfolio = [   {'name': 'IBM', 'shares': 100, 'price': 91.1},\n",
    "             {'name': 'AAPL', 'shares': 50, 'price': 543.22},\n",
    "             {'name': 'FB', 'shares': 200, 'price': 21.09}, \n",
    "             {'name': 'HPQ', 'shares': 35, 'price': 31.75},\n",
    "             {'name': 'YHOO', 'shares': 45, 'price': 16.35},  \n",
    "             {'name': 'ACME', 'shares': 75, 'price': 115.65} ]\n",
    "\n",
    "heapq.nsmallest(3, portfolio, key=lambda s: s['price'])"
   ]
  },
  {
   "cell_type": "markdown",
   "metadata": {
    "collapsed": true
   },
   "source": [
    "## another way to create dictionary"
   ]
  },
  {
   "cell_type": "code",
   "execution_count": 5,
   "metadata": {},
   "outputs": [
    {
     "name": "stdout",
     "output_type": "stream",
     "text": [
      "defaultdict(<type 'list'>, {'a': [1, 2], 'b': [4]})\n",
      "defaultdict(<type 'set'>, {'a': set([1, 2]), 'b': set([4])})\n"
     ]
    }
   ],
   "source": [
    "from collections import defaultdict\n",
    "\n",
    "d = defaultdict(list)\n",
    "d['a'].append(1)\n",
    "d['a'].append(2)\n",
    "d['b'].append(4)\n",
    "print(d)\n",
    "\n",
    "d = defaultdict(set)\n",
    "\n",
    "d['a'].add(1)\n",
    "d['a'].add(2)\n",
    "d['b'].add(4)\n",
    "print(d)"
   ]
  },
  {
   "cell_type": "markdown",
   "metadata": {
    "collapsed": true
   },
   "source": [
    "### use zip to calculate min,max, sort values in a dictionary"
   ]
  },
  {
   "cell_type": "code",
   "execution_count": 6,
   "metadata": {},
   "outputs": [
    {
     "data": {
      "text/plain": [
       "{'AAPL': 612.78, 'ACME': 45.23, 'FB': 10.75, 'HPQ': 37.2, 'IBM': 205.55}"
      ]
     },
     "execution_count": 6,
     "metadata": {},
     "output_type": "execute_result"
    }
   ],
   "source": [
    "prices = {   'ACME': 45.23,   'AAPL': 612.78,   'IBM': 205.55,   'HPQ': 37.20,   'FB': 10.75 }\n",
    "prices"
   ]
  },
  {
   "cell_type": "code",
   "execution_count": 7,
   "metadata": {},
   "outputs": [
    {
     "data": {
      "text/plain": [
       "(10.75, 'FB')"
      ]
     },
     "execution_count": 7,
     "metadata": {},
     "output_type": "execute_result"
    }
   ],
   "source": [
    "min_values = min(zip(prices.values(),prices.keys()))\n",
    "min_values"
   ]
  },
  {
   "cell_type": "code",
   "execution_count": 8,
   "metadata": {},
   "outputs": [
    {
     "data": {
      "text/plain": [
       "('AAPL', 612.78)"
      ]
     },
     "execution_count": 8,
     "metadata": {},
     "output_type": "execute_result"
    }
   ],
   "source": [
    "max_values = min(zip(prices.keys(),prices.values()))\n",
    "max_values"
   ]
  },
  {
   "cell_type": "code",
   "execution_count": 9,
   "metadata": {},
   "outputs": [
    {
     "data": {
      "text/plain": [
       "[(10.75, 'FB'),\n",
       " (37.2, 'HPQ'),\n",
       " (45.23, 'ACME'),\n",
       " (205.55, 'IBM'),\n",
       " (612.78, 'AAPL')]"
      ]
     },
     "execution_count": 9,
     "metadata": {},
     "output_type": "execute_result"
    }
   ],
   "source": [
    "sorted_values = sorted(zip(prices.values(),prices.keys()))\n",
    "sorted_values"
   ]
  },
  {
   "cell_type": "code",
   "execution_count": 15,
   "metadata": {},
   "outputs": [
    {
     "name": "stdout",
     "output_type": "stream",
     "text": [
      "(612.78, 'AAPL')\n",
      "IBM\n",
      "612.78\n"
     ]
    }
   ],
   "source": [
    "prices_names = zip(prices.values(),prices.keys())\n",
    "print(max(prices_names))\n",
    "print(max(prices))\n",
    "print(max(prices.values()))"
   ]
  },
  {
   "cell_type": "markdown",
   "metadata": {},
   "source": [
    "### to get max/min key or value in a dictionary"
   ]
  },
  {
   "cell_type": "code",
   "execution_count": 16,
   "metadata": {},
   "outputs": [
    {
     "name": "stdout",
     "output_type": "stream",
     "text": [
      "FB\n",
      "10.75\n"
     ]
    }
   ],
   "source": [
    "print(min(prices, key=lambda k: prices[k]))\n",
    "print(prices[min(prices, key=lambda k: prices[k])])"
   ]
  },
  {
   "cell_type": "markdown",
   "metadata": {},
   "source": [
    "### find differences or commonalities in dictionaries "
   ]
  },
  {
   "cell_type": "code",
   "execution_count": 3,
   "metadata": {},
   "outputs": [
    {
     "name": "stdout",
     "output_type": "stream",
     "text": [
      "{'x': 2, 'y': 2}\n",
      "{'x': 2, 'r': 4}\n",
      "{'x'}\n",
      "{'y'}\n",
      "{('x', 2)}\n"
     ]
    }
   ],
   "source": [
    "a = {'x':2, 'y':2}\n",
    "b= {'x':2,'r':4}\n",
    "print(a)\n",
    "print(b)\n",
    "# Find keys in common\n",
    "print(a.keys() & b.keys())\n",
    "# Find keys in a that are not in b\n",
    "print(a.keys() - b.keys())\n",
    "# Find (key,value) pairs in common\n",
    "print(a.items() & b.items()) "
   ]
  },
  {
   "cell_type": "markdown",
   "metadata": {},
   "source": [
    "### using slice"
   ]
  },
  {
   "cell_type": "code",
   "execution_count": 7,
   "metadata": {},
   "outputs": [
    {
     "name": "stdout",
     "output_type": "stream",
     "text": [
      "[5, 4]\n",
      "1\n",
      "4\n",
      "2\n"
     ]
    }
   ],
   "source": [
    "items = [1,2,5,4,6]\n",
    "a = slice(2,4)\n",
    "print(items[a])\n",
    "b = slice(1,4,2)\n",
    "print(b.start)\n",
    "print(b.stop)\n",
    "print(b.step)"
   ]
  },
  {
   "cell_type": "markdown",
   "metadata": {},
   "source": [
    "###  Sorting a List of Dictionaries by a Common Key \n",
    " using:\n",
    "#### from opereator import itemgetter\n",
    "or without itemgetter, but using\n",
    "#### sorted ( dict_name, key = lambda x: x[''])"
   ]
  },
  {
   "cell_type": "code",
   "execution_count": 26,
   "metadata": {},
   "outputs": [
    {
     "name": "stdout",
     "output_type": "stream",
     "text": [
      "[{'fname': 'Big', 'lname': 'Jones', 'uid': 1004}, {'fname': 'Brian', 'lname': 'Jones', 'uid': 1003}, {'fname': 'David', 'lname': 'Beazley', 'uid': 1002}, {'fname': 'John', 'lname': 'Cleese', 'uid': 1001}]\n",
      "%%%%%%%%%%\n",
      "[{'fname': 'Big', 'lname': 'Jones', 'uid': 1004}, {'fname': 'Brian', 'lname': 'Jones', 'uid': 1003}, {'fname': 'David', 'lname': 'Beazley', 'uid': 1002}, {'fname': 'John', 'lname': 'Cleese', 'uid': 1001}]\n",
      "using lambda\n",
      "[{'fname': 'Big', 'lname': 'Jones', 'uid': 1004}, {'fname': 'Brian', 'lname': 'Jones', 'uid': 1003}, {'fname': 'David', 'lname': 'Beazley', 'uid': 1002}, {'fname': 'John', 'lname': 'Cleese', 'uid': 1001}]\n"
     ]
    }
   ],
   "source": [
    "rows = [{'fname': 'Brian', 'lname': 'Jones', 'uid': 1003},\n",
    "        {'fname': 'David', 'lname': 'Beazley', 'uid': 1002},\n",
    "        {'fname': 'John', 'lname': 'Cleese', 'uid': 1001},\n",
    "        {'fname': 'Big', 'lname': 'Jones', 'uid': 1004} ]\n",
    "\n",
    "from operator import itemgetter\n",
    "sort_fame = sorted(rows, key=itemgetter('fname'))\n",
    "print(sort_fame)\n",
    "print(10*'%')\n",
    "sort_multi_var = sorted(rows, key = itemgetter('fname','lname'))\n",
    "print(sort_multi_var)\n",
    "\n",
    "# without itemgetter, but using sorted ( dict_name, key = lambda x: x[''])\n",
    "print('using lambda')\n",
    "rows_by_fname = sorted(rows, key=lambda r: r['fname'])\n",
    "print(rows_by_fname)"
   ]
  },
  {
   "cell_type": "markdown",
   "metadata": {},
   "source": [
    "### Filtering a sequence of items\n",
    "#### from itertools import compress"
   ]
  },
  {
   "cell_type": "code",
   "execution_count": 27,
   "metadata": {},
   "outputs": [
    {
     "name": "stdout",
     "output_type": "stream",
     "text": [
      "['via terminio', 'casoria']\n"
     ]
    }
   ],
   "source": [
    "from itertools import compress\n",
    "address = ['via terminio', 'casoria','Napoli']\n",
    "numeri= [1,3,-1]\n",
    "\n",
    "number_pos  = [n >0 for n in numeri]\n",
    "\n",
    "print(list(compress(address,number_pos)))"
   ]
  },
  {
   "cell_type": "markdown",
   "metadata": {},
   "source": [
    "### Subset of dictionary\n",
    "using\n",
    "#### dictionary comprehension"
   ]
  },
  {
   "cell_type": "code",
   "execution_count": 30,
   "metadata": {},
   "outputs": [
    {
     "data": {
      "text/plain": [
       "{'AAPL': 612.78, 'IBM': 205.55}"
      ]
     },
     "execution_count": 30,
     "metadata": {},
     "output_type": "execute_result"
    }
   ],
   "source": [
    "prices = {   'ACME': 45.23,   'AAPL': 612.78,   'IBM': 205.55,   'HPQ': 37.20,   'FB': 10.75 }\n",
    "{key:value for key,value in prices.items() if value > 200}"
   ]
  },
  {
   "cell_type": "code",
   "execution_count": 33,
   "metadata": {},
   "outputs": [
    {
     "data": {
      "text/plain": [
       "{'AAPL': 612.78, 'IBM': 205.55, 'HPQ': 37.2}"
      ]
     },
     "execution_count": 33,
     "metadata": {},
     "output_type": "execute_result"
    }
   ],
   "source": [
    "tech_names = { 'AAPL', 'IBM', 'HPQ', 'MSFT' }\n",
    "{ key:value for key,value in prices.items() if key in tech_names }"
   ]
  },
  {
   "cell_type": "markdown",
   "metadata": {},
   "source": [
    "### Lookup across dictionaries\n",
    "using:\n",
    "#### from collections import ChainMap"
   ]
  },
  {
   "cell_type": "code",
   "execution_count": 48,
   "metadata": {},
   "outputs": [
    {
     "name": "stdout",
     "output_type": "stream",
     "text": [
      "3\n",
      "['y', 'x', 'z']\n",
      "[2, 1, 3]\n",
      "[('y', 2), ('x', 1), ('z', 3)]\n"
     ]
    }
   ],
   "source": [
    "a = {'x': 1, 'z': 3 }\n",
    "b = {'y': 2, 'z': 4 }\n",
    "from collections import ChainMap \n",
    "c = ChainMap(a,b) \n",
    "print(c['z'])\n",
    "print(list(c.keys()))\n",
    "print(list(c.values()))\n",
    "print(list(c.items()))"
   ]
  },
  {
   "cell_type": "code",
   "execution_count": 51,
   "metadata": {},
   "outputs": [
    {
     "data": {
      "text/plain": [
       "ChainMap({'z': 3}, {'y': 2, 'z': 4})"
      ]
     },
     "execution_count": 51,
     "metadata": {},
     "output_type": "execute_result"
    }
   ],
   "source": [
    "c"
   ]
  },
  {
   "cell_type": "markdown",
   "metadata": {},
   "source": [
    "### merging dictionary using dict1.update(dict2)"
   ]
  },
  {
   "cell_type": "code",
   "execution_count": 56,
   "metadata": {},
   "outputs": [
    {
     "data": {
      "text/plain": [
       "{'c': 4, 'b': 3}"
      ]
     },
     "execution_count": 56,
     "metadata": {},
     "output_type": "execute_result"
    }
   ],
   "source": [
    "a = {'c':4}\n",
    "b = {'b':3}\n",
    "a.update(b)\n",
    "a"
   ]
  },
  {
   "cell_type": "code",
   "execution_count": 58,
   "metadata": {},
   "outputs": [
    {
     "data": {
      "text/plain": [
       "['b', 'c']"
      ]
     },
     "execution_count": 58,
     "metadata": {},
     "output_type": "execute_result"
    }
   ],
   "source": [
    "sorted(a)"
   ]
  }
 ],
 "metadata": {
  "kernelspec": {
   "display_name": "Python 3",
   "language": "python",
   "name": "python3"
  },
  "language_info": {
   "codemirror_mode": {
    "name": "ipython",
    "version": 3
   },
   "file_extension": ".py",
   "mimetype": "text/x-python",
   "name": "python",
   "nbconvert_exporter": "python",
   "pygments_lexer": "ipython3",
   "version": "3.6.9"
  }
 },
 "nbformat": 4,
 "nbformat_minor": 2
}
