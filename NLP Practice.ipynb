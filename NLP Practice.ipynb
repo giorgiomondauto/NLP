{
 "cells": [
  {
   "cell_type": "code",
   "execution_count": 1,
   "metadata": {},
   "outputs": [],
   "source": [
    "import nltk\n",
    "from nltk.tokenize import word_tokenize, sent_tokenize\n",
    "from nltk.corpus import stopwords\n",
    "from nltk.probability import FreqDist"
   ]
  },
  {
   "cell_type": "code",
   "execution_count": 2,
   "metadata": {},
   "outputs": [
    {
     "data": {
      "text/plain": [
       "'deep learning is a subset of ai. ml is a subseet of data science'"
      ]
     },
     "execution_count": 2,
     "metadata": {},
     "output_type": "execute_result"
    }
   ],
   "source": [
    "sentence = 'Deep Learning is a subset of AI. ML is a subseet of Data Science'.lower()\n",
    "sentence"
   ]
  },
  {
   "cell_type": "code",
   "execution_count": 3,
   "metadata": {},
   "outputs": [
    {
     "name": "stdout",
     "output_type": "stream",
     "text": [
      "['deep learning is a subset of ai.', 'ml is a subseet of data science']\n"
     ]
    }
   ],
   "source": [
    "sentence_tokenized = sent_tokenize(sentence)\n",
    "print(sentence_tokenized)"
   ]
  },
  {
   "cell_type": "code",
   "execution_count": 4,
   "metadata": {},
   "outputs": [
    {
     "name": "stdout",
     "output_type": "stream",
     "text": [
      "['deep', 'learning', 'is', 'a', 'subset', 'of', 'ai', '.', 'ml', 'is', 'a', 'subseet', 'of', 'data', 'science']\n"
     ]
    }
   ],
   "source": [
    "word_tokenized = word_tokenize(sentence)\n",
    "print(word_tokenized)"
   ]
  },
  {
   "cell_type": "code",
   "execution_count": 5,
   "metadata": {},
   "outputs": [
    {
     "name": "stdout",
     "output_type": "stream",
     "text": [
      "[('deep', 'learning'), ('deep', 'is'), ('deep', 'a'), ('deep', 'subset'), ('deep', 'of'), ('deep', 'ai'), ('deep', '.'), ('deep', 'ml'), ('deep', 'is'), ('deep', 'a'), ('deep', 'subseet'), ('deep', 'of'), ('deep', 'data'), ('deep', 'science'), ('learning', 'is'), ('learning', 'a'), ('learning', 'subset'), ('learning', 'of'), ('learning', 'ai'), ('learning', '.'), ('learning', 'ml'), ('learning', 'is'), ('learning', 'a'), ('learning', 'subseet'), ('learning', 'of'), ('learning', 'data'), ('learning', 'science'), ('is', 'a'), ('is', 'subset'), ('is', 'of'), ('is', 'ai'), ('is', '.'), ('is', 'ml'), ('is', 'is'), ('is', 'a'), ('is', 'subseet'), ('is', 'of'), ('is', 'data'), ('is', 'science'), ('a', 'subset'), ('a', 'of'), ('a', 'ai'), ('a', '.'), ('a', 'ml'), ('a', 'is'), ('a', 'a'), ('a', 'subseet'), ('a', 'of'), ('a', 'data'), ('a', 'science'), ('subset', 'of'), ('subset', 'ai'), ('subset', '.'), ('subset', 'ml'), ('subset', 'is'), ('subset', 'a'), ('subset', 'subseet'), ('subset', 'of'), ('subset', 'data'), ('subset', 'science'), ('of', 'ai'), ('of', '.'), ('of', 'ml'), ('of', 'is'), ('of', 'a'), ('of', 'subseet'), ('of', 'of'), ('of', 'data'), ('of', 'science'), ('ai', '.'), ('ai', 'ml'), ('ai', 'is'), ('ai', 'a'), ('ai', 'subseet'), ('ai', 'of'), ('ai', 'data'), ('ai', 'science'), ('.', 'ml'), ('.', 'is'), ('.', 'a'), ('.', 'subseet'), ('.', 'of'), ('.', 'data'), ('.', 'science'), ('ml', 'is'), ('ml', 'a'), ('ml', 'subseet'), ('ml', 'of'), ('ml', 'data'), ('ml', 'science'), ('is', 'a'), ('is', 'subseet'), ('is', 'of'), ('is', 'data'), ('is', 'science'), ('a', 'subseet'), ('a', 'of'), ('a', 'data'), ('a', 'science'), ('subseet', 'of'), ('subseet', 'data'), ('subseet', 'science'), ('of', 'data'), ('of', 'science'), ('data', 'science')]\n"
     ]
    }
   ],
   "source": [
    "import itertools\n",
    "print(list(itertools.combinations(word_tokenized,2)))"
   ]
  },
  {
   "cell_type": "code",
   "execution_count": 6,
   "metadata": {},
   "outputs": [
    {
     "data": {
      "text/plain": [
       "['they', 'before', 'he', 'a', 'most', 'was', 's', 'did', \"she's\", 'shouldn']"
      ]
     },
     "execution_count": 6,
     "metadata": {},
     "output_type": "execute_result"
    }
   ],
   "source": [
    "list(set(stopwords.words('english')))[:10]"
   ]
  },
  {
   "cell_type": "code",
   "execution_count": 7,
   "metadata": {},
   "outputs": [
    {
     "data": {
      "text/plain": [
       "['deep', 'learning', 'subset', 'ai', '.', 'ml', 'subseet', 'data', 'science']"
      ]
     },
     "execution_count": 7,
     "metadata": {},
     "output_type": "execute_result"
    }
   ],
   "source": [
    "stopwords_list = list(set(stopwords.words('english')))\n",
    "word_tok_no_stopw = []\n",
    "for i in word_tokenized:\n",
    "    if i not in stopwords_list:\n",
    "        word_tok_no_stopw.append(i)\n",
    "word_tok_no_stopw\n",
    "        "
   ]
  },
  {
   "cell_type": "code",
   "execution_count": 10,
   "metadata": {},
   "outputs": [
    {
     "name": "stdout",
     "output_type": "stream",
     "text": [
      "<FreqDist with 12 samples and 15 outcomes>\n"
     ]
    }
   ],
   "source": [
    "from nltk.probability import FreqDist\n",
    "fdist = FreqDist(word_tokenized)\n",
    "print(fdist)"
   ]
  },
  {
   "cell_type": "code",
   "execution_count": 12,
   "metadata": {},
   "outputs": [
    {
     "data": {
      "text/plain": [
       "[('is', 2), ('a', 2)]"
      ]
     },
     "execution_count": 12,
     "metadata": {},
     "output_type": "execute_result"
    }
   ],
   "source": [
    "fdist.most_common(2)"
   ]
  },
  {
   "cell_type": "code",
   "execution_count": 13,
   "metadata": {},
   "outputs": [
    {
     "data": {
      "text/plain": [
       "<Figure size 640x480 with 1 Axes>"
      ]
     },
     "metadata": {},
     "output_type": "display_data"
    }
   ],
   "source": [
    "import matplotlib.pyplot as plt\n",
    "fdist.plot(30,cumulative=False)\n",
    "plt.show()"
   ]
  },
  {
   "cell_type": "markdown",
   "metadata": {},
   "source": [
    "## POS Part Of Speech Tagging"
   ]
  },
  {
   "cell_type": "code",
   "execution_count": 18,
   "metadata": {},
   "outputs": [
    {
     "data": {
      "text/plain": [
       "[('deep', 'JJ'),\n",
       " ('learning', 'NN'),\n",
       " ('is', 'VBZ'),\n",
       " ('a', 'DT'),\n",
       " ('subset', 'NN'),\n",
       " ('of', 'IN'),\n",
       " ('ai', 'NN'),\n",
       " ('.', '.'),\n",
       " ('ml', 'NN'),\n",
       " ('is', 'VBZ'),\n",
       " ('a', 'DT'),\n",
       " ('subseet', 'NN'),\n",
       " ('of', 'IN'),\n",
       " ('data', 'NNS'),\n",
       " ('science', 'NN')]"
      ]
     },
     "execution_count": 18,
     "metadata": {},
     "output_type": "execute_result"
    }
   ],
   "source": [
    "nltk.pos_tag(word_tokenized)"
   ]
  },
  {
   "cell_type": "markdown",
   "metadata": {},
   "source": [
    "## Frequency Distributions"
   ]
  },
  {
   "cell_type": "code",
   "execution_count": 2,
   "metadata": {},
   "outputs": [
    {
     "data": {
      "text/plain": [
       "{'Io': 1,\n",
       " 'sono': 1,\n",
       " 'Giorgio': 2,\n",
       " 'è': 1,\n",
       " 'un': 1,\n",
       " 'cittadino': 1,\n",
       " 'italiano': 1,\n",
       " 'che': 1,\n",
       " 'vive': 1,\n",
       " 'a': 1,\n",
       " 'Dublino': 1,\n",
       " 'Irlanda': 1}"
      ]
     },
     "execution_count": 2,
     "metadata": {},
     "output_type": "execute_result"
    }
   ],
   "source": [
    "Text = 'Io sono Giorgio. Giorgio è un cittadino italiano che vive a Dublino, IRL'\n",
    "Text = Text.replace('IRL','Irlanda')\n",
    "# freq_distribution = [i in FreqDist(Text).items()]\n",
    "freq_distribution = FreqDist(i for i in word_tokenize(Text) if ((i != '.') & (i != ',')) )\n",
    "dict(freq_distribution)"
   ]
  },
  {
   "cell_type": "code",
   "execution_count": 35,
   "metadata": {},
   "outputs": [
    {
     "data": {
      "image/png": "[encoded data removed]",
      "text/plain": [
       "<Figure size 432x288 with 1 Axes>"
      ]
     },
     "metadata": {
      "needs_background": "light"
     },
     "output_type": "display_data"
    },
    {
     "data": {
      "text/plain": [
       "<matplotlib.axes._subplots.AxesSubplot at 0x12d72f390>"
      ]
     },
     "execution_count": 35,
     "metadata": {},
     "output_type": "execute_result"
    }
   ],
   "source": [
    "freq_distribution.plot()"
   ]
  },
  {
   "cell_type": "code",
   "execution_count": 36,
   "metadata": {},
   "outputs": [
    {
     "data": {
      "text/plain": [
       "['Io',\n",
       " 'sono',\n",
       " 'è',\n",
       " 'un',\n",
       " 'cittadino',\n",
       " 'italiano',\n",
       " 'che',\n",
       " 'vive',\n",
       " 'a',\n",
       " 'Dublino',\n",
       " 'Irlanda']"
      ]
     },
     "execution_count": 36,
     "metadata": {},
     "output_type": "execute_result"
    }
   ],
   "source": [
    "# hapaxes\n",
    "freq_distribution.hapaxes() # words that appear only once"
   ]
  },
  {
   "cell_type": "markdown",
   "metadata": {},
   "source": [
    "sometimes the words occuring once are more significant/relevant to a specific text/document. It could represent a keyword. In other cases it could only be a non-meaningful word."
   ]
  },
  {
   "cell_type": "code",
   "execution_count": 41,
   "metadata": {},
   "outputs": [
    {
     "data": {
      "text/plain": [
       "['cittadino', 'dublino', 'giorgio', 'irlanda', 'italiano']"
      ]
     },
     "execution_count": 41,
     "metadata": {},
     "output_type": "execute_result"
    }
   ],
   "source": [
    "# we could look at the long words of a text. Those words could be more characteristic and informative. \n",
    "unique_words = set(freq_distribution)\n",
    "long_words = [i.lower() for i in unique_words if len(i) > 6]\n",
    "sorted(long_words)"
   ]
  },
  {
   "cell_type": "markdown",
   "metadata": {},
   "source": [
    "Long words are usually hapaxes (~ unique)"
   ]
  },
  {
   "cell_type": "markdown",
   "metadata": {},
   "source": [
    "It is good to find long words that are not hapaxes (occuring more than once)"
   ]
  },
  {
   "cell_type": "code",
   "execution_count": 12,
   "metadata": {},
   "outputs": [
    {
     "data": {
      "text/plain": [
       "'Io sono Giorgio. Giorgio è un cittadino italiano che vive a Dublino, Irlanda. Molte persone sono diligenti e determinate. Questo spiega la loro voglia di intraprendenza. Questa intraprendenza è un vantaggio nel mondo di oggi'"
      ]
     },
     "execution_count": 12,
     "metadata": {},
     "output_type": "execute_result"
    }
   ],
   "source": [
    "Text1 = Text + '. ' + 'Molte persone sono diligenti e determinate. Questo spiega la loro voglia di intraprendenza. Questa intraprendenza è un vantaggio nel mondo di oggi'\n",
    "Text1"
   ]
  },
  {
   "cell_type": "code",
   "execution_count": 13,
   "metadata": {},
   "outputs": [
    {
     "data": {
      "text/plain": [
       "{'io': 1,\n",
       " 'sono': 2,\n",
       " 'giorgio': 2,\n",
       " 'è': 2,\n",
       " 'un': 2,\n",
       " 'cittadino': 1,\n",
       " 'italiano': 1,\n",
       " 'che': 1,\n",
       " 'vive': 1,\n",
       " 'a': 1,\n",
       " 'dublino': 1,\n",
       " 'irlanda': 1,\n",
       " 'molte': 1,\n",
       " 'persone': 1,\n",
       " 'diligenti': 1,\n",
       " 'e': 1,\n",
       " 'determinate': 1,\n",
       " 'questo': 1,\n",
       " 'spiega': 1,\n",
       " 'la': 1,\n",
       " 'loro': 1,\n",
       " 'voglia': 1,\n",
       " 'di': 2,\n",
       " 'intraprendenza': 2,\n",
       " 'questa': 1,\n",
       " 'vantaggio': 1,\n",
       " 'nel': 1,\n",
       " 'mondo': 1,\n",
       " 'oggi': 1}"
      ]
     },
     "execution_count": 13,
     "metadata": {},
     "output_type": "execute_result"
    }
   ],
   "source": [
    "freq_distribution_text1 = FreqDist(i for i in word_tokenize(Text1.lower()) if (i !=',') & (i != '.'))\n",
    "dict(freq_distribution_text1)"
   ]
  },
  {
   "cell_type": "code",
   "execution_count": 18,
   "metadata": {},
   "outputs": [
    {
     "data": {
      "text/plain": [
       "[('intraprendenza', 2)]"
      ]
     },
     "execution_count": 18,
     "metadata": {},
     "output_type": "execute_result"
    }
   ],
   "source": [
    "long_meaningfull_word = [(i,j) for i,j in dict(freq_distribution_text1).items() if (len(i) > 7) & (j>1)]\n",
    "long_meaningfull_word"
   ]
  },
  {
   "cell_type": "markdown",
   "metadata": {},
   "source": [
    "### Collocations & Bigrams\n",
    "A collocation is a sequence of words that occur together unusually often. \n",
    "For example:\n",
    "    - Red wine is a collocation\n",
    "    - The wine is not"
   ]
  },
  {
   "cell_type": "markdown",
   "metadata": {},
   "source": [
    "#### Bigrams"
   ]
  },
  {
   "cell_type": "code",
   "execution_count": 75,
   "metadata": {},
   "outputs": [
    {
     "data": {
      "text/plain": [
       "[('Io', 'sono'),\n",
       " ('sono', 'Giorgio'),\n",
       " ('Giorgio', '.'),\n",
       " ('.', 'Giorgio'),\n",
       " ('Giorgio', 'è'),\n",
       " ('è', 'un')]"
      ]
     },
     "execution_count": 75,
     "metadata": {},
     "output_type": "execute_result"
    }
   ],
   "source": [
    "from nltk import bigrams, collocations\n",
    "bigrams_from_text = bigrams(word_tokenize(Text1))\n",
    "list(bigrams_from_text)[:6]"
   ]
  },
  {
   "cell_type": "code",
   "execution_count": 72,
   "metadata": {},
   "outputs": [
    {
     "data": {
      "text/plain": [
       "[(('Io', 'sono'), 1),\n",
       " (('sono', 'Giorgio'), 1),\n",
       " (('Giorgio', '.'), 1),\n",
       " (('.', 'Giorgio'), 1),\n",
       " (('Giorgio', 'è'), 1),\n",
       " (('è', 'un'), 2)]"
      ]
     },
     "execution_count": 72,
     "metadata": {},
     "output_type": "execute_result"
    }
   ],
   "source": [
    "bigrams_from_text = bigrams(word_tokenize(Text1))\n",
    "list(iter(dict(FreqDist(i for i in list(bigrams_from_text))).items()))[:6]"
   ]
  },
  {
   "cell_type": "markdown",
   "metadata": {},
   "source": [
    "we want to pay more attention to the cases that involve rare words"
   ]
  },
  {
   "cell_type": "code",
   "execution_count": 141,
   "metadata": {},
   "outputs": [
    {
     "name": "stdout",
     "output_type": "stream",
     "text": [
      "\n"
     ]
    }
   ],
   "source": [
    "# nltk.Text(tkn for tkn in word_tokenize('mary had a little lamb.'))\n",
    "text = nltk.Text(tkn for tkn in word_tokenize(Text1))\n",
    "text.collocations()"
   ]
  },
  {
   "cell_type": "markdown",
   "metadata": {},
   "source": [
    "#### to compare pairs of words to see which pair is \"more likely to occur"
   ]
  },
  {
   "cell_type": "code",
   "execution_count": 151,
   "metadata": {},
   "outputs": [
    {
     "name": "stdout",
     "output_type": "stream",
     "text": [
      "car [('.', 40.793367085924), ('driven', 40.39464919971393), ('parked', 30.140479249336586), ('loadings', 26.75225901479738), ('was', 24.33031729391221), ('with', 23.603613758294117), ('coming', 20.139615410702373), (',', 19.425346200134072), ('speed', 14.81190468338248), ('resolutely', 13.964653398082529), ('skidded', 13.964653398082529), ('sales', 13.029282353863426), ('gulped', 12.918620482057962), ('streaked', 12.239487707062585), ('and', 12.146645735873587), ('industry', 12.026317411110071), ('lurched', 11.73460800098334), ('tracks', 10.03941833795229), ('swallowed', 9.857812261864147), ('rental', 9.691415531351007)]\n"
     ]
    }
   ],
   "source": [
    "import nltk.collocations\n",
    "import nltk.corpus\n",
    "import collections\n",
    "\n",
    "bgm    = nltk.collocations.BigramAssocMeasures()\n",
    "finder = nltk.collocations.BigramCollocationFinder.from_words(\n",
    "    nltk.corpus.brown.words())\n",
    "scored = finder.score_ngrams( bgm.likelihood_ratio  )\n",
    "\n",
    "# Group bigrams by first word in bigram.                                        \n",
    "prefix_keys = collections.defaultdict(list)\n",
    "for key, scores in scored:\n",
    "   prefix_keys[key[0]].append((key[1], scores))\n",
    "\n",
    "# Sort keyed bigrams by strongest association.                                  \n",
    "for key in prefix_keys:\n",
    "   prefix_keys[key].sort(key = lambda x: -x[1])\n",
    "\n",
    "print ('car', prefix_keys['car'][:20])"
   ]
  },
  {
   "cell_type": "code",
   "execution_count": 162,
   "metadata": {},
   "outputs": [
    {
     "data": {
      "text/plain": [
       "FreqDist({'sono': 2, 'giorgio': 2, 'è': 2, 'un': 2, 'di': 2, 'intraprendenza': 2, 'io': 1, 'cittadino': 1, 'italiano': 1, 'che': 1, ...})"
      ]
     },
     "execution_count": 162,
     "metadata": {},
     "output_type": "execute_result"
    }
   ],
   "source": [
    "fdist = FreqDist(i.lower() for i in word_tokenize(Text1) if (i != '.'))\n",
    "fdist"
   ]
  },
  {
   "cell_type": "code",
   "execution_count": 211,
   "metadata": {},
   "outputs": [
    {
     "data": {
      "text/plain": [
       "FreqDist({'sono': 3, 'giorgio': 3, 'ciao': 1, 'io': 1})"
      ]
     },
     "execution_count": 211,
     "metadata": {},
     "output_type": "execute_result"
    }
   ],
   "source": [
    "fdist1 = FreqDist(i for i in word_tokenize('ciao io sono sono sono giorgio giorgio giorgio'))\n",
    "fdist1"
   ]
  },
  {
   "cell_type": "code",
   "execution_count": 213,
   "metadata": {},
   "outputs": [
    {
     "data": {
      "text/plain": [
       "True"
      ]
     },
     "execution_count": 213,
     "metadata": {},
     "output_type": "execute_result"
    }
   ],
   "source": [
    "fdist > fdist1 # test if samples in fdist occur less frequently than in fdist1"
   ]
  },
  {
   "cell_type": "code",
   "execution_count": 208,
   "metadata": {},
   "outputs": [
    {
     "name": "stdout",
     "output_type": "stream",
     "text": [
      "Frequence of word giorgio\n",
      "%%%%%%%%%%\n",
      "Percentage of the frequence of the word giorgio is 0.056\n",
      "%%%%%%%%%%\n",
      "Total number of samples/words: 36\n",
      "%%%%%%%%%%\n",
      "Word with highest frequence: sono\n",
      "%%%%%%%%%%%%%%%%%%%%%%%%%%%%%%%%%%%%%%%%%%%%%%%%%%%%%%%%%%%%%%%%%%%%%%%%%%%%%%%%%%%%%%%%%%%%%%%%%%%%\n",
      "          sono        giorgio              è             un             di intraprendenza             io      cittadino       italiano            che           vive              a        dublino              ,        irlanda          molte        persone      diligenti              e    determinate         questo         spiega             la           loro         voglia         questa      vantaggio            nel          mondo           oggi \n",
      "             2              2              2              2              2              2              1              1              1              1              1              1              1              1              1              1              1              1              1              1              1              1              1              1              1              1              1              1              1              1 \n",
      "Tabulate the frequency distribution: None\n",
      "%%%%%%%%%%%%%%%%%%%%%%%%%%%%%%%%%%%%%%%%%%%%%%%%%%%%%%%%%%%%%%%%%%%%%%%%%%%%%%%%%%%%%%%%%%%%%%%%%%%%\n"
     ]
    },
    {
     "data": {
      "image/png": "[encoded data removed]",
      "text/plain": [
       "<Figure size 432x288 with 1 Axes>"
      ]
     },
     "metadata": {
      "needs_background": "light"
     },
     "output_type": "display_data"
    },
    {
     "name": "stdout",
     "output_type": "stream",
     "text": [
      "Plot AxesSubplot(0.125,0.125;0.775x0.755)\n",
      "%%%%%%%%%%%%%%%%%%%%%%%%%%%%%%%%%%%%%%%%%%%%%%%%%%%%%%%%%%%%%%%%%%%%%%%%%%%%%%%%%%%%%%%%%%%%%%%%%%%%\n"
     ]
    },
    {
     "data": {
      "image/png": "[encoded data removed]",
      "text/plain": [
       "<Figure size 432x288 with 1 Axes>"
      ]
     },
     "metadata": {
      "needs_background": "light"
     },
     "output_type": "display_data"
    },
    {
     "name": "stdout",
     "output_type": "stream",
     "text": [
      "Plot cumulative True AxesSubplot(0.125,0.125;0.775x0.755)\n",
      "%%%%%%%%%%%%%%%%%%%%%%%%%%%%%%%%%%%%%%%%%%%%%%%%%%%%%%%%%%%%%%%%%%%%%%%%%%%%%%%%%%%%%%%%%%%%%%%%%%%%\n"
     ]
    }
   ],
   "source": [
    "print('Frequence of word giorgio'.format(fdist['giorgio']))\n",
    "print(10*'%')\n",
    "print('Percentage of the frequence of the word giorgio is {}'.format(round(fdist.freq('giorgio'),3)))\n",
    "print(10*'%')\n",
    "print('Total number of samples/words: {}'.format(fdist.N()))\n",
    "print(10*'%')\n",
    "print('Word with highest frequence: {}'.format(fdist.max()))\n",
    "print(100*'%')\n",
    "print('Tabulate the frequency distribution: {}'.format(fdist.tabulate()))\n",
    "print(100*'%')\n",
    "print('Plot',fdist.plot())\n",
    "print(100*'%')\n",
    "print('Plot cumulative True',fdist.plot(cumulative = True))\n",
    "print(100*'%')"
   ]
  },
  {
   "cell_type": "code",
   "execution_count": 254,
   "metadata": {},
   "outputs": [
    {
     "name": "stdout",
     "output_type": "stream",
     "text": [
      "Text is:  Napoli è una città della Campania 10\n",
      "----------\n",
      ".islower() :  ['è', 'una', 'città', 'della']\n",
      "----------\n",
      ".isupper() : []\n",
      "----------\n",
      ".isalpha() : ['Napoli', 'è', 'una', 'città', 'della', 'Campania']\n",
      "----------\n",
      ".isalnum() : ['Napoli', 'è', 'una', 'città', 'della', 'Campania', '10']\n",
      "----------\n",
      ".isdigit() : ['10']\n",
      "----------\n",
      ".istitle() : ['Napoli', 'Campania']\n",
      "----------\n",
      ".startwith() : ['città', 'Campania']\n",
      "----------\n",
      ".endswith() : ['Napoli']\n"
     ]
    }
   ],
   "source": [
    "# i.startswith() - i.endswith() - i.islower() - \n",
    "# i.isupper() - i.isalpha() - i.isalnum() - i.isdigit() - i.istitle()\n",
    "Text = 'Napoli è una città della Campania 10'\n",
    "print('Text is: ',Text)\n",
    "print(10*'-')\n",
    "print('.islower() : ',[i for i in word_tokenize(Text) if i.islower()]) # if i is lowercase\n",
    "print(10*'-')\n",
    "print('.isupper() :', [i for i in word_tokenize(Text) if i.isupper()]) # if i is uppercase\n",
    "print(10*'-')\n",
    "print('.isalpha() :', [i for i in word_tokenize(Text) if i.isalpha()]) # if there i is alphabetic\n",
    "print(10*'-')\n",
    "print('.isalnum() :', [i for i in word_tokenize(Text) if i.isalnum()]) # if there is a digit or alphabetic\n",
    "print(10*'-')\n",
    "print('.isdigit() :', [i for i in word_tokenize(Text) if i.isdigit()]) # if there is a digit\n",
    "print(10*'-')\n",
    "print('.istitle() :', [i for i in word_tokenize(Text) if i.istitle()]) # if the first letter is upper case\n",
    "print(10*'-')\n",
    "print('.startwith() :', [i for i in word_tokenize(Text) if i.lower().startswith('c')]) # if i startswith()\n",
    "print(10*'-')\n",
    "print('.endswith() :', [i for i in word_tokenize(Text) if i.lower().endswith('i')])# if i endswith()"
   ]
  },
  {
   "cell_type": "code",
   "execution_count": 257,
   "metadata": {},
   "outputs": [
    {
     "data": {
      "text/plain": [
       "['campania', 'città', 'della', 'napoli']"
      ]
     },
     "execution_count": 257,
     "metadata": {},
     "output_type": "execute_result"
    }
   ],
   "source": [
    "sorted([i.lower() for i in word_tokenize(Text) if len(i) > 3]) # sorted text"
   ]
  },
  {
   "cell_type": "code",
   "execution_count": 260,
   "metadata": {},
   "outputs": [
    {
     "data": {
      "text/plain": [
       "['NAPOLI', 'È', 'UNA', 'CITTÀ', 'DELLA', 'CAMPANIA', '10']"
      ]
     },
     "execution_count": 260,
     "metadata": {},
     "output_type": "execute_result"
    }
   ],
   "source": [
    "[i.upper() for i in word_tokenize(Text)]"
   ]
  },
  {
   "cell_type": "code",
   "execution_count": 263,
   "metadata": {},
   "outputs": [
    {
     "data": {
      "text/plain": [
       "{'della': 1, 'Campania': 2, 'è': 3, '10': 4, 'città': 5, 'una': 6, 'Napoli': 7}"
      ]
     },
     "execution_count": 263,
     "metadata": {},
     "output_type": "execute_result"
    }
   ],
   "source": [
    "# create dictionary from words in a sentence\n",
    "dict((v,k) for k,v in enumerate(set((word_tokenize(Text))),1))"
   ]
  },
  {
   "cell_type": "code",
   "execution_count": 264,
   "metadata": {},
   "outputs": [],
   "source": [
    "# Nested Code Blocks"
   ]
  },
  {
   "cell_type": "code",
   "execution_count": null,
   "metadata": {},
   "outputs": [],
   "source": []
  }
 ],
 "metadata": {
  "kernelspec": {
   "display_name": "Python 3",
   "language": "python",
   "name": "python3"
  },
  "language_info": {
   "codemirror_mode": {
    "name": "ipython",
    "version": 3
   },
   "file_extension": ".py",
   "mimetype": "text/x-python",
   "name": "python",
   "nbconvert_exporter": "python",
   "pygments_lexer": "ipython3",
   "version": "3.6.4"
  }
 },
 "nbformat": 4,
 "nbformat_minor": 2
}
