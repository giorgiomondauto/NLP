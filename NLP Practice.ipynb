{
 "cells": [
  {
   "cell_type": "code",
   "execution_count": 1,
   "metadata": {},
   "outputs": [],
   "source": [
    "import nltk\n",
    "from nltk.tokenize import word_tokenize, sent_tokenize\n",
    "from nltk.corpus import stopwords\n",
    "from nltk.probability import FreqDist"
   ]
  },
  {
   "cell_type": "code",
   "execution_count": 2,
   "metadata": {},
   "outputs": [
    {
     "data": {
      "text/plain": [
       "'deep learning is a subset of ai. ml is a subseet of data science'"
      ]
     },
     "execution_count": 2,
     "metadata": {},
     "output_type": "execute_result"
    }
   ],
   "source": [
    "sentence = 'Deep Learning is a subset of AI. ML is a subseet of Data Science'.lower()\n",
    "sentence"
   ]
  },
  {
   "cell_type": "code",
   "execution_count": 3,
   "metadata": {},
   "outputs": [
    {
     "name": "stdout",
     "output_type": "stream",
     "text": [
      "['deep learning is a subset of ai.', 'ml is a subseet of data science']\n"
     ]
    }
   ],
   "source": [
    "sentence_tokenized = sent_tokenize(sentence)\n",
    "print(sentence_tokenized)"
   ]
  },
  {
   "cell_type": "code",
   "execution_count": 4,
   "metadata": {},
   "outputs": [
    {
     "name": "stdout",
     "output_type": "stream",
     "text": [
      "['deep', 'learning', 'is', 'a', 'subset', 'of', 'ai', '.', 'ml', 'is', 'a', 'subseet', 'of', 'data', 'science']\n"
     ]
    }
   ],
   "source": [
    "word_tokenized = word_tokenize(sentence)\n",
    "print(word_tokenized)"
   ]
  },
  {
   "cell_type": "code",
   "execution_count": 5,
   "metadata": {},
   "outputs": [
    {
     "name": "stdout",
     "output_type": "stream",
     "text": [
      "[('deep', 'learning'), ('deep', 'is'), ('deep', 'a'), ('deep', 'subset'), ('deep', 'of'), ('deep', 'ai'), ('deep', '.'), ('deep', 'ml'), ('deep', 'is'), ('deep', 'a'), ('deep', 'subseet'), ('deep', 'of'), ('deep', 'data'), ('deep', 'science'), ('learning', 'is'), ('learning', 'a'), ('learning', 'subset'), ('learning', 'of'), ('learning', 'ai'), ('learning', '.'), ('learning', 'ml'), ('learning', 'is'), ('learning', 'a'), ('learning', 'subseet'), ('learning', 'of'), ('learning', 'data'), ('learning', 'science'), ('is', 'a'), ('is', 'subset'), ('is', 'of'), ('is', 'ai'), ('is', '.'), ('is', 'ml'), ('is', 'is'), ('is', 'a'), ('is', 'subseet'), ('is', 'of'), ('is', 'data'), ('is', 'science'), ('a', 'subset'), ('a', 'of'), ('a', 'ai'), ('a', '.'), ('a', 'ml'), ('a', 'is'), ('a', 'a'), ('a', 'subseet'), ('a', 'of'), ('a', 'data'), ('a', 'science'), ('subset', 'of'), ('subset', 'ai'), ('subset', '.'), ('subset', 'ml'), ('subset', 'is'), ('subset', 'a'), ('subset', 'subseet'), ('subset', 'of'), ('subset', 'data'), ('subset', 'science'), ('of', 'ai'), ('of', '.'), ('of', 'ml'), ('of', 'is'), ('of', 'a'), ('of', 'subseet'), ('of', 'of'), ('of', 'data'), ('of', 'science'), ('ai', '.'), ('ai', 'ml'), ('ai', 'is'), ('ai', 'a'), ('ai', 'subseet'), ('ai', 'of'), ('ai', 'data'), ('ai', 'science'), ('.', 'ml'), ('.', 'is'), ('.', 'a'), ('.', 'subseet'), ('.', 'of'), ('.', 'data'), ('.', 'science'), ('ml', 'is'), ('ml', 'a'), ('ml', 'subseet'), ('ml', 'of'), ('ml', 'data'), ('ml', 'science'), ('is', 'a'), ('is', 'subseet'), ('is', 'of'), ('is', 'data'), ('is', 'science'), ('a', 'subseet'), ('a', 'of'), ('a', 'data'), ('a', 'science'), ('subseet', 'of'), ('subseet', 'data'), ('subseet', 'science'), ('of', 'data'), ('of', 'science'), ('data', 'science')]\n"
     ]
    }
   ],
   "source": [
    "import itertools\n",
    "print(list(itertools.combinations(word_tokenized,2)))"
   ]
  },
  {
   "cell_type": "code",
   "execution_count": 6,
   "metadata": {},
   "outputs": [
    {
     "data": {
      "text/plain": [
       "['they', 'before', 'he', 'a', 'most', 'was', 's', 'did', \"she's\", 'shouldn']"
      ]
     },
     "execution_count": 6,
     "metadata": {},
     "output_type": "execute_result"
    }
   ],
   "source": [
    "list(set(stopwords.words('english')))[:10]"
   ]
  },
  {
   "cell_type": "code",
   "execution_count": 7,
   "metadata": {},
   "outputs": [
    {
     "data": {
      "text/plain": [
       "['deep', 'learning', 'subset', 'ai', '.', 'ml', 'subseet', 'data', 'science']"
      ]
     },
     "execution_count": 7,
     "metadata": {},
     "output_type": "execute_result"
    }
   ],
   "source": [
    "stopwords_list = list(set(stopwords.words('english')))\n",
    "word_tok_no_stopw = []\n",
    "for i in word_tokenized:\n",
    "    if i not in stopwords_list:\n",
    "        word_tok_no_stopw.append(i)\n",
    "word_tok_no_stopw\n",
    "        "
   ]
  },
  {
   "cell_type": "code",
   "execution_count": 10,
   "metadata": {},
   "outputs": [
    {
     "name": "stdout",
     "output_type": "stream",
     "text": [
      "<FreqDist with 12 samples and 15 outcomes>\n"
     ]
    }
   ],
   "source": [
    "from nltk.probability import FreqDist\n",
    "fdist = FreqDist(word_tokenized)\n",
    "print(fdist)"
   ]
  },
  {
   "cell_type": "code",
   "execution_count": 12,
   "metadata": {},
   "outputs": [
    {
     "data": {
      "text/plain": [
       "[('is', 2), ('a', 2)]"
      ]
     },
     "execution_count": 12,
     "metadata": {},
     "output_type": "execute_result"
    }
   ],
   "source": [
    "fdist.most_common(2)"
   ]
  },
  {
   "cell_type": "code",
   "execution_count": 13,
   "metadata": {},
   "outputs": [
    {
     "data": {
      "text/plain": [
       "<Figure size 640x480 with 1 Axes>"
      ]
     },
     "metadata": {},
     "output_type": "display_data"
    }
   ],
   "source": [
    "import matplotlib.pyplot as plt\n",
    "fdist.plot(30,cumulative=False)\n",
    "plt.show()"
   ]
  },
  {
   "cell_type": "markdown",
   "metadata": {},
   "source": [
    "## POS Part Of Speech Tagging"
   ]
  },
  {
   "cell_type": "code",
   "execution_count": 18,
   "metadata": {},
   "outputs": [
    {
     "data": {
      "text/plain": [
       "[('deep', 'JJ'),\n",
       " ('learning', 'NN'),\n",
       " ('is', 'VBZ'),\n",
       " ('a', 'DT'),\n",
       " ('subset', 'NN'),\n",
       " ('of', 'IN'),\n",
       " ('ai', 'NN'),\n",
       " ('.', '.'),\n",
       " ('ml', 'NN'),\n",
       " ('is', 'VBZ'),\n",
       " ('a', 'DT'),\n",
       " ('subseet', 'NN'),\n",
       " ('of', 'IN'),\n",
       " ('data', 'NNS'),\n",
       " ('science', 'NN')]"
      ]
     },
     "execution_count": 18,
     "metadata": {},
     "output_type": "execute_result"
    }
   ],
   "source": [
    "nltk.pos_tag(word_tokenized)"
   ]
  },
  {
   "cell_type": "markdown",
   "metadata": {},
   "source": [
    "## Frequency Distributions"
   ]
  },
  {
   "cell_type": "code",
   "execution_count": 2,
   "metadata": {},
   "outputs": [
    {
     "data": {
      "text/plain": [
       "{'Io': 1,\n",
       " 'sono': 1,\n",
       " 'Giorgio': 2,\n",
       " 'è': 1,\n",
       " 'un': 1,\n",
       " 'cittadino': 1,\n",
       " 'italiano': 1,\n",
       " 'che': 1,\n",
       " 'vive': 1,\n",
       " 'a': 1,\n",
       " 'Dublino': 1,\n",
       " 'Irlanda': 1}"
      ]
     },
     "execution_count": 2,
     "metadata": {},
     "output_type": "execute_result"
    }
   ],
   "source": [
    "Text = 'Io sono Giorgio. Giorgio è un cittadino italiano che vive a Dublino, IRL'\n",
    "Text = Text.replace('IRL','Irlanda')\n",
    "# freq_distribution = [i in FreqDist(Text).items()]\n",
    "freq_distribution = FreqDist(i for i in word_tokenize(Text) if ((i != '.') & (i != ',')) )\n",
    "dict(freq_distribution)"
   ]
  },
  {
   "cell_type": "code",
   "execution_count": 35,
   "metadata": {},
   "outputs": [
    {
     "data": {
      "image/png": "[encoded data removed]",
      "text/plain": [
       "<Figure size 432x288 with 1 Axes>"
      ]
     },
     "metadata": {
      "needs_background": "light"
     },
     "output_type": "display_data"
    },
    {
     "data": {
      "text/plain": [
       "<matplotlib.axes._subplots.AxesSubplot at 0x12d72f390>"
      ]
     },
     "execution_count": 35,
     "metadata": {},
     "output_type": "execute_result"
    }
   ],
   "source": [
    "freq_distribution.plot()"
   ]
  },
  {
   "cell_type": "code",
   "execution_count": 36,
   "metadata": {},
   "outputs": [
    {
     "data": {
      "text/plain": [
       "['Io',\n",
       " 'sono',\n",
       " 'è',\n",
       " 'un',\n",
       " 'cittadino',\n",
       " 'italiano',\n",
       " 'che',\n",
       " 'vive',\n",
       " 'a',\n",
       " 'Dublino',\n",
       " 'Irlanda']"
      ]
     },
     "execution_count": 36,
     "metadata": {},
     "output_type": "execute_result"
    }
   ],
   "source": [
    "# hapaxes\n",
    "freq_distribution.hapaxes() # words that appear only once"
   ]
  },
  {
   "cell_type": "markdown",
   "metadata": {},
   "source": [
    "sometimes the words occuring once are more significant/relevant to a specific text/document. It could represent a keyword. In other cases it could only be a non-meaningful word."
   ]
  },
  {
   "cell_type": "code",
   "execution_count": 41,
   "metadata": {},
   "outputs": [
    {
     "data": {
      "text/plain": [
       "['cittadino', 'dublino', 'giorgio', 'irlanda', 'italiano']"
      ]
     },
     "execution_count": 41,
     "metadata": {},
     "output_type": "execute_result"
    }
   ],
   "source": [
    "# we could look at the long words of a text. Those words could be more characteristic and informative. \n",
    "unique_words = set(freq_distribution)\n",
    "long_words = [i.lower() for i in unique_words if len(i) > 6]\n",
    "sorted(long_words)"
   ]
  },
  {
   "cell_type": "markdown",
   "metadata": {},
   "source": [
    "Long words are usually hapaxes (~ unique)"
   ]
  },
  {
   "cell_type": "markdown",
   "metadata": {},
   "source": [
    "It is good to find long words that are not hapaxes (occuring more than once)"
   ]
  },
  {
   "cell_type": "code",
   "execution_count": 12,
   "metadata": {},
   "outputs": [
    {
     "data": {
      "text/plain": [
       "'Io sono Giorgio. Giorgio è un cittadino italiano che vive a Dublino, Irlanda. Molte persone sono diligenti e determinate. Questo spiega la loro voglia di intraprendenza. Questa intraprendenza è un vantaggio nel mondo di oggi'"
      ]
     },
     "execution_count": 12,
     "metadata": {},
     "output_type": "execute_result"
    }
   ],
   "source": [
    "Text1 = Text + '. ' + 'Molte persone sono diligenti e determinate. Questo spiega la loro voglia di intraprendenza. Questa intraprendenza è un vantaggio nel mondo di oggi'\n",
    "Text1"
   ]
  },
  {
   "cell_type": "code",
   "execution_count": 13,
   "metadata": {},
   "outputs": [
    {
     "data": {
      "text/plain": [
       "{'io': 1,\n",
       " 'sono': 2,\n",
       " 'giorgio': 2,\n",
       " 'è': 2,\n",
       " 'un': 2,\n",
       " 'cittadino': 1,\n",
       " 'italiano': 1,\n",
       " 'che': 1,\n",
       " 'vive': 1,\n",
       " 'a': 1,\n",
       " 'dublino': 1,\n",
       " 'irlanda': 1,\n",
       " 'molte': 1,\n",
       " 'persone': 1,\n",
       " 'diligenti': 1,\n",
       " 'e': 1,\n",
       " 'determinate': 1,\n",
       " 'questo': 1,\n",
       " 'spiega': 1,\n",
       " 'la': 1,\n",
       " 'loro': 1,\n",
       " 'voglia': 1,\n",
       " 'di': 2,\n",
       " 'intraprendenza': 2,\n",
       " 'questa': 1,\n",
       " 'vantaggio': 1,\n",
       " 'nel': 1,\n",
       " 'mondo': 1,\n",
       " 'oggi': 1}"
      ]
     },
     "execution_count": 13,
     "metadata": {},
     "output_type": "execute_result"
    }
   ],
   "source": [
    "freq_distribution_text1 = FreqDist(i for i in word_tokenize(Text1.lower()) if (i !=',') & (i != '.'))\n",
    "dict(freq_distribution_text1)"
   ]
  },
  {
   "cell_type": "code",
   "execution_count": 18,
   "metadata": {},
   "outputs": [
    {
     "data": {
      "text/plain": [
       "[('intraprendenza', 2)]"
      ]
     },
     "execution_count": 18,
     "metadata": {},
     "output_type": "execute_result"
    }
   ],
   "source": [
    "long_meaningfull_word = [(i,j) for i,j in dict(freq_distribution_text1).items() if (len(i) > 7) & (j>1)]\n",
    "long_meaningfull_word"
   ]
  },
  {
   "cell_type": "markdown",
   "metadata": {},
   "source": [
    "### Collocations & Bigrams\n",
    "A collocation is a sequence of words that occur together unusually often. \n",
    "For example:\n",
    "    - Red wine is a collocation\n",
    "    - The wine is not"
   ]
  },
  {
   "cell_type": "markdown",
   "metadata": {},
   "source": [
    "#### Bigrams"
   ]
  },
  {
   "cell_type": "code",
   "execution_count": 75,
   "metadata": {},
   "outputs": [
    {
     "data": {
      "text/plain": [
       "[('Io', 'sono'),\n",
       " ('sono', 'Giorgio'),\n",
       " ('Giorgio', '.'),\n",
       " ('.', 'Giorgio'),\n",
       " ('Giorgio', 'è'),\n",
       " ('è', 'un')]"
      ]
     },
     "execution_count": 75,
     "metadata": {},
     "output_type": "execute_result"
    }
   ],
   "source": [
    "from nltk import bigrams, collocations\n",
    "bigrams_from_text = bigrams(word_tokenize(Text1))\n",
    "list(bigrams_from_text)[:6]"
   ]
  },
  {
   "cell_type": "code",
   "execution_count": 72,
   "metadata": {},
   "outputs": [
    {
     "data": {
      "text/plain": [
       "[(('Io', 'sono'), 1),\n",
       " (('sono', 'Giorgio'), 1),\n",
       " (('Giorgio', '.'), 1),\n",
       " (('.', 'Giorgio'), 1),\n",
       " (('Giorgio', 'è'), 1),\n",
       " (('è', 'un'), 2)]"
      ]
     },
     "execution_count": 72,
     "metadata": {},
     "output_type": "execute_result"
    }
   ],
   "source": [
    "bigrams_from_text = bigrams(word_tokenize(Text1))\n",
    "list(iter(dict(FreqDist(i for i in list(bigrams_from_text))).items()))[:6]"
   ]
  },
  {
   "cell_type": "markdown",
   "metadata": {},
   "source": [
    "we want to pay more attention to the cases that involve rare words"
   ]
  },
  {
   "cell_type": "code",
   "execution_count": 141,
   "metadata": {},
   "outputs": [
    {
     "name": "stdout",
     "output_type": "stream",
     "text": [
      "\n"
     ]
    }
   ],
   "source": [
    "# nltk.Text(tkn for tkn in word_tokenize('mary had a little lamb.'))\n",
    "text = nltk.Text(tkn for tkn in word_tokenize(Text1))\n",
    "text.collocations()"
   ]
  },
  {
   "cell_type": "markdown",
   "metadata": {},
   "source": [
    "#### to compare pairs of words to see which pair is \"more likely to occur"
   ]
  },
  {
   "cell_type": "code",
   "execution_count": 151,
   "metadata": {},
   "outputs": [
    {
     "name": "stdout",
     "output_type": "stream",
     "text": [
      "car [('.', 40.793367085924), ('driven', 40.39464919971393), ('parked', 30.140479249336586), ('loadings', 26.75225901479738), ('was', 24.33031729391221), ('with', 23.603613758294117), ('coming', 20.139615410702373), (',', 19.425346200134072), ('speed', 14.81190468338248), ('resolutely', 13.964653398082529), ('skidded', 13.964653398082529), ('sales', 13.029282353863426), ('gulped', 12.918620482057962), ('streaked', 12.239487707062585), ('and', 12.146645735873587), ('industry', 12.026317411110071), ('lurched', 11.73460800098334), ('tracks', 10.03941833795229), ('swallowed', 9.857812261864147), ('rental', 9.691415531351007)]\n"
     ]
    }
   ],
   "source": [
    "import nltk.collocations\n",
    "import nltk.corpus\n",
    "import collections\n",
    "\n",
    "bgm    = nltk.collocations.BigramAssocMeasures()\n",
    "finder = nltk.collocations.BigramCollocationFinder.from_words(\n",
    "    nltk.corpus.brown.words())\n",
    "scored = finder.score_ngrams( bgm.likelihood_ratio  )\n",
    "\n",
    "# Group bigrams by first word in bigram.                                        \n",
    "prefix_keys = collections.defaultdict(list)\n",
    "for key, scores in scored:\n",
    "   prefix_keys[key[0]].append((key[1], scores))\n",
    "\n",
    "# Sort keyed bigrams by strongest association.                                  \n",
    "for key in prefix_keys:\n",
    "   prefix_keys[key].sort(key = lambda x: -x[1])\n",
    "\n",
    "print ('car', prefix_keys['car'][:20])"
   ]
  },
  {
   "cell_type": "code",
   "execution_count": 162,
   "metadata": {},
   "outputs": [
    {
     "data": {
      "text/plain": [
       "FreqDist({'sono': 2, 'giorgio': 2, 'è': 2, 'un': 2, 'di': 2, 'intraprendenza': 2, 'io': 1, 'cittadino': 1, 'italiano': 1, 'che': 1, ...})"
      ]
     },
     "execution_count": 162,
     "metadata": {},
     "output_type": "execute_result"
    }
   ],
   "source": [
    "fdist = FreqDist(i.lower() for i in word_tokenize(Text1) if (i != '.'))\n",
    "fdist"
   ]
  },
  {
   "cell_type": "code",
   "execution_count": 211,
   "metadata": {},
   "outputs": [
    {
     "data": {
      "text/plain": [
       "FreqDist({'sono': 3, 'giorgio': 3, 'ciao': 1, 'io': 1})"
      ]
     },
     "execution_count": 211,
     "metadata": {},
     "output_type": "execute_result"
    }
   ],
   "source": [
    "fdist1 = FreqDist(i for i in word_tokenize('ciao io sono sono sono giorgio giorgio giorgio'))\n",
    "fdist1"
   ]
  },
  {
   "cell_type": "code",
   "execution_count": 213,
   "metadata": {},
   "outputs": [
    {
     "data": {
      "text/plain": [
       "True"
      ]
     },
     "execution_count": 213,
     "metadata": {},
     "output_type": "execute_result"
    }
   ],
   "source": [
    "fdist > fdist1 # test if samples in fdist occur less frequently than in fdist1"
   ]
  },
  {
   "cell_type": "code",
   "execution_count": 208,
   "metadata": {},
   "outputs": [
    {
     "name": "stdout",
     "output_type": "stream",
     "text": [
      "Frequence of word giorgio\n",
      "%%%%%%%%%%\n",
      "Percentage of the frequence of the word giorgio is 0.056\n",
      "%%%%%%%%%%\n",
      "Total number of samples/words: 36\n",
      "%%%%%%%%%%\n",
      "Word with highest frequence: sono\n",
      "%%%%%%%%%%%%%%%%%%%%%%%%%%%%%%%%%%%%%%%%%%%%%%%%%%%%%%%%%%%%%%%%%%%%%%%%%%%%%%%%%%%%%%%%%%%%%%%%%%%%\n",
      "          sono        giorgio              è             un             di intraprendenza             io      cittadino       italiano            che           vive              a        dublino              ,        irlanda          molte        persone      diligenti              e    determinate         questo         spiega             la           loro         voglia         questa      vantaggio            nel          mondo           oggi \n",
      "             2              2              2              2              2              2              1              1              1              1              1              1              1              1              1              1              1              1              1              1              1              1              1              1              1              1              1              1              1              1 \n",
      "Tabulate the frequency distribution: None\n",
      "%%%%%%%%%%%%%%%%%%%%%%%%%%%%%%%%%%%%%%%%%%%%%%%%%%%%%%%%%%%%%%%%%%%%%%%%%%%%%%%%%%%%%%%%%%%%%%%%%%%%\n"
     ]
    },
    {
     "data": {
      "image/png": "[encoded data removed]",
      "text/plain": [
       "<Figure size 432x288 with 1 Axes>"
      ]
     },
     "metadata": {
      "needs_background": "light"
     },
     "output_type": "display_data"
    },
    {
     "name": "stdout",
     "output_type": "stream",
     "text": [
      "Plot AxesSubplot(0.125,0.125;0.775x0.755)\n",
      "%%%%%%%%%%%%%%%%%%%%%%%%%%%%%%%%%%%%%%%%%%%%%%%%%%%%%%%%%%%%%%%%%%%%%%%%%%%%%%%%%%%%%%%%%%%%%%%%%%%%\n"
     ]
    },
    {
     "data": {
      "image/png": "[encoded data removed]",
      "text/plain": [
       "<Figure size 432x288 with 1 Axes>"
      ]
     },
     "metadata": {
      "needs_background": "light"
     },
     "output_type": "display_data"
    },
    {
     "name": "stdout",
     "output_type": "stream",
     "text": [
      "Plot cumulative True AxesSubplot(0.125,0.125;0.775x0.755)\n",
      "%%%%%%%%%%%%%%%%%%%%%%%%%%%%%%%%%%%%%%%%%%%%%%%%%%%%%%%%%%%%%%%%%%%%%%%%%%%%%%%%%%%%%%%%%%%%%%%%%%%%\n"
     ]
    }
   ],
   "source": [
    "print('Frequence of word giorgio'.format(fdist['giorgio']))\n",
    "print(10*'%')\n",
    "print('Percentage of the frequence of the word giorgio is {}'.format(round(fdist.freq('giorgio'),3)))\n",
    "print(10*'%')\n",
    "print('Total number of samples/words: {}'.format(fdist.N()))\n",
    "print(10*'%')\n",
    "print('Word with highest frequence: {}'.format(fdist.max()))\n",
    "print(100*'%')\n",
    "print('Tabulate the frequency distribution: {}'.format(fdist.tabulate()))\n",
    "print(100*'%')\n",
    "print('Plot',fdist.plot())\n",
    "print(100*'%')\n",
    "print('Plot cumulative True',fdist.plot(cumulative = True))\n",
    "print(100*'%')"
   ]
  },
  {
   "cell_type": "code",
   "execution_count": 254,
   "metadata": {},
   "outputs": [
    {
     "name": "stdout",
     "output_type": "stream",
     "text": [
      "Text is:  Napoli è una città della Campania 10\n",
      "----------\n",
      ".islower() :  ['è', 'una', 'città', 'della']\n",
      "----------\n",
      ".isupper() : []\n",
      "----------\n",
      ".isalpha() : ['Napoli', 'è', 'una', 'città', 'della', 'Campania']\n",
      "----------\n",
      ".isalnum() : ['Napoli', 'è', 'una', 'città', 'della', 'Campania', '10']\n",
      "----------\n",
      ".isdigit() : ['10']\n",
      "----------\n",
      ".istitle() : ['Napoli', 'Campania']\n",
      "----------\n",
      ".startwith() : ['città', 'Campania']\n",
      "----------\n",
      ".endswith() : ['Napoli']\n"
     ]
    }
   ],
   "source": [
    "# i.startswith() - i.endswith() - i.islower() - \n",
    "# i.isupper() - i.isalpha() - i.isalnum() - i.isdigit() - i.istitle()\n",
    "Text = 'Napoli è una città della Campania 10'\n",
    "print('Text is: ',Text)\n",
    "print(10*'-')\n",
    "print('.islower() : ',[i for i in word_tokenize(Text) if i.islower()]) # if i is lowercase\n",
    "print(10*'-')\n",
    "print('.isupper() :', [i for i in word_tokenize(Text) if i.isupper()]) # if i is uppercase\n",
    "print(10*'-')\n",
    "print('.isalpha() :', [i for i in word_tokenize(Text) if i.isalpha()]) # if there i is alphabetic\n",
    "print(10*'-')\n",
    "print('.isalnum() :', [i for i in word_tokenize(Text) if i.isalnum()]) # if there is a digit or alphabetic\n",
    "print(10*'-')\n",
    "print('.isdigit() :', [i for i in word_tokenize(Text) if i.isdigit()]) # if there is a digit\n",
    "print(10*'-')\n",
    "print('.istitle() :', [i for i in word_tokenize(Text) if i.istitle()]) # if the first letter is upper case\n",
    "print(10*'-')\n",
    "print('.startwith() :', [i for i in word_tokenize(Text) if i.lower().startswith('c')]) # if i startswith()\n",
    "print(10*'-')\n",
    "print('.endswith() :', [i for i in word_tokenize(Text) if i.lower().endswith('i')])# if i endswith()"
   ]
  },
  {
   "cell_type": "markdown",
   "metadata": {},
   "source": [
    "sorted([i.lower() for i in word_tokenize(Text) if len(i) > 3]) # sorted text"
   ]
  },
  {
   "cell_type": "code",
   "execution_count": 260,
   "metadata": {},
   "outputs": [
    {
     "data": {
      "text/plain": [
       "['NAPOLI', 'È', 'UNA', 'CITTÀ', 'DELLA', 'CAMPANIA', '10']"
      ]
     },
     "execution_count": 260,
     "metadata": {},
     "output_type": "execute_result"
    }
   ],
   "source": [
    "[i.upper() for i in word_tokenize(Text)]"
   ]
  },
  {
   "cell_type": "code",
   "execution_count": 263,
   "metadata": {},
   "outputs": [
    {
     "data": {
      "text/plain": [
       "{'della': 1, 'Campania': 2, 'è': 3, '10': 4, 'città': 5, 'una': 6, 'Napoli': 7}"
      ]
     },
     "execution_count": 263,
     "metadata": {},
     "output_type": "execute_result"
    }
   ],
   "source": [
    "# create dictionary from words in a sentence\n",
    "dict((v,k) for k,v in enumerate(set((word_tokenize(Text))),1))"
   ]
  },
  {
   "cell_type": "markdown",
   "metadata": {},
   "source": [
    "### Nested Code Blocks\n",
    "#### looping and conditions\n",
    "if, else, elif, for"
   ]
  },
  {
   "cell_type": "code",
   "execution_count": 268,
   "metadata": {},
   "outputs": [
    {
     "name": "stdout",
     "output_type": "stream",
     "text": [
      "I -> is upper or title\n",
      "am -> is lower\n",
      "from -> is lower\n",
      "Italy -> is upper or title\n"
     ]
    }
   ],
   "source": [
    "# Nested Code Blocks\n",
    "# elif\n",
    "sent = 'I am from Italy'\n",
    "for i in word_tokenize(sent):\n",
    "    if i.islower():\n",
    "        print(i,'-> is lower')\n",
    "    elif (i.isupper() or i.istitle()):\n",
    "        print(i, '-> is upper or title')\n",
    "    else:\n",
    "        print(i, '-> exception')"
   ]
  },
  {
   "cell_type": "markdown",
   "metadata": {},
   "source": [
    "#### Machine Traslation"
   ]
  },
  {
   "cell_type": "code",
   "execution_count": 274,
   "metadata": {},
   "outputs": [],
   "source": [
    "from nltk.book import *\n",
    "# babelize_shell() # probably the library  is not working anymore\n",
    "# this program submits a sentence for translation into a specified language,\n",
    "# then submits the resulting sentence for translation back into English. \n",
    "# It stops after 12 iterations, or if it receives a translation that was produced already."
   ]
  },
  {
   "cell_type": "markdown",
   "metadata": {},
   "source": [
    "#### text alignment\n",
    "Given a document in German and Englisn, and given a bilingual dictionary, we can automatically pair up the sentences.\n",
    "this process is called text alignment. \n",
    "\n",
    "Once we have a million or more sentence pairs,\n",
    "we can detect corresponding words and phrases, and build a model that can be used for translating new text"
   ]
  },
  {
   "cell_type": "markdown",
   "metadata": {},
   "source": [
    "#### ConditionalFreqDist - Generate Text - Next most likely word\n",
    "The following code obtains all bigrams from the text (e.g. text of the book of Genesis,thenconstructs a conditional frequency distribution to record which words are most likely to follow a given word. For example, after the word living, the most likely word is creature.\n",
    "\n",
    "The generate_model() function uses this data, and a seed word, to generate random text"
   ]
  },
  {
   "cell_type": "code",
   "execution_count": 337,
   "metadata": {},
   "outputs": [],
   "source": [
    "def generate_model(cfdist,word,num = 5):\n",
    "    for i in range(num):\n",
    "        print(word)\n",
    "        word = cfdist[word].max()\n"
   ]
  },
  {
   "cell_type": "code",
   "execution_count": 364,
   "metadata": {},
   "outputs": [],
   "source": [
    "text = nltk.corpus.genesis.words('english-kjv.txt')\n",
    "bigrams = nltk.bigrams(text)\n",
    "cfd = nltk.ConditionalFreqDist(bigrams)"
   ]
  },
  {
   "cell_type": "code",
   "execution_count": 365,
   "metadata": {},
   "outputs": [
    {
     "data": {
      "text/plain": [
       "['In',\n",
       " 'the',\n",
       " 'beginning',\n",
       " 'God',\n",
       " 'created',\n",
       " 'the',\n",
       " 'heaven',\n",
       " 'and',\n",
       " 'the',\n",
       " 'earth',\n",
       " '...']"
      ]
     },
     "execution_count": 365,
     "metadata": {},
     "output_type": "execute_result"
    }
   ],
   "source": [
    "list(text)[:10] + ['...']"
   ]
  },
  {
   "cell_type": "code",
   "execution_count": 390,
   "metadata": {},
   "outputs": [
    {
     "data": {
      "text/plain": [
       "[(0, (('In', 'the'), 9)),\n",
       " (1, (('the', 'beginning'), 5)),\n",
       " (2, (('beginning', 'God'), 1)),\n",
       " (3, (('God', 'created'), 6)),\n",
       " (4, (('created', 'the'), 1)),\n",
       " (5, (('the', 'heaven'), 7)),\n",
       " (6, (('heaven', 'and'), 3)),\n",
       " (7, (('and', 'the'), 174)),\n",
       " (8, (('the', 'earth'), 105)),\n",
       " (9, (('earth', '.'), 30)),\n",
       " (10, (('.', 'And'), 1038)),\n",
       " (11, (('And', 'the'), 185)),\n",
       " (12, (('earth', 'was'), 3)),\n",
       " (13, (('was', 'without'), 2)),\n",
       " (14, (('without', 'form'), 1)),\n",
       " (15, (('form', ','), 1)),\n",
       " (16, ((',', 'and'), 1491)),\n",
       " (17, (('and', 'void'), 1)),\n",
       " (18, (('void', ';'), 1)),\n",
       " (19, ((';', 'and'), 262)),\n",
       " (20, (('and', 'darkness'), 1)),\n",
       " (21, (('darkness', 'was'), 1)),\n",
       " (22, (('was', 'upon'), 7)),\n",
       " (23, (('upon', 'the'), 70)),\n",
       " (24, (('the', 'face'), 23)),\n",
       " (25, (('face', 'of'), 24)),\n",
       " (26, (('of', 'the'), 372)),\n",
       " (27, (('the', 'deep'), 3)),\n",
       " (28, (('deep', '.'), 1)),\n",
       " (29, (('the', 'Spirit'), 2)),\n",
       " (30, (('Spirit', 'of'), 2)),\n",
       " (31, (('of', 'God'), 16)),\n",
       " (32, (('God', 'moved'), 1)),\n",
       " (33, (('moved', 'upon'), 2)),\n",
       " (34, (('the', 'waters'), 30)),\n",
       " (35, (('waters', '.'), 3)),\n",
       " (36, (('And', 'God'), 51)),\n",
       " (37, (('God', 'said'), 26)),\n",
       " (38, (('said', ','), 259)),\n",
       " (39, ((',', 'Let'), 25)),\n",
       " (40, (('Let', 'there'), 5)),\n",
       " (41, (('there', 'be'), 7)),\n",
       " (42, (('be', 'light'), 1)),\n",
       " (43, (('light', ':'), 1)),\n",
       " (44, ((':', 'and'), 99)),\n",
       " (45, (('and', 'there'), 16)),\n",
       " (46, (('there', 'was'), 21)),\n",
       " (47, (('was', 'light'), 2)),\n",
       " (48, (('light', '.'), 1)),\n",
       " (49, (('God', 'saw'), 9)),\n",
       " (50, (('saw', 'the'), 11)),\n",
       " (51, (('the', 'light'), 4)),\n",
       " (52, (('light', ','), 2)),\n",
       " (53, ((',', 'that'), 130)),\n",
       " (54, (('that', 'it'), 15)),\n",
       " (55, (('it', 'was'), 41)),\n",
       " (56, (('was', 'good'), 10)),\n",
       " (57, (('good', ':'), 2)),\n",
       " (58, (('and', 'God'), 15)),\n",
       " (59, (('God', 'divided'), 1)),\n",
       " (60, (('divided', 'the'), 4)),\n",
       " (61, (('light', 'from'), 2)),\n",
       " (62, (('from', 'the'), 43)),\n",
       " (63, (('the', 'darkness'), 2)),\n",
       " (64, (('darkness', '.'), 1)),\n",
       " (65, (('God', 'called'), 5)),\n",
       " (66, (('called', 'the'), 16)),\n",
       " (67, (('light', 'Day'), 1)),\n",
       " (68, (('Day', ','), 1)),\n",
       " (69, (('darkness', 'he'), 1)),\n",
       " (70, (('he', 'called'), 15)),\n",
       " (71, (('called', 'Night'), 1)),\n",
       " (72, (('Night', '.'), 1)),\n",
       " (73, (('the', 'evening'), 10)),\n",
       " (74, (('evening', 'and'), 6)),\n",
       " (75, (('the', 'morning'), 20)),\n",
       " (76, (('morning', 'were'), 6)),\n",
       " (77, (('were', 'the'), 18)),\n",
       " (78, (('the', 'first'), 12)),\n",
       " (79, (('first', 'day'), 3)),\n",
       " (80, (('day', '.'), 13)),\n",
       " (81, (('be', 'a'), 15)),\n",
       " (82, (('a', 'firmament'), 1)),\n",
       " (83, (('firmament', 'in'), 1)),\n",
       " (84, (('in', 'the'), 287)),\n",
       " (85, (('the', 'midst'), 6)),\n",
       " (86, (('midst', 'of'), 5)),\n",
       " (87, (('waters', ','), 1)),\n",
       " (88, (('and', 'let'), 27)),\n",
       " (89, (('let', 'it'), 4)),\n",
       " (90, (('it', 'divide'), 1)),\n",
       " (91, (('divide', 'the'), 4)),\n",
       " (92, (('waters', 'from'), 1)),\n",
       " (93, (('God', 'made'), 7)),\n",
       " (94, (('made', 'the'), 7)),\n",
       " (95, (('the', 'firmament'), 6)),\n",
       " (96, (('firmament', ','), 1)),\n",
       " (97, (('and', 'divided'), 2)),\n",
       " (98, (('waters', 'which'), 2)),\n",
       " (99, (('which', 'were'), 14)),\n",
       " (100, (('were', 'under'), 2)),\n",
       " (101, (('under', 'the'), 9)),\n",
       " (102, (('firmament', 'from'), 1)),\n",
       " (103, (('were', 'above'), 1)),\n",
       " (104, (('above', 'the'), 4)),\n",
       " (105, (('the', 'firmame'), 1)),\n",
       " (106, (('firmame', 'and'), 1)),\n",
       " (107, (('and', 'it'), 23)),\n",
       " (108, (('was', 'so'), 7)),\n",
       " (109, (('so', '.'), 7)),\n",
       " (110, (('firmament', 'Heaven'), 1)),\n",
       " (111, (('Heaven', '.'), 1)),\n",
       " (112, (('the', 'second'), 10)),\n",
       " (113, (('second', 'day'), 1)),\n",
       " (114, (('Let', 'the'), 5)),\n",
       " (115, (('waters', 'under'), 1)),\n",
       " (116, (('heaven', 'be'), 1)),\n",
       " (117, (('be', 'gathered'), 4)),\n",
       " (118, (('gathered', 'together'), 3)),\n",
       " (119, (('together', 'unto'), 1)),\n",
       " (120, (('unto', 'one'), 1)),\n",
       " (121, (('one', 'place'), 1)),\n",
       " (122, (('place', ','), 8)),\n",
       " (123, (('let', 'the'), 4)),\n",
       " (124, (('the', 'dry'), 3)),\n",
       " (125, (('dry', 'land'), 3)),\n",
       " (126, (('land', 'appe'), 1)),\n",
       " (127, (('appe', 'and'), 1)),\n",
       " (128, (('land', 'Earth'), 1)),\n",
       " (129, (('Earth', ';'), 1)),\n",
       " (130, (('the', 'gathering'), 2)),\n",
       " (131, (('gathering', 'together'), 1)),\n",
       " (132, (('together', 'of'), 1)),\n",
       " (133, (('waters', 'called'), 1)),\n",
       " (134, (('called', 'he'), 2)),\n",
       " (135, (('he', 'Se'), 1)),\n",
       " (136, (('Se', 'and'), 1)),\n",
       " (137, (('saw', 'that'), 23)),\n",
       " (138, (('good', '.'), 8)),\n",
       " (139, (('earth', 'bring'), 2)),\n",
       " (140, (('bring', 'forth'), 6)),\n",
       " (141, (('forth', 'grass'), 2)),\n",
       " (142, (('grass', ','), 2)),\n",
       " (143, ((',', 'the'), 79)),\n",
       " (144, (('the', 'herb'), 2)),\n",
       " (145, (('herb', 'yielding'), 2)),\n",
       " (146, (('yielding', 'seed'), 3)),\n",
       " (147, (('seed', ','), 4)),\n",
       " (148, (('the', 'fruit'), 7)),\n",
       " (149, (('fruit', 'tree'), 1)),\n",
       " (150, (('tree', 'yielding'), 3)),\n",
       " (151, (('yielding', 'fruit'), 2)),\n",
       " (152, (('fruit', 'after'), 1)),\n",
       " (153, (('after', 'his'), 17)),\n",
       " (154, (('his', 'kind'), 8)),\n",
       " (155, (('kind', ','), 13)),\n",
       " (156, ((',', 'whose'), 10)),\n",
       " (157, (('whose', 'seed'), 2)),\n",
       " (158, (('seed', 'is'), 1)),\n",
       " (159, (('is', 'in'), 15)),\n",
       " (160, (('in', 'itself'), 2)),\n",
       " (161, (('itself', ','), 2)),\n",
       " (162, ((',', 'upon'), 3)),\n",
       " (163, (('the', 'ear'), 7)),\n",
       " (164, (('ear', 'and'), 6)),\n",
       " (165, (('earth', 'brought'), 2)),\n",
       " (166, (('brought', 'forth'), 8)),\n",
       " (167, (('and', 'herb'), 1)),\n",
       " (168, (('seed', 'after'), 10)),\n",
       " (169, (('the', 'tree'), 12)),\n",
       " (170, (('fruit', ','), 1)),\n",
       " (171, (('seed', 'was'), 1)),\n",
       " (172, (('was', 'in'), 21)),\n",
       " (173, ((',', 'after'), 17)),\n",
       " (174, (('his', 'ki'), 4)),\n",
       " (175, (('ki', 'and'), 4)),\n",
       " (176, (('the', 'third'), 9)),\n",
       " (177, (('third', 'day'), 6)),\n",
       " (178, (('be', 'lights'), 1)),\n",
       " (179, (('lights', 'in'), 2)),\n",
       " (180, (('firmament', 'of'), 4)),\n",
       " (181, (('heaven', 'to'), 3)),\n",
       " (182, (('to', 'divide'), 2)),\n",
       " (183, (('the', 'day'), 14)),\n",
       " (184, (('day', 'from'), 3)),\n",
       " (185, (('the', 'night'), 3)),\n",
       " (186, (('night', ';'), 4)),\n",
       " (187, (('let', 'them'), 9)),\n",
       " (188, (('them', 'be'), 2)),\n",
       " (189, (('be', 'for'), 8)),\n",
       " (190, (('for', 'signs'), 1)),\n",
       " (191, (('signs', ','), 1)),\n",
       " (192, (('and', 'for'), 14)),\n",
       " (193, (('for', 'seasons'), 1)),\n",
       " (194, (('seasons', ','), 1)),\n",
       " (195, (('for', 'days'), 1)),\n",
       " (196, (('days', ','), 7)),\n",
       " (197, (('and', 'yea'), 1)),\n",
       " (198, (('yea', 'And'), 2)),\n",
       " (199, (('And', 'let'), 4)),\n",
       " (200, (('for', 'lights'), 1)),\n",
       " (201, (('to', 'give'), 7)),\n",
       " (202, (('give', 'light'), 2)),\n",
       " (203, (('light', 'upon'), 2)),\n",
       " (204, (('made', 'two'), 1)),\n",
       " (205, (('two', 'great'), 1)),\n",
       " (206, (('great', 'lights'), 1)),\n",
       " (207, (('lights', ';'), 1)),\n",
       " (208, ((';', 'the'), 5)),\n",
       " (209, (('the', 'greater'), 1)),\n",
       " (210, (('greater', 'light'), 1)),\n",
       " (211, (('light', 'to'), 2)),\n",
       " (212, (('to', 'rule'), 3)),\n",
       " (213, (('rule', 'the'), 2)),\n",
       " (214, (('day', ','), 18)),\n",
       " (215, (('the', 'lesser'), 1)),\n",
       " (216, (('lesser', 'light'), 1)),\n",
       " (217, (('the', 'nig'), 1)),\n",
       " (218, (('nig', 'he'), 1)),\n",
       " (219, (('he', 'made'), 11)),\n",
       " (220, (('the', 'stars'), 4)),\n",
       " (221, (('stars', 'also'), 1)),\n",
       " (222, (('also', '.'), 5)),\n",
       " (223, (('God', 'set'), 1)),\n",
       " (224, (('set', 'them'), 1)),\n",
       " (225, (('them', 'in'), 9)),\n",
       " (226, (('earth', ','), 33)),\n",
       " (227, ((',', 'And'), 26)),\n",
       " (228, (('And', 'to'), 4)),\n",
       " (229, (('rule', 'over'), 3)),\n",
       " (230, (('over', 'the'), 18)),\n",
       " (231, (('day', 'and'), 3)),\n",
       " (232, (('and', 'over'), 8)),\n",
       " (233, (('night', ','), 11)),\n",
       " (234, (('and', 'to'), 35)),\n",
       " (235, (('the', 'darkne'), 1)),\n",
       " (236, (('darkne', 'and'), 1)),\n",
       " (237, (('the', 'fourth'), 3)),\n",
       " (238, (('fourth', 'day'), 1)),\n",
       " (239, (('waters', 'bring'), 1)),\n",
       " (240, (('forth', 'abundantly'), 3)),\n",
       " (241, (('abundantly', 'the'), 1)),\n",
       " (242, (('the', 'moving'), 1)),\n",
       " (243, (('moving', 'creature'), 1)),\n",
       " (244, (('creature', 'that'), 4)),\n",
       " (245, (('that', 'hath'), 2)),\n",
       " (246, (('hath', 'life'), 1)),\n",
       " (247, (('life', ','), 7)),\n",
       " (248, (('and', 'fowl'), 1)),\n",
       " (249, (('fowl', 'that'), 1)),\n",
       " (250, (('that', 'may'), 1)),\n",
       " (251, (('may', 'fly'), 1)),\n",
       " (252, (('fly', 'above'), 1)),\n",
       " (253, (('earth', 'in'), 2)),\n",
       " (254, (('the', 'open'), 1)),\n",
       " (255, (('open', 'firmament'), 1)),\n",
       " (256, (('of', 'heaven'), 16)),\n",
       " (257, (('heaven', '.'), 2)),\n",
       " (258, (('created', 'great'), 1)),\n",
       " (259, (('great', 'whales'), 1)),\n",
       " (260, (('whales', ','), 1)),\n",
       " (261, (('and', 'every'), 21)),\n",
       " (262, (('every', 'living'), 12)),\n",
       " (263, (('living', 'creature'), 7)),\n",
       " (264, (('that', 'moveth'), 3)),\n",
       " (265, (('moveth', ','), 1)),\n",
       " (266, ((',', 'which'), 92)),\n",
       " (267, (('which', 'the'), 7)),\n",
       " (268, (('waters', 'brought'), 1)),\n",
       " (269, (('abundantly', ','), 1)),\n",
       " (270, (('after', 'their'), 14)),\n",
       " (271, (('their', 'kind'), 5)),\n",
       " (272, (('every', 'winged'), 1)),\n",
       " (273, (('winged', 'fowl'), 1)),\n",
       " (274, (('fowl', 'after'), 2)),\n",
       " (275, (('God', 'blessed'), 5)),\n",
       " (276, (('blessed', 'them'), 6)),\n",
       " (277, (('them', ','), 75)),\n",
       " (278, ((',', 'saying'), 77)),\n",
       " (279, (('saying', ','), 75)),\n",
       " (280, ((',', 'Be'), 3)),\n",
       " (281, (('Be', 'fruitful'), 3)),\n",
       " (282, (('fruitful', ','), 9)),\n",
       " (283, (('and', 'multiply'), 10)),\n",
       " (284, (('multiply', ','), 3)),\n",
       " (285, (('and', 'fill'), 1)),\n",
       " (286, (('fill', 'the'), 1)),\n",
       " (287, (('waters', 'in'), 1)),\n",
       " (288, (('the', 'seas'), 1)),\n",
       " (289, (('seas', ','), 1)),\n",
       " (290, (('let', 'fowl'), 1)),\n",
       " (291, (('fowl', 'multiply'), 1)),\n",
       " (292, (('multiply', 'in'), 1)),\n",
       " (293, (('the', 'fifth'), 5)),\n",
       " (294, (('fifth', 'day'), 1)),\n",
       " (295, (('forth', 'the'), 3)),\n",
       " (296, (('the', 'living'), 1)),\n",
       " (297, (('creature', 'after'), 1)),\n",
       " (298, ((',', 'cattle'), 1)),\n",
       " (299, (('cattle', ','), 16)),\n",
       " (300, (('and', 'creeping'), 1)),\n",
       " (301, (('creeping', 'thing'), 8)),\n",
       " (302, (('thing', ','), 7)),\n",
       " (303, (('and', 'beast'), 2)),\n",
       " (304, (('beast', 'of'), 11)),\n",
       " (305, (('earth', 'after'), 6)),\n",
       " (306, (('the', 'beast'), 1)),\n",
       " (307, (('and', 'cattle'), 2)),\n",
       " (308, (('cattle', 'after'), 3)),\n",
       " (309, (('every', 'thing'), 6)),\n",
       " (310, (('thing', 'that'), 14)),\n",
       " (311, (('that', 'creepeth'), 7)),\n",
       " (312, (('creepeth', 'upon'), 8)),\n",
       " (313, (('Let', 'us'), 4)),\n",
       " (314, (('us', 'make'), 7)),\n",
       " (315, (('make', 'man'), 1)),\n",
       " (316, (('man', 'in'), 6)),\n",
       " (317, (('in', 'our'), 8)),\n",
       " (318, (('our', 'image'), 1)),\n",
       " (319, (('image', ','), 2)),\n",
       " (320, (('after', 'our'), 1)),\n",
       " (321, (('our', 'likene'), 1)),\n",
       " (322, (('likene', 'and'), 1)),\n",
       " (323, (('them', 'have'), 1)),\n",
       " (324, (('have', 'dominion'), 3)),\n",
       " (325, (('dominion', 'over'), 3)),\n",
       " (326, (('the', 'fish'), 2)),\n",
       " (327, (('fish', 'of'), 2)),\n",
       " (328, (('the', 'sea'), 7)),\n",
       " (329, (('sea', ','), 4)),\n",
       " (330, (('the', 'fowl'), 5)),\n",
       " (331, (('fowl', 'of'), 7)),\n",
       " (332, (('the', 'air'), 8)),\n",
       " (333, (('air', ','), 5)),\n",
       " (334, (('the', 'cattle'), 16)),\n",
       " (335, (('over', 'all'), 8)),\n",
       " (336, (('all', 'the'), 109)),\n",
       " (337, (('over', 'every'), 2)),\n",
       " (338, (('every', 'creeping'), 6)),\n",
       " (339, (('.', 'So'), 17)),\n",
       " (340, (('So', 'God'), 1)),\n",
       " (341, (('created', 'man'), 2)),\n",
       " (342, (('in', 'his'), 29)),\n",
       " (343, (('his', 'own'), 4)),\n",
       " (344, (('own', 'image'), 1)),\n",
       " (345, ((',', 'in'), 30)),\n",
       " (346, (('the', 'image'), 2)),\n",
       " (347, (('image', 'of'), 2)),\n",
       " (348, (('created', 'he'), 3)),\n",
       " (349, (('he', 'him'), 2)),\n",
       " (350, (('him', ';'), 19)),\n",
       " (351, ((';', 'male'), 1)),\n",
       " (352, (('male', 'and'), 7)),\n",
       " (353, (('and', 'female'), 4)),\n",
       " (354, (('female', 'created'), 2)),\n",
       " (355, (('he', 'them'), 2)),\n",
       " (356, (('them', '.'), 25)),\n",
       " (357, (('said', 'unto'), 178)),\n",
       " (358, (('unto', 'them'), 44)),\n",
       " (359, (('and', 'replenish'), 2)),\n",
       " (360, (('replenish', 'the'), 2)),\n",
       " (361, (('and', 'subdue'), 1)),\n",
       " (362, (('subdue', 'and'), 1)),\n",
       " (363, (('and', 'have'), 5)),\n",
       " (364, (('living', 'thing'), 4)),\n",
       " (365, (('moveth', 'upon'), 2)),\n",
       " (366, ((',', 'Behold'), 43)),\n",
       " (367, (('Behold', ','), 40)),\n",
       " (368, ((',', 'I'), 145)),\n",
       " (369, (('I', 'have'), 67)),\n",
       " (370, (('have', 'given'), 7)),\n",
       " (371, (('given', 'you'), 3)),\n",
       " (372, (('you', 'every'), 1)),\n",
       " (373, (('every', 'herb'), 2)),\n",
       " (374, (('herb', 'bearing'), 1)),\n",
       " (375, (('bearing', 'seed'), 1)),\n",
       " (376, (('which', 'is'), 27)),\n",
       " (377, (('is', 'upon'), 6)),\n",
       " (378, (('of', 'all'), 36)),\n",
       " (379, (('every', 'tree'), 4)),\n",
       " (380, (('tree', ','), 5)),\n",
       " (381, (('the', 'which'), 5)),\n",
       " (382, (('is', 'the'), 26)),\n",
       " (383, (('fruit', 'of'), 5)),\n",
       " (384, (('of', 'a'), 18)),\n",
       " (385, (('a', 'tree'), 3)),\n",
       " (386, (('seed', ';'), 3)),\n",
       " (387, ((';', 'to'), 4)),\n",
       " (388, (('to', 'you'), 4)),\n",
       " (389, (('you', 'it'), 1)),\n",
       " (390, (('it', 'shall'), 18)),\n",
       " (391, (('shall', 'be'), 77)),\n",
       " (392, (('for', 'meat'), 1)),\n",
       " (393, (('meat', '.'), 1)),\n",
       " (394, (('to', 'every'), 5)),\n",
       " (395, (('every', 'beast'), 10)),\n",
       " (396, (('every', 'fowl'), 5)),\n",
       " (397, ((',', 'wherein'), 3)),\n",
       " (398, (('wherein', 'there'), 1)),\n",
       " (399, (('there', 'is'), 9)),\n",
       " (400, (('is', 'life'), 1)),\n",
       " (401, (('given', 'every'), 1)),\n",
       " (402, (('every', 'green'), 1)),\n",
       " (403, (('green', 'herb'), 2)),\n",
       " (404, (('herb', 'for'), 1)),\n",
       " (405, (('for', 'me'), 8)),\n",
       " (406, (('me', 'and'), 20)),\n",
       " (407, (('saw', 'every'), 1)),\n",
       " (408, (('that', 'he'), 48)),\n",
       " (409, (('he', 'had'), 49)),\n",
       " (410, (('had', 'made'), 10)),\n",
       " (411, (('made', ','), 1)),\n",
       " (412, (('and', ','), 37)),\n",
       " (413, ((',', 'behold'), 55)),\n",
       " (414, (('behold', ','), 58)),\n",
       " (415, ((',', 'it'), 13)),\n",
       " (416, (('was', 'very'), 7)),\n",
       " (417, (('very', 'good'), 1)),\n",
       " (418, (('the', 'sixth'), 2)),\n",
       " (419, (('sixth', 'day'), 1)),\n",
       " (420, (('.', 'Thus'), 9)),\n",
       " (421, (('Thus', 'the'), 1)),\n",
       " (422, (('the', 'heavens'), 3)),\n",
       " (423, (('heavens', 'and'), 2)),\n",
       " (424, (('earth', 'were'), 1)),\n",
       " (425, (('were', 'finished'), 1)),\n",
       " (426, (('finished', ','), 1)),\n",
       " (427, (('and', 'all'), 46)),\n",
       " (428, (('the', 'host'), 1)),\n",
       " (429, (('host', 'of'), 1)),\n",
       " (430, (('of', 'them'), 12)),\n",
       " (431, (('And', 'on'), 1)),\n",
       " (432, (('on', 'the'), 28)),\n",
       " (433, (('the', 'seventh'), 4)),\n",
       " (434, (('seventh', 'day'), 3)),\n",
       " (435, (('day', 'God'), 1)),\n",
       " (436, (('God', 'ended'), 1)),\n",
       " (437, (('ended', 'his'), 1)),\n",
       " (438, (('his', 'work'), 3)),\n",
       " (439, (('work', 'which'), 3)),\n",
       " (440, (('which', 'he'), 21)),\n",
       " (441, (('made', ';'), 1)),\n",
       " (442, (('and', 'he'), 146)),\n",
       " (443, (('he', 'rested'), 1)),\n",
       " (444, (('rested', 'on'), 1)),\n",
       " (445, (('from', 'all'), 4)),\n",
       " (446, (('all', 'his'), 23)),\n",
       " (447, (('made', '.'), 3)),\n",
       " (448, (('blessed', 'the'), 3)),\n",
       " (449, (('and', 'sanctified'), 1)),\n",
       " (450, (('sanctified', 'it'), 1)),\n",
       " (451, (('it', ':'), 2)),\n",
       " (452, ((':', 'because'), 2)),\n",
       " (453, (('because', 'that'), 3)),\n",
       " (454, (('that', 'in'), 3)),\n",
       " (455, (('in', 'it'), 3)),\n",
       " (456, (('it', 'he'), 1)),\n",
       " (457, (('had', 'rested'), 1)),\n",
       " (458, (('rested', 'from'), 1)),\n",
       " (459, (('which', 'God'), 7)),\n",
       " (460, (('created', 'and'), 1)),\n",
       " (461, (('and', 'made'), 8)),\n",
       " (462, (('.', 'These'), 16)),\n",
       " (463, (('These', 'are'), 17)),\n",
       " (464, (('are', 'the'), 43)),\n",
       " (465, (('the', 'generations'), 11)),\n",
       " (466, (('generations', 'of'), 11)),\n",
       " (467, (('and', 'of'), 30)),\n",
       " (468, (('earth', 'when'), 2)),\n",
       " (469, (('when', 'they'), 12)),\n",
       " (470, (('they', 'were'), 18)),\n",
       " (471, (('were', 'created'), 2)),\n",
       " (472, (('created', ','), 1)),\n",
       " (473, (('day', 'that'), 5)),\n",
       " (474, (('that', 'the'), 33)),\n",
       " (475, (('the', 'LORD'), 154)),\n",
       " (476, (('LORD', 'God'), 29)),\n",
       " (477, (('earth', 'and'), 1)),\n",
       " (478, (('heavens', ','), 1)),\n",
       " (479, (('And', 'every'), 2)),\n",
       " (480, (('every', 'plant'), 1)),\n",
       " (481, (('plant', 'of'), 1)),\n",
       " (482, (('the', 'field'), 39)),\n",
       " (483, (('field', 'before'), 2)),\n",
       " (484, (('before', 'it'), 2)),\n",
       " (485, (('herb', 'of'), 2)),\n",
       " (486, (('it', 'gr'), 1)),\n",
       " (487, (('gr', 'for'), 1)),\n",
       " (488, (('for', 'the'), 43)),\n",
       " (489, (('God', 'had'), 10)),\n",
       " (490, (('had', 'not'), 4)),\n",
       " (491, (('not', 'caused'), 1)),\n",
       " (492, (('caused', 'it'), 1)),\n",
       " (493, (('it', 'to'), 14)),\n",
       " (494, (('to', 'rain'), 2)),\n",
       " (495, (('rain', 'upon'), 2)),\n",
       " (496, (('was', 'not'), 8)),\n",
       " (497, (('not', 'a'), 4)),\n",
       " (498, (('a', 'man'), 13)),\n",
       " (499, (('man', 'to'), 4)),\n",
       " (500, (('to', 'till'), 2)),\n",
       " (501, (('till', 'the'), 2)),\n",
       " (502, (('the', 'ground'), 24)),\n",
       " (503, (('ground', '.'), 6)),\n",
       " (504, (('.', 'But'), 23)),\n",
       " (505, (('But', 'there'), 1)),\n",
       " (506, (('there', 'went'), 3)),\n",
       " (507, (('went', 'up'), 15)),\n",
       " (508, (('up', 'a'), 2)),\n",
       " (509, (('a', 'mist'), 1)),\n",
       " (510, (('mist', 'from'), 1)),\n",
       " (511, (('and', 'watered'), 3)),\n",
       " (512, (('watered', 'the'), 4)),\n",
       " (513, (('the', 'whole'), 10)),\n",
       " (514, (('whole', 'face'), 1)),\n",
       " (515, (('God', 'formed'), 2)),\n",
       " (516, (('formed', 'man'), 1)),\n",
       " (517, (('man', 'of'), 3)),\n",
       " (518, (('the', 'dust'), 4)),\n",
       " (519, (('dust', 'of'), 4)),\n",
       " (520, (('ground', ','), 6)),\n",
       " (521, (('and', 'breathed'), 1)),\n",
       " (522, (('breathed', 'into'), 1)),\n",
       " (523, (('into', 'his'), 7)),\n",
       " (524, (('his', 'nostrils'), 1)),\n",
       " (525, (('nostrils', 'the'), 1)),\n",
       " (526, (('the', 'breath'), 4)),\n",
       " (527, (('breath', 'of'), 4)),\n",
       " (528, (('of', 'life'), 9)),\n",
       " (529, (('life', ';'), 6)),\n",
       " (530, (('and', 'man'), 1)),\n",
       " (531, (('man', 'became'), 1)),\n",
       " (532, (('became', 'a'), 3)),\n",
       " (533, (('a', 'living'), 1)),\n",
       " (534, (('living', 'soul'), 1)),\n",
       " (535, (('soul', '.'), 1)),\n",
       " (536, (('God', 'planted'), 1)),\n",
       " (537, (('planted', 'a'), 3)),\n",
       " (538, (('a', 'garden'), 1)),\n",
       " (539, (('garden', 'eastward'), 1)),\n",
       " (540, (('eastward', 'in'), 1)),\n",
       " (541, (('in', 'Eden'), 1)),\n",
       " (542, (('Eden', ';'), 1)),\n",
       " (543, (('there', 'he'), 2)),\n",
       " (544, (('he', 'put'), 9)),\n",
       " (545, (('put', 'the'), 5)),\n",
       " (546, (('the', 'man'), 34)),\n",
       " (547, (('man', 'whom'), 2)),\n",
       " (548, (('whom', 'he'), 1)),\n",
       " (549, (('had', 'formed'), 1)),\n",
       " (550, (('formed', '.'), 1)),\n",
       " (551, (('And', 'out'), 2)),\n",
       " (552, (('out', 'of'), 60)),\n",
       " (553, (('ground', 'made'), 1)),\n",
       " (554, (('God', 'to'), 1)),\n",
       " (555, (('to', 'grow'), 1)),\n",
       " (556, (('grow', 'every'), 1)),\n",
       " (557, (('tree', 'that'), 1)),\n",
       " (558, (('that', 'is'), 33)),\n",
       " (559, (('is', 'pleasant'), 1)),\n",
       " (560, (('pleasant', 'to'), 2)),\n",
       " (561, (('to', 'the'), 62)),\n",
       " (562, (('the', 'sight'), 7)),\n",
       " (563, (('sight', ','), 6)),\n",
       " (564, (('and', 'good'), 3)),\n",
       " (565, (('good', 'for'), 2)),\n",
       " (566, (('for', 'food'), 4)),\n",
       " (567, (('food', ';'), 1)),\n",
       " (568, (('tree', 'of'), 7)),\n",
       " (569, (('life', 'also'), 1)),\n",
       " (570, (('also', 'in'), 1)),\n",
       " (571, (('the', 'garden'), 12)),\n",
       " (572, (('garden', ','), 3)),\n",
       " (573, (('of', 'knowledge'), 1)),\n",
       " (574, (('knowledge', 'of'), 2)),\n",
       " (575, (('of', 'good'), 2)),\n",
       " (576, (('good', 'and'), 4)),\n",
       " (577, (('and', 'evil'), 4)),\n",
       " (578, (('evil', '.'), 2)),\n",
       " (579, (('And', 'a'), 2)),\n",
       " (580, (('a', 'river'), 1)),\n",
       " (581, (('river', 'went'), 1)),\n",
       " (582, (('went', 'out'), 19)),\n",
       " (583, (('of', 'Eden'), 5)),\n",
       " (584, (('Eden', 'to'), 2)),\n",
       " (585, (('to', 'water'), 1)),\n",
       " (586, (('water', 'the'), 2)),\n",
       " (587, (('garden', ';'), 1)),\n",
       " (588, (('and', 'from'), 6)),\n",
       " (589, (('from', 'thence'), 16)),\n",
       " (590, (('thence', 'it'), 1)),\n",
       " (591, (('was', 'parted'), 1)),\n",
       " (592, (('parted', ','), 1)),\n",
       " (593, (('and', 'became'), 3)),\n",
       " (594, (('became', 'into'), 1)),\n",
       " (595, (('into', 'four'), 1)),\n",
       " (596, (('four', 'heads'), 1)),\n",
       " (597, (('heads', '.'), 1)),\n",
       " (598, (('.', 'The'), 15)),\n",
       " (599, (('The', 'name'), 1)),\n",
       " (600, (('name', 'of'), 42)),\n",
       " (601, (('first', 'is'), 1)),\n",
       " (602, (('is', 'Pison'), 1)),\n",
       " (603, (('Pison', ':'), 1)),\n",
       " (604, ((':', 'that'), 4)),\n",
       " (605, (('is', 'it'), 10)),\n",
       " (606, (('it', 'which'), 2)),\n",
       " (607, (('which', 'compasseth'), 1)),\n",
       " (608, (('compasseth', 'the'), 2)),\n",
       " (609, (('whole', 'land'), 3)),\n",
       " (610, (('land', 'of'), 104)),\n",
       " (611, (('of', 'Havilah'), 1)),\n",
       " (612, (('Havilah', ','), 3)),\n",
       " (613, ((',', 'where'), 5)),\n",
       " (614, (('where', 'there'), 1)),\n",
       " (615, (('is', 'gold'), 1)),\n",
       " (616, (('gold', ';'), 2)),\n",
       " (617, ((';', 'And'), 34)),\n",
       " (618, (('the', 'gold'), 1)),\n",
       " (619, (('gold', 'of'), 1)),\n",
       " (620, (('of', 'that'), 12)),\n",
       " (621, (('that', 'land'), 4)),\n",
       " (622, (('land', 'is'), 3)),\n",
       " (623, (('is', 'good'), 2)),\n",
       " (624, ((':', 'there'), 2)),\n",
       " (625, (('is', 'bdellium'), 1)),\n",
       " (626, (('bdellium', 'and'), 1)),\n",
       " (627, (('the', 'onyx'), 1)),\n",
       " (628, (('onyx', 'stone'), 1)),\n",
       " (629, (('stone', '.'), 1)),\n",
       " (630, (('the', 'name'), 42)),\n",
       " (631, (('second', 'river'), 1)),\n",
       " (632, (('river', 'is'), 3)),\n",
       " (633, (('is', 'Gihon'), 1)),\n",
       " (634, (('Gihon', ':'), 1)),\n",
       " (635, ((':', 'the'), 11)),\n",
       " (636, (('the', 'same'), 18)),\n",
       " (637, (('same', 'is'), 8)),\n",
       " (638, (('it', 'that'), 5)),\n",
       " (639, (('that', 'compasseth'), 1)),\n",
       " (640, (('of', 'Ethiopia'), 1)),\n",
       " (641, (('Ethiopia', '.'), 1)),\n",
       " (642, (('third', 'river'), 1)),\n",
       " (643, (('is', 'Hiddekel'), 1)),\n",
       " (644, (('Hiddekel', ':'), 1)),\n",
       " (645, (('which', 'goeth'), 1)),\n",
       " (646, (('goeth', 'toward'), 1)),\n",
       " (647, (('toward', 'the'), 7)),\n",
       " (648, (('the', 'east'), 12)),\n",
       " (649, (('east', 'of'), 4)),\n",
       " (650, (('of', 'Assyria'), 1)),\n",
       " (651, (('Assyria', '.'), 1)),\n",
       " (652, (('fourth', 'river'), 1)),\n",
       " (653, (('is', 'Euphrates'), 1)),\n",
       " (654, (('Euphrates', '.'), 1)),\n",
       " (655, (('God', 'took'), 2)),\n",
       " (656, (('took', 'the'), 7)),\n",
       " (657, (('man', ','), 21)),\n",
       " (658, (('and', 'put'), 14)),\n",
       " (659, (('put', 'him'), 2)),\n",
       " (660, (('him', 'into'), 11)),\n",
       " (661, (('into', 'the'), 36)),\n",
       " (662, (('garden', 'of'), 4)),\n",
       " (663, (('to', 'dress'), 2)),\n",
       " (664, (('dress', 'it'), 2)),\n",
       " (665, (('it', 'and'), 2)),\n",
       " (666, (('to', 'keep'), 5)),\n",
       " (667, (('keep', 'it'), 1)),\n",
       " (668, (('it', '.'), 16)),\n",
       " (669, (('God', 'commanded'), 2)),\n",
       " (670, (('commanded', 'the'), 3)),\n",
       " (671, ((',', 'Of'), 2)),\n",
       " (672, (('Of', 'every'), 2)),\n",
       " (673, (('garden', 'thou'), 1)),\n",
       " (674, (('thou', 'mayest'), 5)),\n",
       " (675, (('mayest', 'freely'), 1)),\n",
       " (676, (('freely', 'e'), 1)),\n",
       " (677, (('e', 'But'), 1)),\n",
       " (678, (('But', 'of'), 2)),\n",
       " (679, (('the', 'knowledge'), 1)),\n",
       " (680, (('evil', ','), 2)),\n",
       " (681, ((',', 'thou'), 19)),\n",
       " (682, (('thou', 'shalt'), 43)),\n",
       " (683, (('shalt', 'not'), 10)),\n",
       " (684, (('not', 'eat'), 8)),\n",
       " (685, (('eat', 'of'), 10)),\n",
       " (686, (('of', 'for'), 1)),\n",
       " (687, (('for', 'in'), 5)),\n",
       " (688, (('that', 'thou'), 37)),\n",
       " (689, (('thou', 'eatest'), 1)),\n",
       " (690, (('eatest', 'thereof'), 1)),\n",
       " (691, (('thereof', 'thou'), 1)),\n",
       " (692, (('shalt', 'surely'), 2)),\n",
       " (693, (('surely', 'die'), 3)),\n",
       " (694, (('die', '.'), 10)),\n",
       " (695, ((',', 'It'), 7)),\n",
       " (696, (('It', 'is'), 7)),\n",
       " (697, (('is', 'not'), 17)),\n",
       " (698, (('not', 'good'), 1)),\n",
       " (699, (('good', 'that'), 1)),\n",
       " (700, (('man', 'should'), 1)),\n",
       " (701, (('should', 'be'), 3)),\n",
       " (702, (('be', 'alone'), 1)),\n",
       " (703, (('alone', ';'), 2)),\n",
       " (704, ((';', 'I'), 5)),\n",
       " (705, (('I', 'will'), 105)),\n",
       " (706, (('will', 'make'), 15)),\n",
       " (707, (('make', 'him'), 5)),\n",
       " (708, (('him', 'an'), 2)),\n",
       " (709, (('an', 'help'), 2)),\n",
       " (710, (('help', 'meet'), 2)),\n",
       " (711, (('meet', 'for'), 2)),\n",
       " (712, (('for', 'him'), 7)),\n",
       " (713, (('him', '.'), 56)),\n",
       " (714, (('ground', 'the'), 1)),\n",
       " (715, (('formed', 'every'), 1)),\n",
       " (716, (('field', ','), 15)),\n",
       " (717, (('air', ';'), 2)),\n",
       " (718, (('and', 'brought'), 10)),\n",
       " (719, (('brought', 'them'), 7)),\n",
       " (720, (('them', 'unto'), 8)),\n",
       " (721, (('unto', 'Adam'), 3)),\n",
       " (722, (('Adam', 'to'), 1)),\n",
       " (723, (('to', 'see'), 7)),\n",
       " (724, (('see', 'what'), 2)),\n",
       " (725, (('what', 'he'), 3)),\n",
       " (726, (('he', 'would'), 2)),\n",
       " (727, (('would', 'call'), 1)),\n",
       " (728, (('call', 'th'), 1)),\n",
       " (729, (('th', 'and'), 7)),\n",
       " (730, (('and', 'whatsoever'), 4)),\n",
       " (731, (('whatsoever', 'Adam'), 1)),\n",
       " (732, (('Adam', 'called'), 2)),\n",
       " (733, (('called', 'every'), 1)),\n",
       " (734, (('creature', ','), 1)),\n",
       " (735, (('that', 'was'), 16)),\n",
       " (736, (('was', 'the'), 15)),\n",
       " (737, (('name', 'thereof'), 1)),\n",
       " (738, (('thereof', '.'), 3)),\n",
       " (739, (('And', 'Adam'), 6)),\n",
       " (740, (('Adam', 'gave'), 1)),\n",
       " (741, (('gave', 'names'), 1)),\n",
       " (742, (('names', 'to'), 1)),\n",
       " (743, (('to', 'all'), 4)),\n",
       " (744, (('all', 'cattle'), 2)),\n",
       " (745, (('field', ';'), 6)),\n",
       " (746, ((';', 'but'), 16)),\n",
       " (747, (('but', 'for'), 1)),\n",
       " (748, (('for', 'Adam'), 1)),\n",
       " (749, (('Adam', 'there'), 1)),\n",
       " (750, (('not', 'found'), 2)),\n",
       " (751, (('found', 'an'), 1)),\n",
       " (752, (('God', 'caused'), 2)),\n",
       " (753, (('caused', 'a'), 1)),\n",
       " (754, (('a', 'deep'), 2)),\n",
       " (755, (('deep', 'sleep'), 2)),\n",
       " (756, (('sleep', 'to'), 1)),\n",
       " (757, (('to', 'fall'), 1)),\n",
       " (758, (('fall', 'upon'), 2)),\n",
       " (759, (('upon', 'Adam'), 1)),\n",
       " (760, (('Adam', ','), 3)),\n",
       " (761, (('he', 'sle'), 1)),\n",
       " (762, (('sle', 'and'), 1)),\n",
       " (763, (('he', 'took'), 17)),\n",
       " (764, (('took', 'one'), 1)),\n",
       " (765, (('one', 'of'), 11)),\n",
       " (766, (('of', 'his'), 74)),\n",
       " (767, (('his', 'ribs'), 1)),\n",
       " (768, (('ribs', ','), 1)),\n",
       " (769, (('and', 'closed'), 1)),\n",
       " (770, (('closed', 'up'), 2)),\n",
       " (771, (('up', 'the'), 13)),\n",
       " (772, (('the', 'flesh'), 5)),\n",
       " (773, (('flesh', 'instead'), 1)),\n",
       " (774, (('instead', 'thereof'), 1)),\n",
       " (775, (('thereof', ';'), 2)),\n",
       " (776, (('the', 'rib'), 1)),\n",
       " (777, (('rib', ','), 1)),\n",
       " (778, (('had', 'taken'), 2)),\n",
       " (779, (('taken', 'from'), 2)),\n",
       " (780, (('from', 'man'), 1)),\n",
       " (781, ((',', 'made'), 1)),\n",
       " (782, (('made', 'he'), 3)),\n",
       " (783, (('he', 'a'), 1)),\n",
       " (784, (('a', 'woman'), 1)),\n",
       " (785, (('woman', ','), 5)),\n",
       " (786, (('brought', 'her'), 3)),\n",
       " (787, (('her', 'unto'), 1)),\n",
       " (788, (('unto', 'the'), 64)),\n",
       " (789, (('man', '.'), 3)),\n",
       " (790, (('Adam', 'said'), 1)),\n",
       " (791, ((',', 'This'), 17)),\n",
       " (792, (('This', 'is'), 12)),\n",
       " (793, (('is', 'now'), 2)),\n",
       " (794, (('now', 'bone'), 1)),\n",
       " (795, (('bone', 'of'), 1)),\n",
       " (796, (('of', 'my'), 52)),\n",
       " (797, (('my', 'bones'), 2)),\n",
       " (798, (('bones', ','), 1)),\n",
       " (799, (('and', 'flesh'), 1)),\n",
       " (800, (('flesh', 'of'), 6)),\n",
       " (801, (('my', 'fle'), 1)),\n",
       " (802, (('fle', 'she'), 1)),\n",
       " (803, (('she', 'shall'), 5)),\n",
       " (804, (('be', 'called'), 6)),\n",
       " (805, (('called', 'Woman'), 1)),\n",
       " (806, (('Woman', ','), 1)),\n",
       " (807, ((',', 'because'), 24)),\n",
       " (808, (('because', 'she'), 5)),\n",
       " (809, (('she', 'was'), 14)),\n",
       " (810, (('was', 'taken'), 4)),\n",
       " (811, (('taken', 'out'), 1)),\n",
       " (812, (('of', 'Man'), 1)),\n",
       " (813, (('Man', '.'), 1)),\n",
       " (814, (('.', 'Therefore'), 7)),\n",
       " (815, (('Therefore', 'shall'), 1)),\n",
       " (816, (('shall', 'a'), 1)),\n",
       " (817, (('man', 'leave'), 1)),\n",
       " (818, (('leave', 'his'), 3)),\n",
       " (819, (('his', 'father'), 68)),\n",
       " (820, (('father', 'and'), 8)),\n",
       " (821, (('and', 'his'), 68)),\n",
       " (822, (('his', 'mother'), 15)),\n",
       " (823, (('mother', ','), 4)),\n",
       " (824, (('and', 'shall'), 6)),\n",
       " (825, (('shall', 'cleave'), 1)),\n",
       " (826, (('cleave', 'unto'), 1)),\n",
       " (827, (('unto', 'his'), 51)),\n",
       " (828, (('his', 'wife'), 36)),\n",
       " (829, (('wife', 'and'), 3)),\n",
       " (830, (('and', 'they'), 69)),\n",
       " (831, (('they', 'shall'), 10)),\n",
       " (832, (('be', 'one'), 2)),\n",
       " (833, (('one', 'flesh'), 1)),\n",
       " (834, (('flesh', '.'), 4)),\n",
       " (835, (('And', 'they'), 75)),\n",
       " (836, (('were', 'both'), 2)),\n",
       " (837, (('both', 'naked'), 1)),\n",
       " (838, (('naked', ','), 1)),\n",
       " (839, (('man', 'and'), 2)),\n",
       " (840, (('wife', ','), 28)),\n",
       " (841, (('and', 'were'), 3)),\n",
       " (842, (('were', 'not'), 1)),\n",
       " (843, (('not', 'ashamed'), 1)),\n",
       " (844, (('ashamed', '.'), 1)),\n",
       " (845, (('.', 'Now'), 24)),\n",
       " (846, (('Now', 'the'), 4)),\n",
       " (847, (('the', 'serpent'), 4)),\n",
       " (848, (('serpent', 'was'), 1)),\n",
       " (849, (('was', 'more'), 2)),\n",
       " (850, (('more', 'subtil'), 1)),\n",
       " (851, (('subtil', 'than'), 1)),\n",
       " (852, (('than', 'any'), 1)),\n",
       " (853, (('any', 'beast'), 1)),\n",
       " (854, (('field', 'which'), 3)),\n",
       " (855, (('And', 'he'), 192)),\n",
       " (856, (('he', 'said'), 115)),\n",
       " (857, (('the', 'woman'), 16)),\n",
       " (858, ((',', 'Yea'), 2)),\n",
       " (859, (('Yea', ','), 2)),\n",
       " (860, ((',', 'hath'), 4)),\n",
       " (861, (('hath', 'God'), 1)),\n",
       " (862, ((',', 'Ye'), 9)),\n",
       " (863, (('Ye', 'shall'), 5)),\n",
       " (864, (('shall', 'not'), 17)),\n",
       " (865, (('of', 'every'), 15)),\n",
       " (866, (('garden', '?'), 1)),\n",
       " (867, (('?', 'And'), 74)),\n",
       " (868, (('woman', 'said'), 2)),\n",
       " (869, (('serpent', ','), 2)),\n",
       " (870, ((',', 'We'), 15)),\n",
       " (871, (('We', 'may'), 1)),\n",
       " (872, (('may', 'eat'), 4)),\n",
       " (873, (('the', 'trees'), 3)),\n",
       " (874, (('trees', 'of'), 2)),\n",
       " (875, (('the', 'gard'), 1)),\n",
       " (876, (('gard', 'But'), 1)),\n",
       " (877, (('tree', 'which'), 1)),\n",
       " (878, ((',', 'God'), 17)),\n",
       " (879, (('God', 'hath'), 21)),\n",
       " (880, (('hath', 'said'), 3)),\n",
       " (881, (('of', 'it'), 21)),\n",
       " (882, (('it', ','), 19)),\n",
       " (883, ((',', 'neither'), 7)),\n",
       " (884, (('neither', 'shall'), 3)),\n",
       " (885, (('shall', 'ye'), 6)),\n",
       " (886, (('ye', 'touch'), 1)),\n",
       " (887, (('touch', 'it'), 1)),\n",
       " (888, ((',', 'lest'), 10)),\n",
       " (889, (('lest', 'ye'), 1)),\n",
       " (890, (('ye', 'die'), 1)),\n",
       " (891, (('serpent', 'said'), 1)),\n",
       " (892, (('not', 'surely'), 1)),\n",
       " (893, (('die', ':'), 6)),\n",
       " (894, ((':', 'For'), 4)),\n",
       " (895, (('For', 'God'), 4)),\n",
       " (896, (('God', 'doth'), 1)),\n",
       " (897, (('doth', 'know'), 1)),\n",
       " (898, (('know', 'that'), 11)),\n",
       " (899, (('day', 'ye'), 1)),\n",
       " (900, (('ye', 'eat'), 1)),\n",
       " (901, (('eat', 'thereof'), 1)),\n",
       " (902, (('thereof', ','), 4)),\n",
       " (903, ((',', 'then'), 14)),\n",
       " (904, (('then', 'your'), 1)),\n",
       " (905, (('your', 'eyes'), 4)),\n",
       " (906, (('eyes', 'shall'), 2)),\n",
       " (907, (('be', 'opened'), 1)),\n",
       " (908, (('opened', ','), 2)),\n",
       " (909, (('and', 'ye'), 12)),\n",
       " (910, (('ye', 'shall'), 23)),\n",
       " (911, (('be', 'as'), 4)),\n",
       " (912, (('as', 'gods'), 1)),\n",
       " (913, (('gods', ','), 2)),\n",
       " (914, ((',', 'knowing'), 1)),\n",
       " (915, (('knowing', 'good'), 1)),\n",
       " (916, (('And', 'when'), 28)),\n",
       " (917, (('when', 'the'), 14)),\n",
       " (918, (('woman', 'saw'), 1)),\n",
       " (919, (('tree', 'was'), 1)),\n",
       " (920, (('food', ','), 3)),\n",
       " (921, (('and', 'that'), 14)),\n",
       " (922, (('was', 'pleasant'), 2)),\n",
       " (923, (('the', 'eyes'), 9)),\n",
       " (924, (('eyes', ','), 18)),\n",
       " (925, (('and', 'a'), 19)),\n",
       " (926, (('tree', 'to'), 1)),\n",
       " (927, (('to', 'be'), 19)),\n",
       " (928, (('be', 'desired'), 1)),\n",
       " (929, (('desired', 'to'), 1)),\n",
       " (930, (('to', 'make'), 2)),\n",
       " (931, (('make', 'one'), 1)),\n",
       " (932, (('one', 'wise'), 1)),\n",
       " (933, (('wise', ','), 2)),\n",
       " (934, ((',', 'she'), 12)),\n",
       " (935, (('she', 'took'), 3)),\n",
       " (936, (('took', 'of'), 4)),\n",
       " (937, (('fruit', 'thereof'), 1)),\n",
       " (938, (('and', 'did'), 3)),\n",
       " (939, (('did', 'eat'), 18)),\n",
       " (940, (('eat', ','), 6)),\n",
       " (941, (('and', 'gave'), 16)),\n",
       " (942, (('gave', 'also'), 2)),\n",
       " (943, (('also', 'unto'), 2)),\n",
       " (944, (('unto', 'her'), 24)),\n",
       " (945, (('her', 'husband'), 2)),\n",
       " (946, (('husband', 'with'), 1)),\n",
       " (947, (('with', 'her'), 11)),\n",
       " (948, (('her', ';'), 4)),\n",
       " (949, (('he', 'did'), 10)),\n",
       " (950, (('eat', '.'), 7)),\n",
       " (951, (('eyes', 'of'), 7)),\n",
       " (952, (('them', 'both'), 2)),\n",
       " (953, (('both', 'were'), 1)),\n",
       " (954, (('were', 'opened'), 2)),\n",
       " (955, (('they', 'knew'), 3)),\n",
       " (956, (('knew', 'that'), 3)),\n",
       " (957, (('that', 'they'), 23)),\n",
       " (958, (('were', 'naked'), 1)),\n",
       " (959, (('naked', ';'), 2)),\n",
       " (960, (('they', 'sewed'), 1)),\n",
       " (961, (('sewed', 'fig'), 1)),\n",
       " (962, (('fig', 'leaves'), 1)),\n",
       " (963, (('leaves', 'together'), 1)),\n",
       " (964, (('together', ','), 4)),\n",
       " (965, (('made', 'themselves'), 1)),\n",
       " (966, (('themselves', 'aprons'), 1)),\n",
       " (967, (('aprons', '.'), 1)),\n",
       " (968, (('they', 'heard'), 3)),\n",
       " (969, (('heard', 'the'), 8)),\n",
       " (970, (('the', 'voice'), 6)),\n",
       " (971, (('voice', 'of'), 6)),\n",
       " (972, (('God', 'walking'), 1)),\n",
       " (973, (('walking', 'in'), 1)),\n",
       " (974, (('garden', 'in'), 1)),\n",
       " (975, (('the', 'cool'), 1)),\n",
       " (976, (('cool', 'of'), 1)),\n",
       " (977, (('the', 'd'), 1)),\n",
       " (978, (('d', 'and'), 2)),\n",
       " (979, (('and', 'Adam'), 1)),\n",
       " (980, (('Adam', 'and'), 1)),\n",
       " (981, (('wife', 'hid'), 1)),\n",
       " (982, (('hid', 'themselves'), 1)),\n",
       " (983, (('themselves', 'from'), 1)),\n",
       " (984, (('the', 'presence'), 8)),\n",
       " (985, (('presence', 'of'), 8)),\n",
       " (986, (('God', 'amongst'), 1)),\n",
       " (987, (('amongst', 'the'), 1)),\n",
       " (988, (('garden', '.'), 1)),\n",
       " (989, (('called', 'unto'), 6)),\n",
       " (990, (('and', 'said'), 89)),\n",
       " (991, (('unto', 'him'), 88)),\n",
       " (992, (('him', ','), 127)),\n",
       " (993, ((',', 'Where'), 5)),\n",
       " (994, (('Where', 'art'), 1)),\n",
       " (995, (('art', 'thou'), 9)),\n",
       " (996, (('thou', '?'), 9)),\n",
       " (997, (('I', 'heard'), 3)),\n",
       " (998, (('heard', 'thy'), 3)),\n",
       " (999, (('thy', 'voice'), 1)),\n",
       " ...]"
      ]
     },
     "execution_count": 390,
     "metadata": {},
     "output_type": "execute_result"
    }
   ],
   "source": [
    "[(k,v) for k,v in enumerate(FreqDist(nltk.bigrams(text)).items())]"
   ]
  },
  {
   "cell_type": "code",
   "execution_count": 338,
   "metadata": {},
   "outputs": [
    {
     "name": "stdout",
     "output_type": "stream",
     "text": [
      "['creature', 'thing', 'soul', '.', 'substance', ',']\n"
     ]
    }
   ],
   "source": [
    "print(list(cfd['living']))"
   ]
  },
  {
   "cell_type": "code",
   "execution_count": 339,
   "metadata": {},
   "outputs": [
    {
     "name": "stdout",
     "output_type": "stream",
     "text": [
      "living\n",
      "creature\n",
      "that\n",
      "he\n",
      "said\n"
     ]
    }
   ],
   "source": [
    "generate_model(cfd,'living')"
   ]
  },
  {
   "cell_type": "code",
   "execution_count": 391,
   "metadata": {},
   "outputs": [
    {
     "data": {
      "text/plain": [
       "'Quando il sole sorge, gli uccelli iniziano a cinguettare. Quando il sole tramonta, gli uccelli iniziano ad addormentarsi'"
      ]
     },
     "execution_count": 391,
     "metadata": {},
     "output_type": "execute_result"
    }
   ],
   "source": [
    "text = 'Quando il sole sorge, gli uccelli iniziano a cinguettare. Quando il sole tramonta, \\\n",
    "gli uccelli iniziano ad addormentarsi'\n",
    "text"
   ]
  },
  {
   "cell_type": "code",
   "execution_count": 395,
   "metadata": {},
   "outputs": [],
   "source": [
    "bigrams = nltk.bigrams(word_tokenize(text))\n",
    "cfd = nltk.ConditionalFreqDist(bigrams)"
   ]
  },
  {
   "cell_type": "code",
   "execution_count": 398,
   "metadata": {},
   "outputs": [
    {
     "name": "stdout",
     "output_type": "stream",
     "text": [
      "quando ['il']\n",
      "gli uccelli ['iniziano']\n"
     ]
    }
   ],
   "source": [
    "print('quando',list(cfd['Quando']))\n",
    "print('gli uccelli', list(cfd['uccelli']))"
   ]
  },
  {
   "cell_type": "code",
   "execution_count": 400,
   "metadata": {},
   "outputs": [
    {
     "name": "stdout",
     "output_type": "stream",
     "text": [
      "Quando\n",
      "il\n",
      "sole\n",
      "sorge\n",
      ",\n",
      "None\n",
      "%%%%%%%%%%\n",
      "uccelli\n",
      "iniziano\n",
      "a\n",
      "cinguettare\n",
      ".\n",
      "None\n"
     ]
    }
   ],
   "source": [
    "print(generate_model(cfd,'Quando'))\n",
    "print(10*'%')\n",
    "print(generate_model(cfd,'uccelli'))"
   ]
  },
  {
   "cell_type": "markdown",
   "metadata": {},
   "source": [
    "#### Functions\n",
    "A function is a block of code that performs a well-defined task."
   ]
  },
  {
   "cell_type": "markdown",
   "metadata": {},
   "source": [
    "##### Text diversity score function"
   ]
  },
  {
   "cell_type": "code",
   "execution_count": 401,
   "metadata": {},
   "outputs": [],
   "source": [
    "# function to calculate a diversity score\n",
    "def lexical_diversity(text):\n",
    "    word_count = len(text)\n",
    "    vocab_size = len(set(text))\n",
    "    diversity_score = word_count / vocab_size\n",
    "    return diversity_score"
   ]
  },
  {
   "cell_type": "code",
   "execution_count": 414,
   "metadata": {},
   "outputs": [
    {
     "name": "stdout",
     "output_type": "stream",
     "text": [
      "Quando il sole sorge, gli uccelli iniziano a cinguettare. Quando il sole tramonta, gli uccelli iniziano ad addormentarsi 6.32\n",
      "%%%%%%%%%%\n",
      "ciao io sono giorgio 2.22\n"
     ]
    }
   ],
   "source": [
    "print(text,round(lexical_diversity(text),2))\n",
    "print(10 * '%')\n",
    "text1 = 'ciao io sono giorgio'\n",
    "print(text1,round(lexical_diversity(text1),2))"
   ]
  },
  {
   "cell_type": "markdown",
   "metadata": {},
   "source": [
    "##### Function for plural"
   ]
  },
  {
   "cell_type": "code",
   "execution_count": 420,
   "metadata": {},
   "outputs": [],
   "source": [
    "def plural(word):\n",
    "    if word.endswith('y'):\n",
    "        return word[:-1] + 'ies'\n",
    "    elif word[-1] in 'sx' or word[-2:] in ['sh','ch']:\n",
    "        return word + 'es'\n",
    "    elif word.endswith('an'):\n",
    "        return word[:-2] + 'en'\n",
    "    else:\n",
    "        return word + 's'\n",
    "# notice that endswith is called 'method' because it is a function associateed to a string object"
   ]
  },
  {
   "cell_type": "code",
   "execution_count": 422,
   "metadata": {},
   "outputs": [
    {
     "name": "stdout",
     "output_type": "stream",
     "text": [
      "man men\n",
      "fly flies\n",
      "match matches\n"
     ]
    }
   ],
   "source": [
    "print('man',plural('man'))\n",
    "print('fly', plural('fly'))\n",
    "print('match', plural('match'))"
   ]
  },
  {
   "cell_type": "code",
   "execution_count": null,
   "metadata": {},
   "outputs": [],
   "source": []
  }
 ],
 "metadata": {
  "kernelspec": {
   "display_name": "Python 3",
   "language": "python",
   "name": "python3"
  },
  "language_info": {
   "codemirror_mode": {
    "name": "ipython",
    "version": 3
   },
   "file_extension": ".py",
   "mimetype": "text/x-python",
   "name": "python",
   "nbconvert_exporter": "python",
   "pygments_lexer": "ipython3",
   "version": "3.6.4"
  }
 },
 "nbformat": 4,
 "nbformat_minor": 2
}
