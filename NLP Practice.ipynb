{
 "cells": [
  {
   "cell_type": "code",
   "execution_count": 1,
   "metadata": {},
   "outputs": [],
   "source": [
    "import nltk\n",
    "from nltk.tokenize import word_tokenize, sent_tokenize\n",
    "from nltk.corpus import stopwords\n",
    "from nltk.probability import FreqDist"
   ]
  },
  {
   "cell_type": "code",
   "execution_count": 2,
   "metadata": {},
   "outputs": [
    {
     "data": {
      "text/plain": [
       "'deep learning is a subset of ai. ml is a subseet of data science'"
      ]
     },
     "execution_count": 2,
     "metadata": {},
     "output_type": "execute_result"
    }
   ],
   "source": [
    "sentence = 'Deep Learning is a subset of AI. ML is a subseet of Data Science'.lower()\n",
    "sentence"
   ]
  },
  {
   "cell_type": "code",
   "execution_count": 3,
   "metadata": {},
   "outputs": [
    {
     "name": "stdout",
     "output_type": "stream",
     "text": [
      "['deep learning is a subset of ai.', 'ml is a subseet of data science']\n"
     ]
    }
   ],
   "source": [
    "sentence_tokenized = sent_tokenize(sentence)\n",
    "print(sentence_tokenized)"
   ]
  },
  {
   "cell_type": "code",
   "execution_count": 4,
   "metadata": {},
   "outputs": [
    {
     "name": "stdout",
     "output_type": "stream",
     "text": [
      "['deep', 'learning', 'is', 'a', 'subset', 'of', 'ai', '.', 'ml', 'is', 'a', 'subseet', 'of', 'data', 'science']\n"
     ]
    }
   ],
   "source": [
    "word_tokenized = word_tokenize(sentence)\n",
    "print(word_tokenized)"
   ]
  },
  {
   "cell_type": "code",
   "execution_count": 5,
   "metadata": {},
   "outputs": [
    {
     "name": "stdout",
     "output_type": "stream",
     "text": [
      "[('deep', 'learning'), ('deep', 'is'), ('deep', 'a'), ('deep', 'subset'), ('deep', 'of'), ('deep', 'ai'), ('deep', '.'), ('deep', 'ml'), ('deep', 'is'), ('deep', 'a'), ('deep', 'subseet'), ('deep', 'of'), ('deep', 'data'), ('deep', 'science'), ('learning', 'is'), ('learning', 'a'), ('learning', 'subset'), ('learning', 'of'), ('learning', 'ai'), ('learning', '.'), ('learning', 'ml'), ('learning', 'is'), ('learning', 'a'), ('learning', 'subseet'), ('learning', 'of'), ('learning', 'data'), ('learning', 'science'), ('is', 'a'), ('is', 'subset'), ('is', 'of'), ('is', 'ai'), ('is', '.'), ('is', 'ml'), ('is', 'is'), ('is', 'a'), ('is', 'subseet'), ('is', 'of'), ('is', 'data'), ('is', 'science'), ('a', 'subset'), ('a', 'of'), ('a', 'ai'), ('a', '.'), ('a', 'ml'), ('a', 'is'), ('a', 'a'), ('a', 'subseet'), ('a', 'of'), ('a', 'data'), ('a', 'science'), ('subset', 'of'), ('subset', 'ai'), ('subset', '.'), ('subset', 'ml'), ('subset', 'is'), ('subset', 'a'), ('subset', 'subseet'), ('subset', 'of'), ('subset', 'data'), ('subset', 'science'), ('of', 'ai'), ('of', '.'), ('of', 'ml'), ('of', 'is'), ('of', 'a'), ('of', 'subseet'), ('of', 'of'), ('of', 'data'), ('of', 'science'), ('ai', '.'), ('ai', 'ml'), ('ai', 'is'), ('ai', 'a'), ('ai', 'subseet'), ('ai', 'of'), ('ai', 'data'), ('ai', 'science'), ('.', 'ml'), ('.', 'is'), ('.', 'a'), ('.', 'subseet'), ('.', 'of'), ('.', 'data'), ('.', 'science'), ('ml', 'is'), ('ml', 'a'), ('ml', 'subseet'), ('ml', 'of'), ('ml', 'data'), ('ml', 'science'), ('is', 'a'), ('is', 'subseet'), ('is', 'of'), ('is', 'data'), ('is', 'science'), ('a', 'subseet'), ('a', 'of'), ('a', 'data'), ('a', 'science'), ('subseet', 'of'), ('subseet', 'data'), ('subseet', 'science'), ('of', 'data'), ('of', 'science'), ('data', 'science')]\n"
     ]
    }
   ],
   "source": [
    "import itertools\n",
    "print(list(itertools.combinations(word_tokenized,2)))"
   ]
  },
  {
   "cell_type": "code",
   "execution_count": 6,
   "metadata": {},
   "outputs": [
    {
     "data": {
      "text/plain": [
       "['they', 'before', 'he', 'a', 'most', 'was', 's', 'did', \"she's\", 'shouldn']"
      ]
     },
     "execution_count": 6,
     "metadata": {},
     "output_type": "execute_result"
    }
   ],
   "source": [
    "list(set(stopwords.words('english')))[:10]"
   ]
  },
  {
   "cell_type": "code",
   "execution_count": 7,
   "metadata": {},
   "outputs": [
    {
     "data": {
      "text/plain": [
       "['deep', 'learning', 'subset', 'ai', '.', 'ml', 'subseet', 'data', 'science']"
      ]
     },
     "execution_count": 7,
     "metadata": {},
     "output_type": "execute_result"
    }
   ],
   "source": [
    "stopwords_list = list(set(stopwords.words('english')))\n",
    "word_tok_no_stopw = []\n",
    "for i in word_tokenized:\n",
    "    if i not in stopwords_list:\n",
    "        word_tok_no_stopw.append(i)\n",
    "word_tok_no_stopw\n",
    "        "
   ]
  },
  {
   "cell_type": "code",
   "execution_count": 10,
   "metadata": {},
   "outputs": [
    {
     "name": "stdout",
     "output_type": "stream",
     "text": [
      "<FreqDist with 12 samples and 15 outcomes>\n"
     ]
    }
   ],
   "source": [
    "from nltk.probability import FreqDist\n",
    "fdist = FreqDist(word_tokenized)\n",
    "print(fdist)"
   ]
  },
  {
   "cell_type": "code",
   "execution_count": 12,
   "metadata": {},
   "outputs": [
    {
     "data": {
      "text/plain": [
       "[('is', 2), ('a', 2)]"
      ]
     },
     "execution_count": 12,
     "metadata": {},
     "output_type": "execute_result"
    }
   ],
   "source": [
    "fdist.most_common(2)"
   ]
  },
  {
   "cell_type": "code",
   "execution_count": 13,
   "metadata": {},
   "outputs": [
    {
     "data": {
      "text/plain": [
       "<Figure size 640x480 with 1 Axes>"
      ]
     },
     "metadata": {},
     "output_type": "display_data"
    }
   ],
   "source": [
    "import matplotlib.pyplot as plt\n",
    "fdist.plot(30,cumulative=False)\n",
    "plt.show()"
   ]
  },
  {
   "cell_type": "markdown",
   "metadata": {},
   "source": [
    "## POS Part Of Speech Tagging"
   ]
  },
  {
   "cell_type": "code",
   "execution_count": 18,
   "metadata": {},
   "outputs": [
    {
     "data": {
      "text/plain": [
       "[('deep', 'JJ'),\n",
       " ('learning', 'NN'),\n",
       " ('is', 'VBZ'),\n",
       " ('a', 'DT'),\n",
       " ('subset', 'NN'),\n",
       " ('of', 'IN'),\n",
       " ('ai', 'NN'),\n",
       " ('.', '.'),\n",
       " ('ml', 'NN'),\n",
       " ('is', 'VBZ'),\n",
       " ('a', 'DT'),\n",
       " ('subseet', 'NN'),\n",
       " ('of', 'IN'),\n",
       " ('data', 'NNS'),\n",
       " ('science', 'NN')]"
      ]
     },
     "execution_count": 18,
     "metadata": {},
     "output_type": "execute_result"
    }
   ],
   "source": [
    "nltk.pos_tag(word_tokenized)"
   ]
  },
  {
   "cell_type": "code",
   "execution_count": null,
   "metadata": {},
   "outputs": [],
   "source": []
  }
 ],
 "metadata": {
  "kernelspec": {
   "display_name": "Python 3",
   "language": "python",
   "name": "python3"
  },
  "language_info": {
   "codemirror_mode": {
    "name": "ipython",
    "version": 3
   },
   "file_extension": ".py",
   "mimetype": "text/x-python",
   "name": "python",
   "nbconvert_exporter": "python",
   "pygments_lexer": "ipython3",
   "version": "3.6.4"
  }
 },
 "nbformat": 4,
 "nbformat_minor": 2
}
