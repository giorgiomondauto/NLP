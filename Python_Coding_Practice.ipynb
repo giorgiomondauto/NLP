{
 "cells": [
  {
   "cell_type": "markdown",
   "metadata": {},
   "source": [
    "Given an array of integers, return indices of the two numbers such that they add up to a specific target.\n",
    "\n",
    "You may assume that each input would have exactly one solution, and you may not use the same element twice.\n",
    "\n",
    "Example:\n",
    "\n",
    "Given nums = [2, 7, 11, 15], target = 9,\n",
    "\n",
    "Because nums[0] + nums[1] = 2 + 7 = 9,\n",
    "return [0, 1]."
   ]
  },
  {
   "cell_type": "code",
   "execution_count": 50,
   "metadata": {},
   "outputs": [
    {
     "data": {
      "text/plain": [
       "{0: 2, 1: 7}"
      ]
     },
     "execution_count": 50,
     "metadata": {},
     "output_type": "execute_result"
    }
   ],
   "source": [
    "# from web\n",
    "class Subject():\n",
    "    def twosum(self, nums, target):\n",
    "        lookup = {}\n",
    "        for cnt, num in enumerate(nums):\n",
    "            if target - num in lookup:\n",
    "                return lookup[target-num], cnt\n",
    "            lookup[num] = cnt \n",
    "\n",
    "nums = [2, 7, 11, 15]\n",
    "target = 9\n",
    "twosum(nums, target)"
   ]
  },
  {
   "cell_type": "code",
   "execution_count": 34,
   "metadata": {
    "collapsed": true
   },
   "outputs": [],
   "source": [
    "# my solution\n",
    "def twosum(nums, target):\n",
    "    solution = {}\n",
    "    for i,n in enumerate(nums):\n",
    "        if (target - n) in nums:\n",
    "            solution[i] = n\n",
    "    return solution"
   ]
  },
  {
   "cell_type": "code",
   "execution_count": 35,
   "metadata": {},
   "outputs": [
    {
     "data": {
      "text/plain": [
       "{0: 2, 1: 7}"
      ]
     },
     "execution_count": 35,
     "metadata": {},
     "output_type": "execute_result"
    }
   ],
   "source": [
    "nums = [2, 7, 11, 15]\n",
    "target = 9\n",
    "twosum(nums, target)"
   ]
  },
  {
   "cell_type": "markdown",
   "metadata": {},
   "source": [
    "NO IDEA:\n",
    "You are given two non-empty linked lists representing two non-negative integers. The digits are stored in reverse order and each of their nodes contain a single digit. Add the two numbers and return it as a linked list.\n",
    "\n",
    "You may assume the two numbers do not contain any leading zero, except the number 0 itself."
   ]
  },
  {
   "cell_type": "code",
   "execution_count": 39,
   "metadata": {
    "collapsed": true
   },
   "outputs": [],
   "source": [
    "# def lengthOfLongestSubstring(word):\n",
    "#     n = len(word)\n",
    "#     longest = 0\n",
    "#     for i in range(n):\n",
    "#         seen = set()\n",
    "#         for j in range(i, n):\n",
    "#             if word[j] in seen: break\n",
    "#             seen.add(word[j])\n",
    "#         longest = max(len(seen), longest)\n",
    "#     return longest"
   ]
  },
  {
   "cell_type": "code",
   "execution_count": 41,
   "metadata": {},
   "outputs": [
    {
     "data": {
      "text/plain": [
       "4"
      ]
     },
     "execution_count": 41,
     "metadata": {},
     "output_type": "execute_result"
    }
   ],
   "source": [
    "lengthOfLongestSubstring('abcad')"
   ]
  },
  {
   "cell_type": "markdown",
   "metadata": {
    "collapsed": true
   },
   "source": [
    "Count ways to express a number as sum of consecutive numbers\n",
    "Given a number N, find the number of ways to represent this number as a sum of 2 or more consecutive natural numbers."
   ]
  },
  {
   "cell_type": "markdown",
   "metadata": {},
   "source": [
    "## Find minimum difference between any two elements | Set 2"
   ]
  },
  {
   "cell_type": "code",
   "execution_count": 65,
   "metadata": {},
   "outputs": [
    {
     "name": "stdout",
     "output_type": "stream",
     "text": [
      "the function took 0.000026 to run\n",
      "2\n"
     ]
    }
   ],
   "source": [
    "import numpy as np\n",
    "import itertools\n",
    "import time\n",
    "def min_abs_diff(values):\n",
    "    start_time = time.time()\n",
    "    #print('values: {}'.format(values))\n",
    "    combinations = set(list(itertools.permutations(values, 2)))\n",
    "    results = []\n",
    "    for i in combinations:\n",
    "        results.append(abs(i[0] - i[1]))\n",
    "    print('the function took {:5f} to run'.format(time.time() - start_time))\n",
    "    return(min(set(results)))\n",
    "values = np.array([9,11,21,23])\n",
    "print(min_abs_diff(values))"
   ]
  },
  {
   "cell_type": "markdown",
   "metadata": {},
   "source": [
    "### Number of subsets with zero sum"
   ]
  },
  {
   "cell_type": "code",
   "execution_count": 66,
   "metadata": {},
   "outputs": [
    {
     "name": "stdout",
     "output_type": "stream",
     "text": [
      "4\n"
     ]
    }
   ],
   "source": [
    "import numpy as np\n",
    "import itertools\n",
    "values = np.array([2,2,-8,-4,4])\n",
    "\n",
    "#print(sum(values))\n",
    "\n",
    "#print(list(itertools.combinations(values,2)))\n",
    "combinations = []\n",
    "def subset_sum_0(values):\n",
    "    '''comment'''\n",
    "    for i in range (0,values.shape[0] + 1):\n",
    "        combinations.append(list(itertools.combinations(values,i)))\n",
    "    items = [s for x in combinations for s in x] # to concatenate lists into one long list.\n",
    "    cnt = 0\n",
    "    for c in items:\n",
    "        if sum(c) == 0:\n",
    "            cnt += 1\n",
    "    return cnt\n",
    "\n",
    "\n",
    "print(subset_sum_0(values))"
   ]
  },
  {
   "cell_type": "markdown",
   "metadata": {},
   "source": [
    "### Pair with largest sum which is less than K in the array\n",
    "https://www.geeksforgeeks.org/pair-with-largest-sum-which-is-less-than-k-in-the-array/"
   ]
  },
  {
   "cell_type": "code",
   "execution_count": 78,
   "metadata": {},
   "outputs": [
    {
     "name": "stdout",
     "output_type": "stream",
     "text": [
      "it took 0.000025\n",
      "{'values': (100, 10), 'sum': 110}\n"
     ]
    }
   ],
   "source": [
    "import itertools\n",
    "import numpy as np\n",
    "import time\n",
    "\n",
    "\n",
    "values =np.array([5, 20, 110, 100, 10])\n",
    "dictionary = {}\n",
    "k = 120\n",
    "c = 2 \n",
    "def max_sum_pair(values,k,c):\n",
    "    start_time = time.time()\n",
    "    combinations = list(itertools.combinations(values,c))\n",
    "    for pairs in combinations:\n",
    "        if sum(pairs) < k:\n",
    "            score = pairs[0] + pairs[1]\n",
    "            dictionary = {'values':pairs,'sum':score}\n",
    "    print('it took {:5f}'.format(time.time() - start_time))\n",
    "    return dictionary\n",
    "\n",
    "        \n",
    "print(max_sum_pair(values,k,c))"
   ]
  },
  {
   "cell_type": "markdown",
   "metadata": {},
   "source": [
    "### Greatest contiguous sub-array of size K\n",
    "Given an array arr[] of integers and an integer K, the task is to find the greatest contiguous sub-array of size K. Sub-array X is said to be greater than sub-array Y if the first non-matching element in both the sub-arrays has a greater value in X than in Y."
   ]
  },
  {
   "cell_type": "code",
   "execution_count": 109,
   "metadata": {},
   "outputs": [
    {
     "data": {
      "text/plain": [
       "[4, 3, 2, 5]"
      ]
     },
     "execution_count": 109,
     "metadata": {},
     "output_type": "execute_result"
    }
   ],
   "source": [
    "import numpy as np\n",
    "\n",
    "def possible_subarrays(values,k):\n",
    "    i = 0\n",
    "    list_values = []\n",
    "    while i < len(values) + 1:\n",
    "        if len(values[i:k]) > 1 :\n",
    "            list_values.append(values[i:k].tolist())\n",
    "        i +=1\n",
    "        k+=1\n",
    "    \n",
    "    a = []\n",
    "    for val in list_values:\n",
    "        a.append(val[0])\n",
    "    result = list_values[a.index(max(a))]\n",
    "    return result"
   ]
  },
  {
   "cell_type": "code",
   "execution_count": 110,
   "metadata": {},
   "outputs": [
    {
     "data": {
      "text/plain": [
       "[4, 3, 2, 5]"
      ]
     },
     "execution_count": 110,
     "metadata": {},
     "output_type": "execute_result"
    }
   ],
   "source": [
    "values = np.array([1, 4, 3, 2, 5])\n",
    "k = 4\n",
    "possible_subarrays(values,k)"
   ]
  },
  {
   "cell_type": "code",
   "execution_count": 111,
   "metadata": {},
   "outputs": [
    {
     "data": {
      "text/plain": [
       "[9, 2, 7]"
      ]
     },
     "execution_count": 111,
     "metadata": {},
     "output_type": "execute_result"
    }
   ],
   "source": [
    "values = np.array([1, 9, 2, 7, 9, 3])\n",
    "k = 3\n",
    "possible_subarrays(values,k)"
   ]
  },
  {
   "cell_type": "markdown",
   "metadata": {},
   "source": [
    "### Find the smallest positive number missing from an unsorted array | Set 3\n",
    "Given an unsorted array with both positive and negative elements. The task is to find the smallest positive number missing from the array."
   ]
  },
  {
   "cell_type": "code",
   "execution_count": 115,
   "metadata": {
    "collapsed": true
   },
   "outputs": [],
   "source": [
    "import numpy as np\n",
    "def minint_missvalue(values):\n",
    "    positive_values = values[values>0]\n",
    "    sort_values = np.sort(positive_values) # sort an array wit np.array . if a list, list.sort()\n",
    "    possible_values = []\n",
    "    for i in range(min(sort_values),max(sort_values)):\n",
    "        if (i not in sort_values): # check if an item is in a list, if i not in values\n",
    "            possible_values.append(i)\n",
    "\n",
    "    return min(possible_values)"
   ]
  },
  {
   "cell_type": "code",
   "execution_count": 119,
   "metadata": {},
   "outputs": [
    {
     "name": "stdout",
     "output_type": "stream",
     "text": [
      "3\n",
      "4\n"
     ]
    }
   ],
   "source": [
    "values = np.array([1,5,5,5,2])\n",
    "print(minint_missvalue(values))\n",
    "values_2 = np.array([2, 3, 7, 6, 8, -1, -10, 15])\n",
    "print(minint_missvalue(values_2))"
   ]
  },
  {
   "cell_type": "markdown",
   "metadata": {},
   "source": [
    "### Find the element that appears once"
   ]
  },
  {
   "cell_type": "code",
   "execution_count": 15,
   "metadata": {
    "collapsed": true
   },
   "outputs": [],
   "source": [
    "import numpy as np\n",
    "import pandas as pd\n",
    "\n",
    "def min_count(values):\n",
    "    unique_values, counts = np.unique(values, return_counts = True)\n",
    "    dictionary = dict(zip(unique_values, counts))\n",
    "    return dictionary\n",
    "\n",
    "def get_dict_key(val,dictionary):\n",
    "        for key,value in dictionary.items():\n",
    "            if val == value:\n",
    "                return key\n",
    "            "
   ]
  },
  {
   "cell_type": "code",
   "execution_count": 16,
   "metadata": {},
   "outputs": [
    {
     "data": {
      "text/plain": [
       "2"
      ]
     },
     "execution_count": 16,
     "metadata": {},
     "output_type": "execute_result"
    }
   ],
   "source": [
    "get_dict_key(min(dictionary.values()),dictionary)\n",
    "get_dict_key(1,dictionary)"
   ]
  },
  {
   "cell_type": "markdown",
   "metadata": {},
   "source": [
    "### Determining the Most Frequently Occurring Items in a Sequence of integers, words. Also for arrays. \n",
    "using:\n",
    "#### from collections import Counter"
   ]
  },
  {
   "cell_type": "code",
   "execution_count": 23,
   "metadata": {},
   "outputs": [
    {
     "name": "stdout",
     "output_type": "stream",
     "text": [
      "[('eyes', 8), ('the', 5), ('look', 4)]\n",
      "3\n",
      "Counter({'eyes': 9, 'the': 5, 'look': 4, 'into': 4, 'my': 3, 'around': 2, 'not': 1, \"don't\": 1, \"you're\": 1, 'under': 1, 'mywords': 1})\n",
      "%%%%%%%%%%\n",
      "Counter({'eyes': 10, 'into': 5, 'the': 5, 'look': 4, 'my': 3, 'around': 2, 'mywords': 2, 'not': 1, \"don't\": 1, \"you're\": 1, 'under': 1})\n",
      "%%%%%%%%%%\n",
      "Counter({'io': 1})\n",
      "%%\n",
      "Counter({'ciao': 2, 'sono': 2, 'io': 1, 'tu': 1})\n"
     ]
    }
   ],
   "source": [
    "words = [   'look', 'into', 'my', 'eyes', 'look', 'into', 'my', 'eyes',   'the', 'eyes', 'the', 'eyes', 'the', 'eyes', 'not', 'around', 'the',   'eyes', \"don't\", 'look', 'around', 'the', 'eyes', 'look', 'into',   'my', 'eyes', \"you're\", 'under' ]\n",
    "from collections import Counter\n",
    "word_counts = Counter(words)\n",
    "top_three = word_counts.most_common(3)\n",
    "print(top_three) \n",
    "\n",
    "print(word_counts['into'])\n",
    "\n",
    "# if I add additional words\n",
    "additional_words = ['into', 'mywords', 'eyes']\n",
    "\n",
    "# use .update(new_words)\n",
    "word_counts.update(additional_words)\n",
    "print(word_counts)\n",
    "\n",
    "### or also ###\n",
    "print(10*'%')\n",
    "for word in additional_words:\n",
    "    word_counts[word] += 1\n",
    "print(word_counts)\n",
    "print(10*'%')\n",
    "## also operations like\n",
    "a = Counter(['ciao','io','sono'])\n",
    "b = Counter(['ciao','tu','sono'])\n",
    "print(a-b)\n",
    "print(2*'%')\n",
    "print(a+b)\n",
    "\n"
   ]
  },
  {
   "cell_type": "code",
   "execution_count": 13,
   "metadata": {},
   "outputs": [
    {
     "name": "stdout",
     "output_type": "stream",
     "text": [
      "[  1   4   4   4   2   6  66 599]\n",
      "Counter({4: 3, 1: 1, 2: 1, 6: 1, 66: 1, 599: 1})\n"
     ]
    }
   ],
   "source": [
    "## it words with numpy as way\n",
    "import numpy as np\n",
    "from collections import Counter\n",
    "values = np.array([1,4,4,4,2,6,66,599])\n",
    "print(values)\n",
    "count_values = Counter(values)\n",
    "print(count_values)"
   ]
  },
  {
   "cell_type": "code",
   "execution_count": 14,
   "metadata": {},
   "outputs": [
    {
     "name": "stdout",
     "output_type": "stream",
     "text": [
      "4\n"
     ]
    }
   ],
   "source": [
    "values = np.array([1,4,4,4,2,6,66,599])\n",
    "count_values = Counter(values)\n",
    "def find_key(value,dictionary):\n",
    "    for key,val in dictionary.items():\n",
    "        if val == value:\n",
    "            return key\n",
    "\n",
    "print(find_key(3,dict(count_values)))"
   ]
  },
  {
   "cell_type": "markdown",
   "metadata": {},
   "source": [
    "### Find uncommon characters of the two strings | Set 2"
   ]
  },
  {
   "cell_type": "code",
   "execution_count": 71,
   "metadata": {
    "collapsed": true
   },
   "outputs": [],
   "source": [
    "def uncommon_characters(string1,string2):\n",
    "    c1 = []\n",
    "    c2 = []\n",
    "    result1 = []\n",
    "    result2 = []\n",
    "    for i in string1:\n",
    "        c1.append(i)\n",
    "    for t in string2:\n",
    "        c2.append(t)\n",
    "\n",
    "    result = [set(c1) - set(c2), set(c2) - set(c1)]\n",
    "    result = [i for x in result for i in x]\n",
    "    result.sort()\n",
    "    return result"
   ]
  },
  {
   "cell_type": "code",
   "execution_count": 72,
   "metadata": {},
   "outputs": [
    {
     "data": {
      "text/plain": [
       "['c', 'd', 'p', 'q', 'r']"
      ]
     },
     "execution_count": 72,
     "metadata": {},
     "output_type": "execute_result"
    }
   ],
   "source": [
    "s  = uncommon_characters('abadpq', 'cabr')\n",
    "s"
   ]
  },
  {
   "cell_type": "markdown",
   "metadata": {
    "collapsed": true
   },
   "source": [
    "## list.append(..), list.pop(), list.leftappend(..)\n"
   ]
  },
  {
   "cell_type": "code",
   "execution_count": 1,
   "metadata": {},
   "outputs": [
    {
     "name": "stdout",
     "output_type": "stream",
     "text": [
      "deque([1, 2], maxlen=2)\n",
      "deque([2, 3], maxlen=2)\n",
      "deque([5, 2], maxlen=2)\n",
      "deque([5], maxlen=2)\n",
      "deque([5, 10], maxlen=2)\n",
      "deque([10], maxlen=2)\n"
     ]
    }
   ],
   "source": [
    "from collections import deque\n",
    "\n",
    "q = deque(maxlen = 2)\n",
    "\n",
    "q.append(1)\n",
    "q.append(2)\n",
    "print(q)\n",
    "q.append(3)\n",
    "print(q)\n",
    "\n",
    "q.appendleft(5)\n",
    "print(q)\n",
    "\n",
    "q.pop()\n",
    "print(q)\n",
    "    \n",
    "q.append(10)\n",
    "print(q)\n",
    "q.popleft()\n",
    "print(q)"
   ]
  },
  {
   "cell_type": "markdown",
   "metadata": {},
   "source": [
    "### Finding the Largest or Smallest N Items \n",
    "using:\n",
    "#### import heapq "
   ]
  },
  {
   "cell_type": "code",
   "execution_count": 2,
   "metadata": {},
   "outputs": [
    {
     "name": "stdout",
     "output_type": "stream",
     "text": [
      "[42, 37, 23]\n",
      "[-4, 1, 2]\n",
      "[42, 37, 23]\n",
      "[-4]\n"
     ]
    }
   ],
   "source": [
    "import heapq\n",
    "\n",
    "nums = [1, 8, 2, 23, 7, -4, 18, 23, 42, 37, 2] \n",
    "print(heapq.nlargest(3, nums))  # Prints [42, 37, 23]\n",
    "print(heapq.nsmallest(3, nums)) # Prints [-4, 1, 2]\n",
    "\n",
    "nums.sort(key = int, reverse = True)\n",
    "print(nums[:3])\n",
    "\n",
    "print(heapq.nsmallest(1, nums))"
   ]
  },
  {
   "cell_type": "code",
   "execution_count": 4,
   "metadata": {},
   "outputs": [
    {
     "data": {
      "text/plain": [
       "[{'name': 'YHOO', 'price': 16.35, 'shares': 45},\n",
       " {'name': 'FB', 'price': 21.09, 'shares': 200},\n",
       " {'name': 'HPQ', 'price': 31.75, 'shares': 35}]"
      ]
     },
     "execution_count": 4,
     "metadata": {},
     "output_type": "execute_result"
    }
   ],
   "source": [
    "portfolio = [   {'name': 'IBM', 'shares': 100, 'price': 91.1},\n",
    "             {'name': 'AAPL', 'shares': 50, 'price': 543.22},\n",
    "             {'name': 'FB', 'shares': 200, 'price': 21.09}, \n",
    "             {'name': 'HPQ', 'shares': 35, 'price': 31.75},\n",
    "             {'name': 'YHOO', 'shares': 45, 'price': 16.35},  \n",
    "             {'name': 'ACME', 'shares': 75, 'price': 115.65} ]\n",
    "\n",
    "heapq.nsmallest(3, portfolio, key=lambda s: s['price'])"
   ]
  },
  {
   "cell_type": "markdown",
   "metadata": {
    "collapsed": true
   },
   "source": [
    "## another way to create dictionary\n",
    "#### defaultdict(list)\n",
    "#### defaultdict(lambda: '')"
   ]
  },
  {
   "cell_type": "code",
   "execution_count": 2,
   "metadata": {},
   "outputs": [
    {
     "name": "stdout",
     "output_type": "stream",
     "text": [
      "defaultdict(<class 'list'>, {'a': [1, 2], 'b': [4]})\n",
      "defaultdict(<class 'set'>, {'a': {1, 2}, 'b': {4}})\n"
     ]
    }
   ],
   "source": [
    "from collections import defaultdict\n",
    "\n",
    "d = defaultdict(list)\n",
    "d['a'].append(1)\n",
    "d['a'].append(2)\n",
    "d['b'].append(4)\n",
    "print(d)\n",
    "\n",
    "d = defaultdict(set)\n",
    "\n",
    "d['a'].add(1)\n",
    "d['a'].add(2)\n",
    "d['b'].add(4)\n",
    "print(d)"
   ]
  },
  {
   "cell_type": "code",
   "execution_count": 17,
   "metadata": {},
   "outputs": [
    {
     "name": "stdout",
     "output_type": "stream",
     "text": [
      "defaultdict(<class 'list'>, {'a': [2], 'd': [4], 'b': [5]})\n"
     ]
    },
    {
     "data": {
      "text/plain": [
       "[('a', [2]), ('b', [5]), ('d', [4])]"
      ]
     },
     "execution_count": 17,
     "metadata": {},
     "output_type": "execute_result"
    }
   ],
   "source": [
    "from collections import  OrderedDict\n",
    "dictionary = defaultdict(list)\n",
    "dictionary['a'].append(2)\n",
    "dictionary['d'].append(4)\n",
    "dictionary['b'].append(5)\n",
    "print(dictionary)\n",
    "sorted(dictionary.items(), key = lambda x: x[0])\n"
   ]
  },
  {
   "cell_type": "code",
   "execution_count": 189,
   "metadata": {},
   "outputs": [
    {
     "name": "stdout",
     "output_type": "stream",
     "text": [
      "defaultdict(<function <lambda> at 0x110585488>, {'a': 4, 'c': 3})\n"
     ]
    },
    {
     "data": {
      "text/plain": [
       "'NaN'"
      ]
     },
     "execution_count": 189,
     "metadata": {},
     "output_type": "execute_result"
    }
   ],
   "source": [
    "from collections import defaultdict\n",
    "t = defaultdict(lambda: 'NaN')\n",
    "t['a'] = 4\n",
    "t.update({'c':3})\n",
    "print(t)\n",
    "t['g']"
   ]
  },
  {
   "cell_type": "code",
   "execution_count": 176,
   "metadata": {},
   "outputs": [
    {
     "data": {
      "text/plain": [
       "defaultdict(list,\n",
       "            {'TX': ['Austin', 'Houston', 'Dallas'],\n",
       "             'NY': ['Albany', 'Syracuse', 'Buffalo', 'Rochester'],\n",
       "             'CA': ['Sacramento', 'Palo Alto'],\n",
       "             'GA': ['Atlanta']})"
      ]
     },
     "execution_count": 176,
     "metadata": {},
     "output_type": "execute_result"
    }
   ],
   "source": [
    "city_dict = defaultdict(list)\n",
    "for state,city in city_list:\n",
    "    city_dict[state].append(city)\n",
    "    \n",
    "city_dict"
   ]
  },
  {
   "cell_type": "markdown",
   "metadata": {
    "collapsed": true
   },
   "source": [
    "### use zip to calculate min,max, sort values in a dictionary"
   ]
  },
  {
   "cell_type": "code",
   "execution_count": 6,
   "metadata": {},
   "outputs": [
    {
     "data": {
      "text/plain": [
       "{'AAPL': 612.78, 'ACME': 45.23, 'FB': 10.75, 'HPQ': 37.2, 'IBM': 205.55}"
      ]
     },
     "execution_count": 6,
     "metadata": {},
     "output_type": "execute_result"
    }
   ],
   "source": [
    "prices = {   'ACME': 45.23,   'AAPL': 612.78,   'IBM': 205.55,   'HPQ': 37.20,   'FB': 10.75 }\n",
    "prices"
   ]
  },
  {
   "cell_type": "code",
   "execution_count": 7,
   "metadata": {},
   "outputs": [
    {
     "data": {
      "text/plain": [
       "(10.75, 'FB')"
      ]
     },
     "execution_count": 7,
     "metadata": {},
     "output_type": "execute_result"
    }
   ],
   "source": [
    "min_values = min(zip(prices.values(),prices.keys()))\n",
    "min_values"
   ]
  },
  {
   "cell_type": "code",
   "execution_count": 8,
   "metadata": {},
   "outputs": [
    {
     "data": {
      "text/plain": [
       "('AAPL', 612.78)"
      ]
     },
     "execution_count": 8,
     "metadata": {},
     "output_type": "execute_result"
    }
   ],
   "source": [
    "max_values = min(zip(prices.keys(),prices.values()))\n",
    "max_values"
   ]
  },
  {
   "cell_type": "code",
   "execution_count": 9,
   "metadata": {},
   "outputs": [
    {
     "data": {
      "text/plain": [
       "[(10.75, 'FB'),\n",
       " (37.2, 'HPQ'),\n",
       " (45.23, 'ACME'),\n",
       " (205.55, 'IBM'),\n",
       " (612.78, 'AAPL')]"
      ]
     },
     "execution_count": 9,
     "metadata": {},
     "output_type": "execute_result"
    }
   ],
   "source": [
    "sorted_values = sorted(zip(prices.values(),prices.keys()))\n",
    "sorted_values"
   ]
  },
  {
   "cell_type": "code",
   "execution_count": 15,
   "metadata": {},
   "outputs": [
    {
     "name": "stdout",
     "output_type": "stream",
     "text": [
      "(612.78, 'AAPL')\n",
      "IBM\n",
      "612.78\n"
     ]
    }
   ],
   "source": [
    "prices_names = zip(prices.values(),prices.keys())\n",
    "print(max(prices_names))\n",
    "print(max(prices))\n",
    "print(max(prices.values()))"
   ]
  },
  {
   "cell_type": "markdown",
   "metadata": {},
   "source": [
    "### to get max/min key or value in a dictionary"
   ]
  },
  {
   "cell_type": "code",
   "execution_count": 16,
   "metadata": {},
   "outputs": [
    {
     "name": "stdout",
     "output_type": "stream",
     "text": [
      "FB\n",
      "10.75\n"
     ]
    }
   ],
   "source": [
    "print(min(prices, key=lambda k: prices[k]))\n",
    "print(prices[min(prices, key=lambda k: prices[k])])"
   ]
  },
  {
   "cell_type": "markdown",
   "metadata": {},
   "source": [
    "### find differences or commonalities in dictionaries "
   ]
  },
  {
   "cell_type": "code",
   "execution_count": 3,
   "metadata": {},
   "outputs": [
    {
     "name": "stdout",
     "output_type": "stream",
     "text": [
      "{'x': 2, 'y': 2}\n",
      "{'x': 2, 'r': 4}\n",
      "{'x'}\n",
      "{'y'}\n",
      "{('x', 2)}\n"
     ]
    }
   ],
   "source": [
    "a = {'x':2, 'y':2}\n",
    "b= {'x':2,'r':4}\n",
    "print(a)\n",
    "print(b)\n",
    "# Find keys in common\n",
    "print(a.keys() & b.keys())\n",
    "# Find keys in a that are not in b\n",
    "print(a.keys() - b.keys())\n",
    "# Find (key,value) pairs in common\n",
    "print(a.items() & b.items()) "
   ]
  },
  {
   "cell_type": "markdown",
   "metadata": {},
   "source": [
    "### using slice"
   ]
  },
  {
   "cell_type": "code",
   "execution_count": 7,
   "metadata": {},
   "outputs": [
    {
     "name": "stdout",
     "output_type": "stream",
     "text": [
      "[5, 4]\n",
      "1\n",
      "4\n",
      "2\n"
     ]
    }
   ],
   "source": [
    "items = [1,2,5,4,6]\n",
    "a = slice(2,4)\n",
    "print(items[a])\n",
    "b = slice(1,4,2)\n",
    "print(b.start)\n",
    "print(b.stop)\n",
    "print(b.step)"
   ]
  },
  {
   "cell_type": "markdown",
   "metadata": {},
   "source": [
    "###  Sorting a List of Dictionaries by a Common Key \n",
    " using:\n",
    "#### from opereator import itemgetter\n",
    "or without itemgetter, but using\n",
    "#### sorted ( dict_name, key = lambda x: x[''])"
   ]
  },
  {
   "cell_type": "code",
   "execution_count": 26,
   "metadata": {},
   "outputs": [
    {
     "name": "stdout",
     "output_type": "stream",
     "text": [
      "[{'fname': 'Big', 'lname': 'Jones', 'uid': 1004}, {'fname': 'Brian', 'lname': 'Jones', 'uid': 1003}, {'fname': 'David', 'lname': 'Beazley', 'uid': 1002}, {'fname': 'John', 'lname': 'Cleese', 'uid': 1001}]\n",
      "%%%%%%%%%%\n",
      "[{'fname': 'Big', 'lname': 'Jones', 'uid': 1004}, {'fname': 'Brian', 'lname': 'Jones', 'uid': 1003}, {'fname': 'David', 'lname': 'Beazley', 'uid': 1002}, {'fname': 'John', 'lname': 'Cleese', 'uid': 1001}]\n",
      "using lambda\n",
      "[{'fname': 'Big', 'lname': 'Jones', 'uid': 1004}, {'fname': 'Brian', 'lname': 'Jones', 'uid': 1003}, {'fname': 'David', 'lname': 'Beazley', 'uid': 1002}, {'fname': 'John', 'lname': 'Cleese', 'uid': 1001}]\n"
     ]
    }
   ],
   "source": [
    "rows = [{'fname': 'Brian', 'lname': 'Jones', 'uid': 1003},\n",
    "        {'fname': 'David', 'lname': 'Beazley', 'uid': 1002},\n",
    "        {'fname': 'John', 'lname': 'Cleese', 'uid': 1001},\n",
    "        {'fname': 'Big', 'lname': 'Jones', 'uid': 1004} ]\n",
    "\n",
    "from operator import itemgetter\n",
    "sort_fame = sorted(rows, key=itemgetter('fname'))\n",
    "print(sort_fame)\n",
    "print(10*'%')\n",
    "sort_multi_var = sorted(rows, key = itemgetter('fname','lname'))\n",
    "print(sort_multi_var)\n",
    "\n",
    "# without itemgetter, but using sorted ( dict_name, key = lambda x: x[''])\n",
    "print('using lambda')\n",
    "rows_by_fname = sorted(rows, key=lambda r: r['fname'])\n",
    "print(rows_by_fname)"
   ]
  },
  {
   "cell_type": "markdown",
   "metadata": {},
   "source": [
    "### Filtering a sequence of items\n",
    "#### from itertools import compress"
   ]
  },
  {
   "cell_type": "code",
   "execution_count": 27,
   "metadata": {},
   "outputs": [
    {
     "name": "stdout",
     "output_type": "stream",
     "text": [
      "['via terminio', 'casoria']\n"
     ]
    }
   ],
   "source": [
    "from itertools import compress\n",
    "address = ['via terminio', 'casoria','Napoli']\n",
    "numeri= [1,3,-1]\n",
    "\n",
    "number_pos  = [n >0 for n in numeri]\n",
    "\n",
    "print(list(compress(address,number_pos)))"
   ]
  },
  {
   "cell_type": "markdown",
   "metadata": {},
   "source": [
    "### Subset of dictionary\n",
    "using\n",
    "#### dictionary comprehension"
   ]
  },
  {
   "cell_type": "code",
   "execution_count": 30,
   "metadata": {},
   "outputs": [
    {
     "data": {
      "text/plain": [
       "{'AAPL': 612.78, 'IBM': 205.55}"
      ]
     },
     "execution_count": 30,
     "metadata": {},
     "output_type": "execute_result"
    }
   ],
   "source": [
    "prices = {   'ACME': 45.23,   'AAPL': 612.78,   'IBM': 205.55,   'HPQ': 37.20,   'FB': 10.75 }\n",
    "{key:value for key,value in prices.items() if value > 200}"
   ]
  },
  {
   "cell_type": "code",
   "execution_count": 33,
   "metadata": {},
   "outputs": [
    {
     "data": {
      "text/plain": [
       "{'AAPL': 612.78, 'IBM': 205.55, 'HPQ': 37.2}"
      ]
     },
     "execution_count": 33,
     "metadata": {},
     "output_type": "execute_result"
    }
   ],
   "source": [
    "tech_names = { 'AAPL', 'IBM', 'HPQ', 'MSFT' }\n",
    "{ key:value for key,value in prices.items() if key in tech_names }"
   ]
  },
  {
   "cell_type": "markdown",
   "metadata": {},
   "source": [
    "### Lookup across dictionaries\n",
    "using:\n",
    "#### from collections import ChainMap"
   ]
  },
  {
   "cell_type": "code",
   "execution_count": 48,
   "metadata": {},
   "outputs": [
    {
     "name": "stdout",
     "output_type": "stream",
     "text": [
      "3\n",
      "['y', 'x', 'z']\n",
      "[2, 1, 3]\n",
      "[('y', 2), ('x', 1), ('z', 3)]\n"
     ]
    }
   ],
   "source": [
    "a = {'x': 1, 'z': 3 }\n",
    "b = {'y': 2, 'z': 4 }\n",
    "from collections import ChainMap \n",
    "c = ChainMap(a,b) \n",
    "print(c['z'])\n",
    "print(list(c.keys()))\n",
    "print(list(c.values()))\n",
    "print(list(c.items()))"
   ]
  },
  {
   "cell_type": "code",
   "execution_count": 51,
   "metadata": {},
   "outputs": [
    {
     "data": {
      "text/plain": [
       "ChainMap({'z': 3}, {'y': 2, 'z': 4})"
      ]
     },
     "execution_count": 51,
     "metadata": {},
     "output_type": "execute_result"
    }
   ],
   "source": [
    "c"
   ]
  },
  {
   "cell_type": "markdown",
   "metadata": {},
   "source": [
    "### merging dictionary using dict1.update(dict2)"
   ]
  },
  {
   "cell_type": "code",
   "execution_count": 56,
   "metadata": {},
   "outputs": [
    {
     "data": {
      "text/plain": [
       "{'c': 4, 'b': 3}"
      ]
     },
     "execution_count": 56,
     "metadata": {},
     "output_type": "execute_result"
    }
   ],
   "source": [
    "a = {'c':4}\n",
    "b = {'b':3}\n",
    "a.update(b)\n",
    "a"
   ]
  },
  {
   "cell_type": "code",
   "execution_count": 58,
   "metadata": {},
   "outputs": [
    {
     "data": {
      "text/plain": [
       "['b', 'c']"
      ]
     },
     "execution_count": 58,
     "metadata": {},
     "output_type": "execute_result"
    }
   ],
   "source": [
    "sorted(a)"
   ]
  },
  {
   "cell_type": "code",
   "execution_count": 27,
   "metadata": {},
   "outputs": [
    {
     "name": "stdout",
     "output_type": "stream",
     "text": [
      "[(1, 4), (1, 5), (4, 5)]\n",
      "[(1, 4), (1, 5), (4, 1), (4, 5), (5, 1), (5, 4)]\n"
     ]
    }
   ],
   "source": [
    "from itertools import combinations, permutations\n",
    "a = list([1,4,5])\n",
    "print(list(combinations(a,2)))\n",
    "print(list(permutations(a,2)))"
   ]
  },
  {
   "cell_type": "code",
   "execution_count": 309,
   "metadata": {},
   "outputs": [
    {
     "name": "stdout",
     "output_type": "stream",
     "text": [
      "[(1, 1), (1, 2), (1, 3), (2, 2), (2, 3), (3, 3)]\n",
      "[(1, 2), (1, 3), (2, 3)]\n"
     ]
    }
   ],
   "source": [
    "from itertools import combinations, combinations_with_replacement\n",
    "values = [1,2,3]\n",
    "print(list(combinations_with_replacement(values,2)))\n",
    "print(list(combinations(values,2)))"
   ]
  },
  {
   "cell_type": "code",
   "execution_count": 311,
   "metadata": {},
   "outputs": [],
   "source": []
  },
  {
   "cell_type": "code",
   "execution_count": 35,
   "metadata": {},
   "outputs": [
    {
     "data": {
      "text/plain": [
       "array([[1, 2, 2, 4, 2, 4, 3],\n",
       "       [1, 4, 3, 6, 5, 4, 6]])"
      ]
     },
     "execution_count": 35,
     "metadata": {},
     "output_type": "execute_result"
    }
   ],
   "source": [
    "import numpy as np\n",
    "values = np.array([[1,2,2,4,2,4,3], [1,4,3,6,5,4,6]])\n",
    "values"
   ]
  },
  {
   "cell_type": "code",
   "execution_count": 62,
   "metadata": {},
   "outputs": [
    {
     "data": {
      "text/plain": [
       "array([3, 5, 6, 1, 2])"
      ]
     },
     "execution_count": 62,
     "metadata": {},
     "output_type": "execute_result"
    }
   ],
   "source": [
    "s = np.argsort(-values,1)[0][:5]\n",
    "s"
   ]
  },
  {
   "cell_type": "code",
   "execution_count": 58,
   "metadata": {},
   "outputs": [
    {
     "data": {
      "text/plain": [
       "tensor([3, 5, 6, 1, 2])"
      ]
     },
     "execution_count": 58,
     "metadata": {},
     "output_type": "execute_result"
    }
   ],
   "source": [
    "import torch\n",
    "t = torch.tensor(s)\n",
    "t"
   ]
  },
  {
   "cell_type": "code",
   "execution_count": 61,
   "metadata": {},
   "outputs": [
    {
     "data": {
      "text/plain": [
       "tensor([3, 5])"
      ]
     },
     "execution_count": 61,
     "metadata": {},
     "output_type": "execute_result"
    }
   ],
   "source": [
    "t[:2]"
   ]
  },
  {
   "cell_type": "code",
   "execution_count": 66,
   "metadata": {},
   "outputs": [
    {
     "data": {
      "text/plain": [
       "['giorgio', 'mondauto']"
      ]
     },
     "execution_count": 66,
     "metadata": {},
     "output_type": "execute_result"
    }
   ],
   "source": [
    "from itertools import compress\n",
    "values = [1,-2,-4,3]\n",
    "names = ['giorgio','antonio','p','mondauto']\n",
    "values_pos = [n>0 for n in values]\n",
    "list(compress(names,values_pos))"
   ]
  },
  {
   "cell_type": "code",
   "execution_count": 72,
   "metadata": {},
   "outputs": [
    {
     "name": "stdout",
     "output_type": "stream",
     "text": [
      "[(1, -2), (1, -4), (1, 3), (-2, -4), (-2, 3), (-4, 3)]\n",
      "%%%%%%%%%%\n",
      "[(1, -2), (1, -4), (1, 3), (-2, 1), (-2, -4), (-2, 3), (-4, 1), (-4, -2), (-4, 3), (3, 1), (3, -2), (3, -4)]\n"
     ]
    }
   ],
   "source": [
    "from itertools import combinations, permutations\n",
    "print(list(combinations(values,2)))\n",
    "print(10*'%')\n",
    "print(list(permutations(values,2)))"
   ]
  },
  {
   "cell_type": "code",
   "execution_count": 75,
   "metadata": {},
   "outputs": [
    {
     "data": {
      "text/plain": [
       "['giorgio', 'antonio', 'p', 'mondauto', 'p', 'mondauto', 'p', 'mondauto']"
      ]
     },
     "execution_count": 75,
     "metadata": {},
     "output_type": "execute_result"
    }
   ],
   "source": [
    "from collections import Counter\n",
    "names.append('p')\n",
    "names.append('mondauto')\n",
    "names"
   ]
  },
  {
   "cell_type": "code",
   "execution_count": 88,
   "metadata": {},
   "outputs": [
    {
     "data": {
      "text/plain": [
       "[('p', 3)]"
      ]
     },
     "execution_count": 88,
     "metadata": {},
     "output_type": "execute_result"
    }
   ],
   "source": [
    "word_counter = Counter(names)\n",
    "word_counter.most_common(1)"
   ]
  },
  {
   "cell_type": "code",
   "execution_count": 106,
   "metadata": {},
   "outputs": [
    {
     "data": {
      "text/plain": [
       "deque([1, 2])"
      ]
     },
     "execution_count": 106,
     "metadata": {},
     "output_type": "execute_result"
    }
   ],
   "source": [
    "from collections import deque\n",
    "\n",
    "values = deque(maxlen = 2)\n",
    "values.append(1)\n",
    "values.append(2)\n",
    "values"
   ]
  },
  {
   "cell_type": "code",
   "execution_count": 128,
   "metadata": {
    "collapsed": true
   },
   "outputs": [],
   "source": [
    "from collections import ChainMap\n",
    "a = {'a': [1,2]}\n",
    "b = {'s': 4}"
   ]
  },
  {
   "cell_type": "code",
   "execution_count": 129,
   "metadata": {},
   "outputs": [
    {
     "data": {
      "text/plain": [
       "ChainMap({'a': [1, 2]}, {'s': 4})"
      ]
     },
     "execution_count": 129,
     "metadata": {},
     "output_type": "execute_result"
    }
   ],
   "source": [
    "t = ChainMap(a,b)\n",
    "t"
   ]
  },
  {
   "cell_type": "code",
   "execution_count": 126,
   "metadata": {},
   "outputs": [
    {
     "data": {
      "text/plain": [
       "{'a': [1, 2], 's': 4}"
      ]
     },
     "execution_count": 126,
     "metadata": {},
     "output_type": "execute_result"
    }
   ],
   "source": [
    "a.update(b)\n",
    "a"
   ]
  },
  {
   "cell_type": "code",
   "execution_count": 134,
   "metadata": {},
   "outputs": [
    {
     "data": {
      "text/plain": [
       "{'a': [1, 2], 'd': [1, 4, 3], 'b': 2, 'z': [4, 3]}"
      ]
     },
     "execution_count": 134,
     "metadata": {},
     "output_type": "execute_result"
    }
   ],
   "source": [
    "a"
   ]
  },
  {
   "cell_type": "code",
   "execution_count": 145,
   "metadata": {},
   "outputs": [
    {
     "name": "stdout",
     "output_type": "stream",
     "text": [
      "OrderedDict([('a', [1, 2]), ('b', 2), ('d', [1, 4, 3]), ('z', [4, 3])])\n",
      "<class 'collections.OrderedDict'>\n"
     ]
    }
   ],
   "source": [
    "from collections import OrderedDict\n",
    "x = OrderedDict(sorted(a.items(),key = lambda x: x[0]))\n",
    "print(x)\n",
    "print(type(x))"
   ]
  },
  {
   "cell_type": "code",
   "execution_count": 146,
   "metadata": {},
   "outputs": [
    {
     "name": "stdout",
     "output_type": "stream",
     "text": [
      "[('a', [1, 2]), ('b', 2), ('d', [1, 4, 3]), ('z', [4, 3])]\n",
      "<class 'list'>\n"
     ]
    }
   ],
   "source": [
    "y = sorted(a.items(),key = lambda x: x[0])\n",
    "print(y)\n",
    "print(type(y))"
   ]
  },
  {
   "cell_type": "code",
   "execution_count": 186,
   "metadata": {
    "collapsed": true
   },
   "outputs": [],
   "source": [
    "from collections import defaultdict\n",
    "t = defaultdict(lambda: 'NaN')\n",
    "t['a'] = 4\n",
    "t.update({'c':3})"
   ]
  },
  {
   "cell_type": "code",
   "execution_count": 188,
   "metadata": {},
   "outputs": [
    {
     "data": {
      "text/plain": [
       "'NaN'"
      ]
     },
     "execution_count": 188,
     "metadata": {},
     "output_type": "execute_result"
    }
   ],
   "source": [
    "t['b']"
   ]
  },
  {
   "cell_type": "code",
   "execution_count": 1,
   "metadata": {},
   "outputs": [
    {
     "data": {
      "text/plain": [
       "[('TX', 'Austin'),\n",
       " ('TX', 'Houston'),\n",
       " ('NY', 'Albany'),\n",
       " ('NY', 'Syracuse'),\n",
       " ('NY', 'Buffalo'),\n",
       " ('NY', 'Rochester'),\n",
       " ('TX', 'Dallas'),\n",
       " ('CA', 'Sacramento'),\n",
       " ('CA', 'Palo Alto'),\n",
       " ('GA', 'Atlanta')]"
      ]
     },
     "execution_count": 1,
     "metadata": {},
     "output_type": "execute_result"
    }
   ],
   "source": [
    "city_list = [('TX','Austin'), ('TX','Houston'),\n",
    "             ('NY','Albany'), ('NY', 'Syracuse'),\n",
    "             ('NY', 'Buffalo'), ('NY', 'Rochester'),\n",
    "             ('TX', 'Dallas'), ('CA','Sacramento'),\n",
    "             ('CA', 'Palo Alto'), ('GA', 'Atlanta')]\n",
    "city_list"
   ]
  },
  {
   "cell_type": "code",
   "execution_count": 181,
   "metadata": {},
   "outputs": [
    {
     "data": {
      "text/plain": [
       "defaultdict(list,\n",
       "            {'TX': ['Austin', 'Houston', 'Dallas'],\n",
       "             'NY': ['Albany', 'Syracuse', 'Buffalo', 'Rochester'],\n",
       "             'CA': ['Sacramento', 'Palo Alto'],\n",
       "             'GA': ['Atlanta']})"
      ]
     },
     "execution_count": 181,
     "metadata": {},
     "output_type": "execute_result"
    }
   ],
   "source": [
    "city_dict = defaultdict(list)\n",
    "for state,city in city_list:\n",
    "    city_dict[state].append(city)\n",
    "    \n",
    "city_dict"
   ]
  },
  {
   "cell_type": "code",
   "execution_count": 185,
   "metadata": {},
   "outputs": [
    {
     "data": {
      "text/plain": [
       "[('CA', ['Sacramento', 'Palo Alto']),\n",
       " ('GA', ['Atlanta']),\n",
       " ('NY', ['Albany', 'Syracuse', 'Buffalo', 'Rochester']),\n",
       " ('TX', ['Austin', 'Houston', 'Dallas'])]"
      ]
     },
     "execution_count": 185,
     "metadata": {},
     "output_type": "execute_result"
    }
   ],
   "source": [
    "sorted(city_dict.items(), key = lambda x: x[0])"
   ]
  },
  {
   "cell_type": "code",
   "execution_count": 29,
   "metadata": {},
   "outputs": [
    {
     "data": {
      "text/plain": [
       "[('antonio', '26'), ('jina', '30'), ('giorgio', '45')]"
      ]
     },
     "execution_count": 29,
     "metadata": {},
     "output_type": "execute_result"
    }
   ],
   "source": [
    "library = [('antonio','26'),('jina','30'), ('giorgio','45')]\n",
    "library"
   ]
  },
  {
   "cell_type": "code",
   "execution_count": 30,
   "metadata": {},
   "outputs": [
    {
     "data": {
      "text/plain": [
       "{'antonio': '26', 'jina': '30', 'giorgio': '45'}"
      ]
     },
     "execution_count": 30,
     "metadata": {},
     "output_type": "execute_result"
    }
   ],
   "source": [
    "s = dict(library)\n",
    "s"
   ]
  },
  {
   "cell_type": "code",
   "execution_count": 33,
   "metadata": {},
   "outputs": [],
   "source": [
    "from collections import defaultdict\n",
    "library_dict = defaultdict(list)\n",
    "for name,age in library:\n",
    "    library_dict[name]= age"
   ]
  },
  {
   "cell_type": "code",
   "execution_count": 67,
   "metadata": {},
   "outputs": [
    {
     "data": {
      "text/plain": [
       "defaultdict(list, {'antonio': '26', 'jina': '30', 'giorgio': '45'})"
      ]
     },
     "execution_count": 67,
     "metadata": {},
     "output_type": "execute_result"
    }
   ],
   "source": [
    "library_dict"
   ]
  },
  {
   "cell_type": "code",
   "execution_count": 101,
   "metadata": {},
   "outputs": [
    {
     "data": {
      "text/plain": [
       "array([ 1, 10, 19,  2,  2])"
      ]
     },
     "execution_count": 101,
     "metadata": {},
     "output_type": "execute_result"
    }
   ],
   "source": [
    "import heapq\n",
    "import numpy as np\n",
    "values = np.array([1,10,19,2,2])\n",
    "values"
   ]
  },
  {
   "cell_type": "code",
   "execution_count": 55,
   "metadata": {},
   "outputs": [
    {
     "data": {
      "text/plain": [
       "[19, 10]"
      ]
     },
     "execution_count": 55,
     "metadata": {},
     "output_type": "execute_result"
    }
   ],
   "source": [
    "heapq.nlargest(2,values)"
   ]
  },
  {
   "cell_type": "code",
   "execution_count": 68,
   "metadata": {},
   "outputs": [
    {
     "data": {
      "text/plain": [
       "'antonio'"
      ]
     },
     "execution_count": 68,
     "metadata": {},
     "output_type": "execute_result"
    }
   ],
   "source": [
    "def get_key(val,dictionary):\n",
    "    for key, value in dictionary.items():\n",
    "        if val == value:\n",
    "            return key\n",
    "get_key('26',library_dict)"
   ]
  },
  {
   "cell_type": "markdown",
   "metadata": {},
   "source": [
    "### Text Manipulation"
   ]
  },
  {
   "cell_type": "code",
   "execution_count": 87,
   "metadata": {
    "collapsed": true
   },
   "outputs": [],
   "source": [
    "import re\n",
    "line = 'asdf fjdk; afed, fjek, asdf, foo'"
   ]
  },
  {
   "cell_type": "code",
   "execution_count": 93,
   "metadata": {},
   "outputs": [
    {
     "data": {
      "text/plain": [
       "['asdf', 'fjdk', 'afed', 'fjek', 'asdf', 'foo']"
      ]
     },
     "execution_count": 93,
     "metadata": {},
     "output_type": "execute_result"
    }
   ],
   "source": [
    "fields = re.split(r'[;,\\s]*\\s',line)  #*/s means derivatives of /s\n",
    "fields"
   ]
  },
  {
   "cell_type": "code",
   "execution_count": 96,
   "metadata": {},
   "outputs": [
    {
     "data": {
      "text/plain": [
       "['asdf', 'afed', 'asdf']"
      ]
     },
     "execution_count": 96,
     "metadata": {},
     "output_type": "execute_result"
    }
   ],
   "source": [
    "fields[::2] # 1-3-5"
   ]
  },
  {
   "cell_type": "code",
   "execution_count": 97,
   "metadata": {},
   "outputs": [
    {
     "data": {
      "text/plain": [
       "['asdf', 'fjek']"
      ]
     },
     "execution_count": 97,
     "metadata": {},
     "output_type": "execute_result"
    }
   ],
   "source": [
    "fields[::3] #1 - 4 - 7"
   ]
  },
  {
   "cell_type": "code",
   "execution_count": 100,
   "metadata": {},
   "outputs": [
    {
     "data": {
      "text/plain": [
       "['fjdk', 'fjek', 'foo', '']"
      ]
     },
     "execution_count": 100,
     "metadata": {},
     "output_type": "execute_result"
    }
   ],
   "source": [
    "fields[1::2] + ['']"
   ]
  },
  {
   "cell_type": "code",
   "execution_count": 124,
   "metadata": {},
   "outputs": [
    {
     "data": {
      "text/plain": [
       "True"
      ]
     },
     "execution_count": 124,
     "metadata": {},
     "output_type": "execute_result"
    }
   ],
   "source": [
    "filename = 'claimsdata.txt'\n",
    "filename.startswith('c')\n",
    "filename.endswith('.txt')"
   ]
  },
  {
   "cell_type": "markdown",
   "metadata": {},
   "source": [
    "### Iterator"
   ]
  },
  {
   "cell_type": "code",
   "execution_count": 230,
   "metadata": {},
   "outputs": [
    {
     "data": {
      "text/plain": [
       "1"
      ]
     },
     "execution_count": 230,
     "metadata": {},
     "output_type": "execute_result"
    }
   ],
   "source": [
    "items = [1, 2, 3]\n",
    "it = iter(items)\n",
    "next(it)"
   ]
  },
  {
   "cell_type": "code",
   "execution_count": 231,
   "metadata": {},
   "outputs": [
    {
     "data": {
      "text/plain": [
       "2"
      ]
     },
     "execution_count": 231,
     "metadata": {},
     "output_type": "execute_result"
    }
   ],
   "source": [
    "next(it)"
   ]
  },
  {
   "cell_type": "code",
   "execution_count": 232,
   "metadata": {},
   "outputs": [
    {
     "data": {
      "text/plain": [
       "3"
      ]
     },
     "execution_count": 232,
     "metadata": {},
     "output_type": "execute_result"
    }
   ],
   "source": [
    "next(it)"
   ]
  },
  {
   "cell_type": "code",
   "execution_count": 248,
   "metadata": {},
   "outputs": [],
   "source": [
    "def frange(start,stop,increment):\n",
    "    x = start\n",
    "    while x < stop:\n",
    "        yield x\n",
    "        x+= increment"
   ]
  },
  {
   "cell_type": "code",
   "execution_count": 249,
   "metadata": {},
   "outputs": [
    {
     "name": "stdout",
     "output_type": "stream",
     "text": [
      "1\n",
      "1.5\n",
      "2.0\n",
      "2.5\n",
      "3.0\n",
      "3.5\n",
      "4.0\n",
      "4.5\n"
     ]
    }
   ],
   "source": [
    "for i in frange(1,5,0.5):\n",
    "    print(i)"
   ]
  },
  {
   "cell_type": "code",
   "execution_count": 250,
   "metadata": {},
   "outputs": [
    {
     "data": {
      "text/plain": [
       "[1, 1.5, 2.0, 2.5, 3.0, 3.5, 4.0, 4.5]"
      ]
     },
     "execution_count": 250,
     "metadata": {},
     "output_type": "execute_result"
    }
   ],
   "source": [
    "list(frange(1,5,0.5))"
   ]
  },
  {
   "cell_type": "code",
   "execution_count": 261,
   "metadata": {
    "collapsed": true
   },
   "outputs": [],
   "source": [
    "def countdown(n):\n",
    "    print('start')\n",
    "    while n>0:\n",
    "        yield n\n",
    "        n -= 1\n",
    "    print('go')"
   ]
  },
  {
   "cell_type": "code",
   "execution_count": 277,
   "metadata": {},
   "outputs": [
    {
     "name": "stdout",
     "output_type": "stream",
     "text": [
      "start\n"
     ]
    },
    {
     "data": {
      "text/plain": [
       "5"
      ]
     },
     "execution_count": 277,
     "metadata": {},
     "output_type": "execute_result"
    }
   ],
   "source": [
    "c = countdown(5)\n",
    "next(c)"
   ]
  },
  {
   "cell_type": "code",
   "execution_count": 278,
   "metadata": {},
   "outputs": [
    {
     "data": {
      "text/plain": [
       "4"
      ]
     },
     "execution_count": 278,
     "metadata": {},
     "output_type": "execute_result"
    }
   ],
   "source": [
    "next(c)"
   ]
  },
  {
   "cell_type": "code",
   "execution_count": 279,
   "metadata": {},
   "outputs": [
    {
     "data": {
      "text/plain": [
       "3"
      ]
     },
     "execution_count": 279,
     "metadata": {},
     "output_type": "execute_result"
    }
   ],
   "source": [
    "next(c)"
   ]
  },
  {
   "cell_type": "code",
   "execution_count": 284,
   "metadata": {},
   "outputs": [
    {
     "name": "stdout",
     "output_type": "stream",
     "text": [
      "4\n",
      "3\n",
      "2\n",
      "1\n"
     ]
    }
   ],
   "source": [
    "a = [1,2,3,4]\n",
    "for i in reversed(a): # reversed \n",
    "    print(i)"
   ]
  },
  {
   "cell_type": "markdown",
   "metadata": {},
   "source": [
    "### from itertools import islice"
   ]
  },
  {
   "cell_type": "code",
   "execution_count": 303,
   "metadata": {},
   "outputs": [
    {
     "name": "stdout",
     "output_type": "stream",
     "text": [
      "a\n",
      "b\n",
      "c\n",
      "1\n",
      "4\n",
      "10\n",
      "15\n"
     ]
    }
   ],
   "source": [
    "from itertools import islice\n",
    "items = ['a', 'b', 'c', 1, 4, 10, 15]\n",
    "for x in islice(items, 0, None):\n",
    "    print(x)"
   ]
  },
  {
   "cell_type": "code",
   "execution_count": 304,
   "metadata": {},
   "outputs": [
    {
     "name": "stdout",
     "output_type": "stream",
     "text": [
      "6\n",
      "5\n",
      "4\n",
      "3\n"
     ]
    }
   ],
   "source": [
    "values = np.array([1,2,4,5,6,5,4,3])\n",
    "for i in islice(values,4,len(values)): # islice\n",
    "    print(i)"
   ]
  },
  {
   "cell_type": "markdown",
   "metadata": {},
   "source": [
    "### enumerate (values, starting_point)"
   ]
  },
  {
   "cell_type": "code",
   "execution_count": 332,
   "metadata": {},
   "outputs": [],
   "source": [
    "from collections import defaultdict\n",
    "items = ['a','c','b']\n",
    "# print(items)\n",
    "dictionary = defaultdict()\n",
    "for idx,item in enumerate(items,0):\n",
    "    dictionary[item]=idx\n",
    "    "
   ]
  },
  {
   "cell_type": "code",
   "execution_count": 333,
   "metadata": {},
   "outputs": [
    {
     "data": {
      "text/plain": [
       "defaultdict(None, {'a': 0, 'c': 1, 'b': 2})"
      ]
     },
     "execution_count": 333,
     "metadata": {},
     "output_type": "execute_result"
    }
   ],
   "source": [
    "dictionary"
   ]
  },
  {
   "cell_type": "code",
   "execution_count": 334,
   "metadata": {},
   "outputs": [
    {
     "data": {
      "text/plain": [
       "[('a', 0), ('b', 2), ('c', 1)]"
      ]
     },
     "execution_count": 334,
     "metadata": {},
     "output_type": "execute_result"
    }
   ],
   "source": [
    "sorted(dictionary.items(), key = lambda x:x[0])"
   ]
  },
  {
   "cell_type": "markdown",
   "metadata": {},
   "source": [
    "#### list of tuples with enumerate"
   ]
  },
  {
   "cell_type": "code",
   "execution_count": 341,
   "metadata": {},
   "outputs": [
    {
     "data": {
      "text/plain": [
       "[(1, 2), (3, 4), (5, 6), (7, 8)]"
      ]
     },
     "execution_count": 341,
     "metadata": {},
     "output_type": "execute_result"
    }
   ],
   "source": [
    "data = [ (1, 2), (3, 4), (5, 6), (7, 8) ]\n",
    "data"
   ]
  },
  {
   "cell_type": "code",
   "execution_count": 342,
   "metadata": {
    "collapsed": true
   },
   "outputs": [],
   "source": [
    "data_dict = defaultdict()\n",
    "for n, (x,y) in enumerate(data):\n",
    "    data_dict[(x,y)] = n\n"
   ]
  },
  {
   "cell_type": "code",
   "execution_count": 343,
   "metadata": {},
   "outputs": [
    {
     "data": {
      "text/plain": [
       "defaultdict(None, {(1, 2): 0, (3, 4): 1, (5, 6): 2, (7, 8): 3})"
      ]
     },
     "execution_count": 343,
     "metadata": {},
     "output_type": "execute_result"
    }
   ],
   "source": [
    "data_dict"
   ]
  },
  {
   "cell_type": "markdown",
   "metadata": {},
   "source": [
    "### Iterating Over Multiple Sequences Simultaneously with zip()"
   ]
  },
  {
   "cell_type": "code",
   "execution_count": 353,
   "metadata": {
    "collapsed": true
   },
   "outputs": [],
   "source": [
    "items = ['a', 'd', 'f' , 'b']\n",
    "values = [1,55,4,3]\n",
    "dict_data = defaultdict()\n",
    "for key,idx in zip(items,values):\n",
    "    dict_data[key] = idx"
   ]
  },
  {
   "cell_type": "code",
   "execution_count": 356,
   "metadata": {},
   "outputs": [
    {
     "name": "stdout",
     "output_type": "stream",
     "text": [
      "defaultdict(None, {'a': 1, 'd': 55, 'f': 4, 'b': 3})\n",
      "[('a', 1), ('b', 3), ('d', 55), ('f', 4)]\n"
     ]
    }
   ],
   "source": [
    "print(dict_data)\n",
    "print(sorted(dict_data.items(), key = lambda x: x[0]))"
   ]
  },
  {
   "cell_type": "code",
   "execution_count": 359,
   "metadata": {},
   "outputs": [
    {
     "data": {
      "text/plain": [
       "['d', 'f']"
      ]
     },
     "execution_count": 359,
     "metadata": {},
     "output_type": "execute_result"
    }
   ],
   "source": [
    "# to repeat compress\n",
    "from itertools import compress\n",
    "values_tr = [n>3 for n in values]\n",
    "list(compress(items,values_tr))"
   ]
  },
  {
   "cell_type": "markdown",
   "metadata": {},
   "source": [
    "#### zip with dict"
   ]
  },
  {
   "cell_type": "code",
   "execution_count": 374,
   "metadata": {},
   "outputs": [
    {
     "data": {
      "text/plain": [
       "{'name': 11, 'shares': 100, 'price': 490.1}"
      ]
     },
     "execution_count": 374,
     "metadata": {},
     "output_type": "execute_result"
    }
   ],
   "source": [
    "headers = ['name', 'shares', 'price']\n",
    "values = [11, 100, 490.1]\n",
    "dict_data = dict(zip(headers,values))\n",
    "dict_data"
   ]
  },
  {
   "cell_type": "markdown",
   "metadata": {},
   "source": [
    "### from itertools import chain"
   ]
  },
  {
   "cell_type": "code",
   "execution_count": 377,
   "metadata": {},
   "outputs": [
    {
     "data": {
      "text/plain": [
       "['name', 'shares', 'price', 11, 100, 490.1]"
      ]
     },
     "execution_count": 377,
     "metadata": {},
     "output_type": "execute_result"
    }
   ],
   "source": [
    "from itertools import chain\n",
    "headers = ['name', 'shares', 'price']\n",
    "values = [11, 100, 490.1]\n",
    "list(chain(headers,values))\n",
    "#headers + values but chain workes better and faster"
   ]
  },
  {
   "cell_type": "code",
   "execution_count": 395,
   "metadata": {},
   "outputs": [
    {
     "data": {
      "text/plain": [
       "[11.0, 100.0, 490.1, 1, 1, 1]"
      ]
     },
     "execution_count": 395,
     "metadata": {},
     "output_type": "execute_result"
    }
   ],
   "source": [
    "[i.tolist() for x in np.unique(values, return_counts= True) for i in x]"
   ]
  },
  {
   "cell_type": "code",
   "execution_count": 400,
   "metadata": {},
   "outputs": [
    {
     "data": {
      "text/plain": [
       "{11.0: 1, 100.0: 1, 490.1: 1}"
      ]
     },
     "execution_count": 400,
     "metadata": {},
     "output_type": "execute_result"
    }
   ],
   "source": [
    "a = [i.tolist() for i in np.unique(values, return_counts= True)][0]\n",
    "b = [i.tolist() for i in np.unique(values, return_counts= True)][1]\n",
    "dict(zip(a,b))"
   ]
  },
  {
   "cell_type": "code",
   "execution_count": 403,
   "metadata": {},
   "outputs": [
    {
     "data": {
      "text/plain": [
       "[490.1]"
      ]
     },
     "execution_count": 403,
     "metadata": {},
     "output_type": "execute_result"
    }
   ],
   "source": [
    "import heapq\n",
    "heapq.nlargest(1,values)"
   ]
  },
  {
   "cell_type": "code",
   "execution_count": 406,
   "metadata": {},
   "outputs": [
    {
     "data": {
      "text/plain": [
       "[1, 1, 1, 11.0, 100.0, 490.1]"
      ]
     },
     "execution_count": 406,
     "metadata": {},
     "output_type": "execute_result"
    }
   ],
   "source": [
    "list(heapq.merge(a,b))"
   ]
  },
  {
   "cell_type": "code",
   "execution_count": 408,
   "metadata": {},
   "outputs": [
    {
     "data": {
      "text/plain": [
       "[11.0, 100.0, 490.1, 1, 1, 1]"
      ]
     },
     "execution_count": 408,
     "metadata": {},
     "output_type": "execute_result"
    }
   ],
   "source": [
    "list(chain(a,b))"
   ]
  },
  {
   "cell_type": "code",
   "execution_count": 413,
   "metadata": {},
   "outputs": [],
   "source": [
    "values = [1,43,55,2]\n",
    "keys = ['a','b','z','c']\n",
    "val_dict = dict(zip(keys,values))"
   ]
  },
  {
   "cell_type": "code",
   "execution_count": 430,
   "metadata": {},
   "outputs": [
    {
     "name": "stdout",
     "output_type": "stream",
     "text": [
      "0 ('a', 1)\n",
      "1 ('b', 43)\n",
      "2 ('z', 55)\n",
      "3 ('c', 2)\n"
     ]
    }
   ],
   "source": [
    "for t, (key,val) in enumerate(zip(keys,values)):\n",
    "    print(t,(key,val))"
   ]
  },
  {
   "cell_type": "code",
   "execution_count": 434,
   "metadata": {},
   "outputs": [],
   "source": [
    "from itertools import *\n",
    "from collections import *"
   ]
  },
  {
   "cell_type": "code",
   "execution_count": 435,
   "metadata": {
    "collapsed": true
   },
   "outputs": [],
   "source": [
    "values = [1,43,55,2]\n",
    "keys = ['a','b','z','c']"
   ]
  },
  {
   "cell_type": "code",
   "execution_count": 438,
   "metadata": {},
   "outputs": [
    {
     "data": {
      "text/plain": [
       "['a', 'c']"
      ]
     },
     "execution_count": 438,
     "metadata": {},
     "output_type": "execute_result"
    }
   ],
   "source": [
    "bool_values = [n<43 for n in values]\n",
    "list(compress(keys,bool_values))"
   ]
  },
  {
   "cell_type": "code",
   "execution_count": 440,
   "metadata": {},
   "outputs": [
    {
     "data": {
      "text/plain": [
       "[('a', 'b'), ('a', 'z'), ('a', 'c'), ('b', 'z'), ('b', 'c'), ('z', 'c')]"
      ]
     },
     "execution_count": 440,
     "metadata": {},
     "output_type": "execute_result"
    }
   ],
   "source": [
    "list(combinations(keys,2))"
   ]
  },
  {
   "cell_type": "code",
   "execution_count": 442,
   "metadata": {},
   "outputs": [
    {
     "data": {
      "text/plain": [
       "10"
      ]
     },
     "execution_count": 442,
     "metadata": {},
     "output_type": "execute_result"
    }
   ],
   "source": [
    "list(combinations_with_replacement(keys,2))"
   ]
  },
  {
   "cell_type": "code",
   "execution_count": 451,
   "metadata": {},
   "outputs": [
    {
     "data": {
      "text/plain": [
       "12"
      ]
     },
     "execution_count": 451,
     "metadata": {},
     "output_type": "execute_result"
    }
   ],
   "source": [
    "len(list(permutations(keys,2)))"
   ]
  },
  {
   "cell_type": "code",
   "execution_count": 460,
   "metadata": {},
   "outputs": [
    {
     "data": {
      "text/plain": [
       "[('a', 'a'),\n",
       " ('a', 'b'),\n",
       " ('a', 'z'),\n",
       " ('a', 'c'),\n",
       " ('b', 'a'),\n",
       " ('b', 'b'),\n",
       " ('b', 'z'),\n",
       " ('b', 'c'),\n",
       " ('z', 'a'),\n",
       " ('z', 'b'),\n",
       " ('z', 'z'),\n",
       " ('z', 'c'),\n",
       " ('c', 'a'),\n",
       " ('c', 'b'),\n",
       " ('c', 'z'),\n",
       " ('c', 'c')]"
      ]
     },
     "execution_count": 460,
     "metadata": {},
     "output_type": "execute_result"
    }
   ],
   "source": [
    "list(product(keys,repeat = 2))"
   ]
  },
  {
   "cell_type": "code",
   "execution_count": 464,
   "metadata": {},
   "outputs": [
    {
     "data": {
      "text/plain": [
       "['a', 'b', 'z', 'c']"
      ]
     },
     "execution_count": 464,
     "metadata": {},
     "output_type": "execute_result"
    }
   ],
   "source": [
    "list(islice(keys,4))"
   ]
  },
  {
   "cell_type": "code",
   "execution_count": 470,
   "metadata": {},
   "outputs": [
    {
     "data": {
      "text/plain": [
       "Counter({'a': 1, 'b': 1, 'z': 1, 'c': 1})"
      ]
     },
     "execution_count": 470,
     "metadata": {},
     "output_type": "execute_result"
    }
   ],
   "source": [
    "key_count = Counter(keys)\n",
    "key_count"
   ]
  },
  {
   "cell_type": "code",
   "execution_count": 481,
   "metadata": {},
   "outputs": [
    {
     "data": {
      "text/plain": [
       "deque([4])"
      ]
     },
     "execution_count": 481,
     "metadata": {},
     "output_type": "execute_result"
    }
   ],
   "source": [
    "a = deque(maxlen = 2)\n",
    "a.append(2)\n",
    "a.append(3)\n",
    "a.appendleft(4)\n",
    "a.pop()\n",
    "a"
   ]
  },
  {
   "cell_type": "code",
   "execution_count": 485,
   "metadata": {},
   "outputs": [
    {
     "data": {
      "text/plain": [
       "['a', 'b', 'c', 'z']"
      ]
     },
     "execution_count": 485,
     "metadata": {},
     "output_type": "execute_result"
    }
   ],
   "source": [
    "sorted(key_count.items(), key = lambda x: x[0])"
   ]
  },
  {
   "cell_type": "code",
   "execution_count": 494,
   "metadata": {},
   "outputs": [
    {
     "data": {
      "text/plain": [
       "defaultdict(list, {'a': 1, 'b': 43, 'z': 55, 'c': 2})"
      ]
     },
     "execution_count": 494,
     "metadata": {},
     "output_type": "execute_result"
    }
   ],
   "source": [
    "dict_list = defaultdict(list)\n",
    "for key,val in zip(keys,values):\n",
    "    dict_list[key] = val\n",
    "dict_list"
   ]
  },
  {
   "cell_type": "code",
   "execution_count": 495,
   "metadata": {},
   "outputs": [],
   "source": [
    "b=ChainMap(dict_list,key_count)"
   ]
  },
  {
   "cell_type": "code",
   "execution_count": 496,
   "metadata": {},
   "outputs": [
    {
     "data": {
      "text/plain": [
       "ItemsView(ChainMap(defaultdict(<class 'list'>, {'a': 1, 'b': 43, 'z': 55, 'c': 2}), Counter({'a': 1, 'b': 1, 'z': 1, 'c': 1})))"
      ]
     },
     "execution_count": 496,
     "metadata": {},
     "output_type": "execute_result"
    }
   ],
   "source": [
    "b.items()"
   ]
  },
  {
   "cell_type": "code",
   "execution_count": 525,
   "metadata": {},
   "outputs": [],
   "source": [
    "values = ['a','a','a','b','c','b','c','c','a']\n",
    "count_unique = np.unique(np.array(values),return_counts = True)\n"
   ]
  },
  {
   "cell_type": "code",
   "execution_count": 526,
   "metadata": {},
   "outputs": [
    {
     "data": {
      "text/plain": [
       "{'a': 4, 'b': 2, 'c': 3}"
      ]
     },
     "execution_count": 526,
     "metadata": {},
     "output_type": "execute_result"
    }
   ],
   "source": [
    "dictionary = dict()\n",
    "for key,val in zip(count_unique[0].tolist(),count_unique[1].tolist()):\n",
    "    dictionary[key] = val\n",
    "dictionary"
   ]
  },
  {
   "cell_type": "code",
   "execution_count": 539,
   "metadata": {},
   "outputs": [],
   "source": [
    "def get_key(key_input,dict_g):\n",
    "    for key,val in dict_g.items():\n",
    "        if key == key_input:\n",
    "            return val"
   ]
  },
  {
   "cell_type": "code",
   "execution_count": 540,
   "metadata": {},
   "outputs": [
    {
     "data": {
      "text/plain": [
       "4"
      ]
     },
     "execution_count": 540,
     "metadata": {},
     "output_type": "execute_result"
    }
   ],
   "source": [
    "get_key('a',dictionary)"
   ]
  },
  {
   "cell_type": "code",
   "execution_count": null,
   "metadata": {
    "collapsed": true
   },
   "outputs": [],
   "source": []
  },
  {
   "cell_type": "code",
   "execution_count": null,
   "metadata": {
    "collapsed": true
   },
   "outputs": [],
   "source": []
  }
 ],
 "metadata": {
  "kernelspec": {
   "display_name": "Python 3",
   "language": "python",
   "name": "python3"
  },
  "language_info": {
   "codemirror_mode": {
    "name": "ipython",
    "version": 3
   },
   "file_extension": ".py",
   "mimetype": "text/x-python",
   "name": "python",
   "nbconvert_exporter": "python",
   "pygments_lexer": "ipython3",
   "version": "3.6.9"
  }
 },
 "nbformat": 4,
 "nbformat_minor": 2
}
