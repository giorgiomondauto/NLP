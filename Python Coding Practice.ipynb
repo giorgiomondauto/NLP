{
 "cells": [
  {
   "cell_type": "markdown",
   "metadata": {},
   "source": [
    "Given an array of integers, return indices of the two numbers such that they add up to a specific target.\n",
    "\n",
    "You may assume that each input would have exactly one solution, and you may not use the same element twice.\n",
    "\n",
    "Example:\n",
    "\n",
    "Given nums = [2, 7, 11, 15], target = 9,\n",
    "\n",
    "Because nums[0] + nums[1] = 2 + 7 = 9,\n",
    "return [0, 1]."
   ]
  },
  {
   "cell_type": "code",
   "execution_count": 50,
   "metadata": {},
   "outputs": [
    {
     "data": {
      "text/plain": [
       "{0: 2, 1: 7}"
      ]
     },
     "execution_count": 50,
     "metadata": {},
     "output_type": "execute_result"
    }
   ],
   "source": [
    "# from web\n",
    "class Subject():\n",
    "    def twosum(self, nums, target):\n",
    "        lookup = {}\n",
    "        for cnt, num in enumerate(nums):\n",
    "            if target - num in lookup:\n",
    "                return lookup[target-num], cnt\n",
    "            lookup[num] = cnt \n",
    "\n",
    "nums = [2, 7, 11, 15]\n",
    "target = 9\n",
    "twosum(nums, target)"
   ]
  },
  {
   "cell_type": "code",
   "execution_count": 34,
   "metadata": {
    "collapsed": true
   },
   "outputs": [],
   "source": [
    "# my solution\n",
    "def twosum(nums, target):\n",
    "    solution = {}\n",
    "    for i,n in enumerate(nums):\n",
    "        if (target - n) in nums:\n",
    "            solution[i] = n\n",
    "    return solution"
   ]
  },
  {
   "cell_type": "code",
   "execution_count": 35,
   "metadata": {},
   "outputs": [
    {
     "data": {
      "text/plain": [
       "{0: 2, 1: 7}"
      ]
     },
     "execution_count": 35,
     "metadata": {},
     "output_type": "execute_result"
    }
   ],
   "source": [
    "nums = [2, 7, 11, 15]\n",
    "target = 9\n",
    "twosum(nums, target)"
   ]
  },
  {
   "cell_type": "markdown",
   "metadata": {},
   "source": [
    "NO IDEA:\n",
    "You are given two non-empty linked lists representing two non-negative integers. The digits are stored in reverse order and each of their nodes contain a single digit. Add the two numbers and return it as a linked list.\n",
    "\n",
    "You may assume the two numbers do not contain any leading zero, except the number 0 itself."
   ]
  },
  {
   "cell_type": "code",
   "execution_count": 39,
   "metadata": {
    "collapsed": true
   },
   "outputs": [],
   "source": [
    "# def lengthOfLongestSubstring(word):\n",
    "#     n = len(word)\n",
    "#     longest = 0\n",
    "#     for i in range(n):\n",
    "#         seen = set()\n",
    "#         for j in range(i, n):\n",
    "#             if word[j] in seen: break\n",
    "#             seen.add(word[j])\n",
    "#         longest = max(len(seen), longest)\n",
    "#     return longest"
   ]
  },
  {
   "cell_type": "code",
   "execution_count": 41,
   "metadata": {},
   "outputs": [
    {
     "data": {
      "text/plain": [
       "4"
      ]
     },
     "execution_count": 41,
     "metadata": {},
     "output_type": "execute_result"
    }
   ],
   "source": [
    "lengthOfLongestSubstring('abcad')"
   ]
  },
  {
   "cell_type": "markdown",
   "metadata": {
    "collapsed": true
   },
   "source": [
    "Count ways to express a number as sum of consecutive numbers\n",
    "Given a number N, find the number of ways to represent this number as a sum of 2 or more consecutive natural numbers."
   ]
  },
  {
   "cell_type": "markdown",
   "metadata": {},
   "source": [
    "## Find minimum difference between any two elements | Set 2"
   ]
  },
  {
   "cell_type": "code",
   "execution_count": 65,
   "metadata": {},
   "outputs": [
    {
     "name": "stdout",
     "output_type": "stream",
     "text": [
      "the function took 0.000026 to run\n",
      "2\n"
     ]
    }
   ],
   "source": [
    "import numpy as np\n",
    "import itertools\n",
    "import time\n",
    "def min_abs_diff(values):\n",
    "    start_time = time.time()\n",
    "    #print('values: {}'.format(values))\n",
    "    combinations = set(list(itertools.permutations(values, 2)))\n",
    "    results = []\n",
    "    for i in combinations:\n",
    "        results.append(abs(i[0] - i[1]))\n",
    "    print('the function took {:5f} to run'.format(time.time() - start_time))\n",
    "    return(min(set(results)))\n",
    "values = np.array([9,11,21,23])\n",
    "print(min_abs_diff(values))"
   ]
  },
  {
   "cell_type": "markdown",
   "metadata": {},
   "source": [
    "### Number of subsets with zero sum"
   ]
  },
  {
   "cell_type": "code",
   "execution_count": 66,
   "metadata": {},
   "outputs": [
    {
     "name": "stdout",
     "output_type": "stream",
     "text": [
      "4\n"
     ]
    }
   ],
   "source": [
    "import numpy as np\n",
    "import itertools\n",
    "values = np.array([2,2,-8,-4,4])\n",
    "\n",
    "#print(sum(values))\n",
    "\n",
    "#print(list(itertools.combinations(values,2)))\n",
    "combinations = []\n",
    "def subset_sum_0(values):\n",
    "    '''comment'''\n",
    "    for i in range (0,values.shape[0] + 1):\n",
    "        combinations.append(list(itertools.combinations(values,i)))\n",
    "    items = [s for x in combinations for s in x] # to concatenate lists into one long list.\n",
    "    cnt = 0\n",
    "    for c in items:\n",
    "        if sum(c) == 0:\n",
    "            cnt += 1\n",
    "    return cnt\n",
    "\n",
    "\n",
    "print(subset_sum_0(values))"
   ]
  },
  {
   "cell_type": "markdown",
   "metadata": {},
   "source": [
    "### Pair with largest sum which is less than K in the array\n",
    "https://www.geeksforgeeks.org/pair-with-largest-sum-which-is-less-than-k-in-the-array/"
   ]
  },
  {
   "cell_type": "code",
   "execution_count": 78,
   "metadata": {},
   "outputs": [
    {
     "name": "stdout",
     "output_type": "stream",
     "text": [
      "it took 0.000025\n",
      "{'values': (100, 10), 'sum': 110}\n"
     ]
    }
   ],
   "source": [
    "import itertools\n",
    "import numpy as np\n",
    "import time\n",
    "\n",
    "\n",
    "values =np.array([5, 20, 110, 100, 10])\n",
    "dictionary = {}\n",
    "k = 120\n",
    "c = 2 \n",
    "def max_sum_pair(values,k,c):\n",
    "    start_time = time.time()\n",
    "    combinations = list(itertools.combinations(values,c))\n",
    "    for pairs in combinations:\n",
    "        if sum(pairs) < k:\n",
    "            score = pairs[0] + pairs[1]\n",
    "            dictionary = {'values':pairs,'sum':score}\n",
    "    print('it took {:5f}'.format(time.time() - start_time))\n",
    "    return dictionary\n",
    "\n",
    "        \n",
    "print(max_sum_pair(values,k,c))"
   ]
  },
  {
   "cell_type": "markdown",
   "metadata": {},
   "source": [
    "### Greatest contiguous sub-array of size K\n",
    "Given an array arr[] of integers and an integer K, the task is to find the greatest contiguous sub-array of size K. Sub-array X is said to be greater than sub-array Y if the first non-matching element in both the sub-arrays has a greater value in X than in Y."
   ]
  },
  {
   "cell_type": "code",
   "execution_count": 109,
   "metadata": {},
   "outputs": [
    {
     "data": {
      "text/plain": [
       "[4, 3, 2, 5]"
      ]
     },
     "execution_count": 109,
     "metadata": {},
     "output_type": "execute_result"
    }
   ],
   "source": [
    "import numpy as np\n",
    "\n",
    "def possible_subarrays(values,k):\n",
    "    i = 0\n",
    "    list_values = []\n",
    "    while i < len(values) + 1:\n",
    "        if len(values[i:k]) > 1 :\n",
    "            list_values.append(values[i:k].tolist())\n",
    "        i +=1\n",
    "        k+=1\n",
    "    \n",
    "    a = []\n",
    "    for val in list_values:\n",
    "        a.append(val[0])\n",
    "    result = list_values[a.index(max(a))]\n",
    "    return result"
   ]
  },
  {
   "cell_type": "code",
   "execution_count": 110,
   "metadata": {},
   "outputs": [
    {
     "data": {
      "text/plain": [
       "[4, 3, 2, 5]"
      ]
     },
     "execution_count": 110,
     "metadata": {},
     "output_type": "execute_result"
    }
   ],
   "source": [
    "values = np.array([1, 4, 3, 2, 5])\n",
    "k = 4\n",
    "possible_subarrays(values,k)"
   ]
  },
  {
   "cell_type": "code",
   "execution_count": 111,
   "metadata": {},
   "outputs": [
    {
     "data": {
      "text/plain": [
       "[9, 2, 7]"
      ]
     },
     "execution_count": 111,
     "metadata": {},
     "output_type": "execute_result"
    }
   ],
   "source": [
    "values = np.array([1, 9, 2, 7, 9, 3])\n",
    "k = 3\n",
    "possible_subarrays(values,k)"
   ]
  },
  {
   "cell_type": "markdown",
   "metadata": {},
   "source": [
    "### Find the smallest positive number missing from an unsorted array | Set 3\n",
    "Given an unsorted array with both positive and negative elements. The task is to find the smallest positive number missing from the array."
   ]
  },
  {
   "cell_type": "code",
   "execution_count": 115,
   "metadata": {
    "collapsed": true
   },
   "outputs": [],
   "source": [
    "import numpy as np\n",
    "def minint_missvalue(values):\n",
    "    positive_values = values[values>0]\n",
    "    sort_values = np.sort(positive_values) # sort an array wit np.array . if a list, list.sort()\n",
    "    possible_values = []\n",
    "    for i in range(min(sort_values),max(sort_values)):\n",
    "        if (i not in sort_values): # check if an item is in a list, if i not in values\n",
    "            possible_values.append(i)\n",
    "\n",
    "    return min(possible_values)"
   ]
  },
  {
   "cell_type": "code",
   "execution_count": 119,
   "metadata": {},
   "outputs": [
    {
     "name": "stdout",
     "output_type": "stream",
     "text": [
      "3\n",
      "4\n"
     ]
    }
   ],
   "source": [
    "values = np.array([1,5,5,5,2])\n",
    "print(minint_missvalue(values))\n",
    "values_2 = np.array([2, 3, 7, 6, 8, -1, -10, 15])\n",
    "print(minint_missvalue(values_2))"
   ]
  },
  {
   "cell_type": "markdown",
   "metadata": {},
   "source": [
    "### Find the element that appears once"
   ]
  },
  {
   "cell_type": "code",
   "execution_count": 15,
   "metadata": {
    "collapsed": true
   },
   "outputs": [],
   "source": [
    "import numpy as np\n",
    "import pandas as pd\n",
    "\n",
    "def min_count(values):\n",
    "    unique_values, counts = np.unique(values, return_counts = True)\n",
    "    dictionary = dict(zip(unique_values, counts))\n",
    "    return dictionary\n",
    "\n",
    "def get_dict_key(val,dictionary):\n",
    "        for key,value in dictionary.items():\n",
    "            if val == value:\n",
    "                return key\n",
    "            "
   ]
  },
  {
   "cell_type": "code",
   "execution_count": 16,
   "metadata": {},
   "outputs": [
    {
     "data": {
      "text/plain": [
       "2"
      ]
     },
     "execution_count": 16,
     "metadata": {},
     "output_type": "execute_result"
    }
   ],
   "source": [
    "get_dict_key(min(dictionary.values()),dictionary)\n",
    "get_dict_key(1,dictionary)"
   ]
  },
  {
   "cell_type": "markdown",
   "metadata": {},
   "source": [
    "### Find uncommon characters of the two strings | Set 2"
   ]
  },
  {
   "cell_type": "code",
   "execution_count": 76,
   "metadata": {},
   "outputs": [],
   "source": [
    "def uncommon_characters(string1,string2):\n",
    "    c1 = []\n",
    "    c2 = []\n",
    "    result1 = []\n",
    "    result2 = []\n",
    "    for i in string1:\n",
    "        c1.append(i)\n",
    "    for t in string2:\n",
    "        c2.append(t)\n",
    "    \n",
    "    for x in string1:\n",
    "        if x not in string2:\n",
    "            result1.append(x)\n",
    "    for y in string2:\n",
    "        if y not in string1:\n",
    "            result2.append(y)\n",
    "\n",
    "    result = [i for x in [result1,result2] for i in x]\n",
    "    result = set(result)\n",
    "    return result\n",
    "    "
   ]
  },
  {
   "cell_type": "code",
   "execution_count": 77,
   "metadata": {},
   "outputs": [
    {
     "data": {
      "text/plain": [
       "{'c', 'd', 'p', 'q', 'r'}"
      ]
     },
     "execution_count": 77,
     "metadata": {},
     "output_type": "execute_result"
    }
   ],
   "source": [
    "uncommon_characters('abadpq', 'cabr')"
   ]
  },
  {
   "cell_type": "code",
   "execution_count": null,
   "metadata": {
    "collapsed": true
   },
   "outputs": [],
   "source": []
  }
 ],
 "metadata": {
  "kernelspec": {
   "display_name": "Python 3",
   "language": "python",
   "name": "python3"
  },
  "language_info": {
   "codemirror_mode": {
    "name": "ipython",
    "version": 3
   },
   "file_extension": ".py",
   "mimetype": "text/x-python",
   "name": "python",
   "nbconvert_exporter": "python",
   "pygments_lexer": "ipython3",
   "version": "3.6.4"
  }
 },
 "nbformat": 4,
 "nbformat_minor": 2
}
